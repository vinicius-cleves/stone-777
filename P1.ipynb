{
 "cells": [
  {
   "cell_type": "markdown",
   "metadata": {},
   "source": [
    "# Q1 - I/O\n",
    "\n",
    "Crie um programa que lê o nome e a idade de um cliente e imprime uma mensagem confirmando os dados lidos conforme o exemplo:\n",
    "\n",
    "```\n",
    "Digite o nome: Amanda\n",
    "Digite a idade: 18\n",
    "\n",
    "O(a) cliente Amanda, idade 18 anos, foi salvo(a) com sucesso na base de dados\n",
    "```\n",
    "\n",
    "Não precisa de fato salvar na base de dados :)\n",
    "\n",
    "\n",
    "Você deve:\n",
    "1. Ler os dados do cliente (10 pontos)\n",
    "2. Fazer validação da idade, que deve ser entre 0 e 150, inclusivos. (10 pontos)\n",
    "3. Capitalizar a primeira letra do nome do cliente (5 pontos)\n",
    "4. Imprimir, usando string formatada, a mensagem de confirmação (10 pontos)\n",
    "5. `ano` / `anos` deve concordar com a idade na string formatada (5 pontos)"
   ]
  },
  {
   "cell_type": "code",
   "execution_count": 6,
   "metadata": {},
   "outputs": [
    {
     "name": "stdout",
     "output_type": "stream",
     "text": [
      "Digite o nome: Amanda \n",
      "Digite a idade: 18\n",
      "O(a) cliente Amanda , idade 18 anos,foi salvo(a) com sucesso na base de dados\n"
     ]
    }
   ],
   "source": [
    "nome = input('Digite o nome: ')\n",
    "\n",
    "idade = -1\n",
    "while idade < 0 or idade > 150:\n",
    "    idade = int(input('Digite a idade: '))\n",
    "\n",
    "nome = nome.capitalize()\n",
    "print(f'O(a) cliente {nome}, idade {idade} {\"ano\" if idade == 1 else \"anos\"},' \n",
    "      f'foi salvo(a) com sucesso na base de dados')"
   ]
  },
  {
   "cell_type": "markdown",
   "metadata": {},
   "source": [
    "# Q2 - Representação dos dados\n",
    "Suponha uma tabela no banco de dados que corresponda a tabela a seguir:\n",
    "\n",
    "<table>\n",
    "<thead>\n",
    "  <tr>\n",
    "    <th>Id</th>\n",
    "    <th>Nome</th>\n",
    "    <th>Idade</th>\n",
    "    <th>Salario</th>\n",
    "    <th>Data_do_cadastro</th>\n",
    "    <th>Devedor<br></th>\n",
    "  </tr>\n",
    "</thead>\n",
    "<tbody>\n",
    "  <tr>\n",
    "    <td>1</td>\n",
    "    <td>Amanda</td>\n",
    "    <td>20</td>\n",
    "    <td>5000</td>\n",
    "    <td>2018-05-04</td>\n",
    "    <td>N</td>\n",
    "  </tr>\n",
    "  <tr>\n",
    "    <td>2</td>\n",
    "    <td>Bernardo</td>\n",
    "    <td>50</td>\n",
    "    <td>20000</td>\n",
    "    <td>2005-01-20</td>\n",
    "    <td>N</td>\n",
    "  </tr>\n",
    "  <tr>\n",
    "    <td>3</td>\n",
    "    <td>Claudio</td>\n",
    "    <td>22</td>\n",
    "    <td>1200</td>\n",
    "    <td>2019-06-12<br></td>\n",
    "    <td>N</td>\n",
    "  </tr>\n",
    "</tbody>\n",
    "</table>\n",
    "\n",
    "1. Crie uma estrutura de dados em python (usando listas, dicionarios e/ou tuplas) capaz de representar as informações dessa tabela. A estrutura de dados deve acolher tabelas com mais linhas, ou seja, não crie variaveis com nome idade1, idade2, idade3, etc. (20 pontos)\n",
    "2. Faça uma função que receba a estrutura de dados que você criou no item anterior e calcule a média do salário dos clientes (10 pontos)"
   ]
  },
  {
   "cell_type": "code",
   "execution_count": 11,
   "metadata": {},
   "outputs": [],
   "source": [
    "# 1: Voce podia armazenar em lista de dicionários, onde cada dicionario é uma linha, \n",
    "#    ou dicionário de listas, onde cada lista é uma coluna. Lista de dicionarios é melhor, \n",
    "#    já que é mais intuitivo e você garante que as informações estão corretamente associadas\n",
    "#    a cada objeto até no caso de você fazer a mudança de ordem. Ordenar a estrutura de dados\n",
    "#    no caso de dicionario de listas seria mais complicado e poderia esconder erros, já que o \n",
    "#    resultado final pareceria correto de qualquer forma mas você poderia ter cometido algum \n",
    "#    erro na ordenação.\n",
    "#\n",
    "#    Usar lista de listas seria inadequado. Embora ela possa representar as informações da tabela,\n",
    "#    lista de dicionarios permite o acesso muito mais intuitivo, já que você não tem que lembrar \n",
    "#    (ou consultar) a ordem de cada atributo. \n",
    "#\n",
    "#    Se você usou tuplas, você pode ler o que está escrito acima colocando a palavra 'tupla' no \n",
    "#    lugar de 'lista'.\n",
    "\n",
    "tabela = [\n",
    "    {\n",
    "        'Id': 1, \n",
    "        'Nome': 'Amanda', \n",
    "        'Idade': 20, \n",
    "        'Salario': 5000, \n",
    "        'Data_do_cadastro': '2018-05-04', \n",
    "        'Devedor': 'N'\n",
    "    },\n",
    "    {\n",
    "        'Id': 2, \n",
    "        'Nome': 'Bernardo', \n",
    "        'Idade': 50, \n",
    "        'Salario': 20000, \n",
    "        'Data_do_cadastro': '2005-01-20', \n",
    "        'Devedor': 'N'\n",
    "    },\n",
    "    {\n",
    "        'Id': 3, \n",
    "        'Nome': 'Claudio', \n",
    "        'Idade': 22, \n",
    "        'Salario': 1200, \n",
    "        'Data_do_cadastro': '2019-06-12', \n",
    "        'Devedor': 'N'\n",
    "    }\n",
    "]\n"
   ]
  },
  {
   "cell_type": "code",
   "execution_count": 10,
   "metadata": {},
   "outputs": [
    {
     "data": {
      "text/plain": [
       "8733.333333333334"
      ]
     },
     "execution_count": 10,
     "metadata": {},
     "output_type": "execute_result"
    }
   ],
   "source": [
    "# 2 \n",
    "from statistics import mean\n",
    "\n",
    "def calcula_salario_medio(tabela):\n",
    "    salarios = [el['Salario'] for el in tabela]\n",
    "    return mean(salarios)\n",
    "\n",
    "calcula_salario_medio(tabela)"
   ]
  },
  {
   "cell_type": "markdown",
   "metadata": {},
   "source": [
    "# Q3 - Lista de números\n",
    "\n",
    "Faça uma função que crie uma lista de n números aléatorios entre 0 e 100.000 divisiveis por 2 ou 5. (30 pontos)\n",
    "\n",
    "Extra: os números aleatórios devem ter distribuição uniforme, isto é, probabilidades iguais de seram sorteados. (10 pontos)\n",
    "\n"
   ]
  },
  {
   "cell_type": "code",
   "execution_count": 15,
   "metadata": {},
   "outputs": [
    {
     "name": "stdout",
     "output_type": "stream",
     "text": [
      "[51250, 9274, 56310, 67278, 56575]\n",
      "[42090, 61830, 98610, 44132, 1308]\n"
     ]
    }
   ],
   "source": [
    "import random\n",
    "\n",
    "# opção 1\n",
    "def random_div_2_or_5(n):\n",
    "    possibilities = [i for i in range(100001) if i % 2 == 0 or i % 5 == 0]\n",
    "\n",
    "    return random.choices(possibilities, k=n)\n",
    "\n",
    "print(random_div_2_ou_5(5))\n",
    "\n",
    "# opção 2: sem o choices\n",
    "def random_div_2_or_5(n):\n",
    "    possibilities = [i for i in range(100001) if i % 2 == 0 or i % 5 == 0]\n",
    "    \n",
    "    numbers = []\n",
    "    for i in range(n):\n",
    "        drawn_idx = random.randrange(0, len(possibilities))\n",
    "        numbers.append(possibilities[drawn_idx])\n",
    "        \n",
    "    return numbers\n",
    "\n",
    "print(random_div_2_ou_5(5))"
   ]
  },
  {
   "cell_type": "code",
   "execution_count": null,
   "metadata": {},
   "outputs": [],
   "source": []
  }
 ],
 "metadata": {
  "kernelspec": {
   "display_name": "Python 3",
   "language": "python",
   "name": "python3"
  },
  "language_info": {
   "codemirror_mode": {
    "name": "ipython",
    "version": 3
   },
   "file_extension": ".py",
   "mimetype": "text/x-python",
   "name": "python",
   "nbconvert_exporter": "python",
   "pygments_lexer": "ipython3",
   "version": "3.8.3"
  }
 },
 "nbformat": 4,
 "nbformat_minor": 4
}
