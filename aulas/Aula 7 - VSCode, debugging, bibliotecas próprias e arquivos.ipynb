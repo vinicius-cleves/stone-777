{
 "cells": [
  {
   "cell_type": "markdown",
   "metadata": {},
   "source": [
    "# Aula 7 - VSCode, debugging, bibliotecas próprias e arquivos\n",
    "\n"
   ]
  },
  {
   "cell_type": "markdown",
   "metadata": {},
   "source": [
    "______\n",
    "________\n",
    "______"
   ]
  },
  {
   "cell_type": "markdown",
   "metadata": {},
   "source": [
    "## 1) Usando o VSCode\n",
    "\n",
    "E se eu quiser executar meu código fora do jupyter?\n",
    "\n",
    "Para isso, salvamos o arquivo como a extensão \".py\"\n",
    "\n",
    "E poderiamos executar o programa pelo terminal, mas vamos facilitar as coisas e utilizar o __Visual Studio Code__ ou __VSCode__\n",
    "\n",
    "O VSCode é um editor de texto (arquivos de código são arquivos de texto), desenvolvido pela Microsoft para Windows, Linux e macOS. Ele inclui ferramentas como realce de sintaxe e suporte de depuração de código, entre outras ferramentas muito uteis para desenvolvedores.\n",
    "\n",
    "<img src=\"https://terminalroot.com.br/assets/img/python/vscode-python.png\" width=600>\n",
    "\n",
    "### Depuração no VSCode\n",
    "\n",
    "#### O que é depuração no contexto de programação?\n",
    "\n",
    "Detecção e supressão de erros ou falhas num programa informático.\n",
    "\n",
    "\"depuração\", in Dicionário Priberam da Língua Portuguesa [em linha], 2008-2021, https://dicionario.priberam.org/depura%C3%A7%C3%A3o [consultado em 25-05-2021].\n",
    "\n",
    "_______\n",
    "\n",
    "#### Importância da depuração\n",
    "\n",
    "Quando temos uma aplicação grande, um eventual erro de lógica pode estar escondido entre milhares de linhas, em um ponto muito específico. Para isso, existem as ferramentas de depuração.\n",
    "\n",
    "Elas nos permitem executar o código linha por linha, assim nos permitindo avaliar o fluxo da lógica e o comportamento das variáveis com bastante detalhe.\n",
    "_______\n",
    "\n",
    "\n",
    "#### Como usar essa ferramenta\n",
    "\n",
    "https://code.visualstudio.com/docs/python/debugging#_basic-debugging\n",
    "\n",
    "A extensão de python do VSCode fornece uma ferramenta de depuração simples e intuitiva, mas muito poderosa.\n",
    "\n",
    "Quando executamos o código no modo de depuração, o programa será executado normalmente até encontrar um `breakpoint`. Neste momento, a execução é pausada e temos algumas opções na caixa de ferramentas de debbug:\n",
    "\n",
    "<img src=\"https://code.visualstudio.com/assets/docs/editor/debugging/toolbar.png\" width=300>\n",
    "\n",
    "- __Continuar/Pausar__ - retorna com a execução normal, ou força um breakpoint\n",
    "- __Dar um passo afrente__ - executa a linha indicada, avançando mais uma linha\n",
    "- __Dar um passo adentro__ - entra dentro de uma chamada de função\n",
    "- __Dar um passo afora__ -  sai de uma chamada de função\n",
    "- __Reiniciar__ - reinicia a execução\n",
    "- __Parar__ - para a execução\n",
    "\n",
    "_______\n",
    "\n",
    "Agora que sabemos navegar a execução, vamos ver os detalhes que podemos retirar e aplicar ao programa:\n",
    "\n",
    "- __Ver as instâncias das variáveis__\n",
    "- __Acompanhar valores de expressões__\n",
    "- __Acompanhar a pilha de chamadas de funções__\n",
    "\n"
   ]
  },
  {
   "cell_type": "markdown",
   "metadata": {},
   "source": [
    "### Exercicio: encontre o bug\n"
   ]
  },
  {
   "cell_type": "code",
   "execution_count": 10,
   "metadata": {},
   "outputs": [],
   "source": [
    "def append_user(name, users_list):\n",
    "    '''Adiciona o usuario a lista de usuários em ordem alphabetica\n",
    "    \n",
    "    Essa função não é muito realista. Mas imagina que ela poderia receber um\n",
    "    nome e fazer alguma validação no servidor ou pegar mais informações do \n",
    "    usuário para guardar um dicionário com os atributos dele na lista.\n",
    "    '''\n",
    "    users_list.append(name)\n",
    "    users_list = users_list.sort()\n",
    "    return users_list\n",
    "\n",
    "users = []\n",
    "users = append_user('Vinicius', users)\n",
    "users"
   ]
  },
  {
   "cell_type": "code",
   "execution_count": 13,
   "metadata": {},
   "outputs": [
    {
     "data": {
      "text/plain": [
       "['Vinicius']"
      ]
     },
     "execution_count": 13,
     "metadata": {},
     "output_type": "execute_result"
    }
   ],
   "source": [
    "def append_user(name, users_list):\n",
    "    '''Adiciona o usuario a lista de usuários em ordem alphabetica\n",
    "    \n",
    "    Essa função não é muito realista. Mas imagina que ela poderia receber um\n",
    "    nome e fazer alguma validação no servidor ou pegar mais informações do \n",
    "    usuário para guardar um dicionário com os atributos dele na lista.\n",
    "    '''\n",
    "    users_list.append(name)\n",
    "    users_list = sorted(users_list)\n",
    "    return users_list\n",
    "\n",
    "users = []\n",
    "users = append_user('Vinicius', users)\n",
    "users"
   ]
  },
  {
   "cell_type": "code",
   "execution_count": 12,
   "metadata": {},
   "outputs": [
    {
     "data": {
      "text/plain": [
       "['Vinicius']"
      ]
     },
     "execution_count": 12,
     "metadata": {},
     "output_type": "execute_result"
    }
   ],
   "source": [
    "['Vinicius']"
   ]
  },
  {
   "cell_type": "markdown",
   "metadata": {},
   "source": [
    "## 2) Criando e importando nossas próprias bibliotecas\n"
   ]
  },
  {
   "cell_type": "markdown",
   "metadata": {},
   "source": [
    "Para criar as nossas bibliotecas, devemos criar um arquivo '.py' com as funções da biblioteca.\n",
    "\n",
    "Podemos importar essa nova biblioteca, então, como fazemos com qualquer outra. Para isso, usamos o nome do arquivo como nome da biblioteca. \n"
   ]
  },
  {
   "cell_type": "code",
   "execution_count": 15,
   "metadata": {},
   "outputs": [],
   "source": [
    "import minha_biblioteca as mb"
   ]
  },
  {
   "cell_type": "code",
   "execution_count": 16,
   "metadata": {},
   "outputs": [
    {
     "name": "stdout",
     "output_type": "stream",
     "text": [
      "Olá, Vinicius\n"
     ]
    }
   ],
   "source": [
    "mb.cumprimenta('Vinicius')"
   ]
  },
  {
   "cell_type": "code",
   "execution_count": 17,
   "metadata": {},
   "outputs": [],
   "source": [
    "from minha_biblioteca import fatorial"
   ]
  },
  {
   "cell_type": "code",
   "execution_count": 18,
   "metadata": {},
   "outputs": [
    {
     "data": {
      "text/plain": [
       "3628800"
      ]
     },
     "execution_count": 18,
     "metadata": {},
     "output_type": "execute_result"
    }
   ],
   "source": [
    "fatorial(10)"
   ]
  },
  {
   "cell_type": "markdown",
   "metadata": {},
   "source": [
    "E aí, podemos utilizar suas funções em diferentes programas!"
   ]
  },
  {
   "cell_type": "markdown",
   "metadata": {},
   "source": [
    "____\n",
    "____\n",
    "____"
   ]
  },
  {
   "cell_type": "markdown",
   "metadata": {},
   "source": [
    "## 2) Arquivos em Python\n",
    "\n",
    "Todos os programas que fizemos até o momento tinham variáveis, input e output **temporários**, guardados na memória RAM do computador **enquanto o programa é executado**.\n",
    "\n",
    "Após o programa ser finalizado, todas as variáveis, inputs e outputs eram perdidos.\n",
    "\n",
    "Muitas vezes queremos que esses valores sejam armazenados, que os dados processados pelo programa sejam preservados. O termo para esta característica é **persistência de dados**.\n",
    "\n",
    "A persistência se dá através de **arquivos**: documentos criados para **armazenar dados em uma memória permanente**, como o **disco rígido**, um **USB** ou um **servidor web**."
   ]
  },
  {
   "cell_type": "markdown",
   "metadata": {},
   "source": [
    "O Python têm algumas funções padrão para a manipulação de arquivos. Vamos vê-las!"
   ]
  },
  {
   "cell_type": "markdown",
   "metadata": {},
   "source": [
    "A função `open()` é usada pra abrir arquivos existentes ou criar um arquivo novo. \n",
    "\n",
    "Ela possui 2 argumentos principais: o primeiro é o caminho do arquivo, com seu nome (se apenas o nome do arquivo for passado, isso é interpretado como o arquivo estando na mesma pasta que o código!); e o segundo é o modo de operação. Os modos são:\n",
    "\n",
    "- r -\tread: lê um arquivo existente\n",
    "- w -\twrite: cria um novo arquivo\n",
    "- a -\tappend: abre um arquivo existente para adicionar informações ao seu final\n",
    "- \\+ -\tao ser combinado com outros modos, permite alteração de arquivo já existente (ex: r+ abre um arquivo existente e permite modificá-lo)\n",
    "\n",
    "Além disso, você pode abrir os arquivos em modo binario ou textual. Para abrir em modo binario adicione 'b' no final da string do modo, para abrir em modo textual adicione 't' ou não adicione nada, 't' é o padrão.\n",
    "\n",
    "O terceiro argumento é o \"encoding\", que dá a codificação do arquivo. "
   ]
  },
  {
   "cell_type": "code",
   "execution_count": 19,
   "metadata": {},
   "outputs": [],
   "source": [
    "arquivo = open(\"ola.txt\", \"w\", encoding=\"utf-8\")"
   ]
  },
  {
   "cell_type": "markdown",
   "metadata": {},
   "source": [
    "Se analisarmos a variável \"arquivo\" (é o return da função \"open\"), note que há algumas coisas estranhas... É essa a representação do python para o seu arquivo, mas não precisa se preocupar muito com isso"
   ]
  },
  {
   "cell_type": "code",
   "execution_count": 20,
   "metadata": {},
   "outputs": [
    {
     "data": {
      "text/plain": [
       "<_io.TextIOWrapper name='ola.txt' mode='w' encoding='utf-8'>"
      ]
     },
     "execution_count": 20,
     "metadata": {},
     "output_type": "execute_result"
    }
   ],
   "source": [
    "arquivo"
   ]
  },
  {
   "cell_type": "markdown",
   "metadata": {},
   "source": [
    "Uma vez aberto o arquivo, podemos escrever alguma coisa nele. Para isso, usamos a função `write()`\n",
    "\n",
    "Essa função aceita apenas um argumento, que é o que vc quer escrever no arquivo"
   ]
  },
  {
   "cell_type": "code",
   "execution_count": 21,
   "metadata": {},
   "outputs": [
    {
     "data": {
      "text/plain": [
       "10"
      ]
     },
     "execution_count": 21,
     "metadata": {},
     "output_type": "execute_result"
    }
   ],
   "source": [
    "arquivo.write('olá mundo!')"
   ]
  },
  {
   "cell_type": "markdown",
   "metadata": {},
   "source": [
    "Após abrirmos (ou criarmos) um arquivo, e fazer as operações desejadas com ele, devemos fechá-lo usando a função `close()`. Essa etapa é importante por 2 motivos:\n",
    "\n",
    "- Se alteramos o arquivo mas não o fechamos, as alterações não serão salvas.\n",
    "- Se esquecermos de fechar um arquivo, outros programas podem ter problemas de acesso a ele.\n",
    "\n",
    "Por isso, **nunca se esqueca de fechar os arquivos abertos!**"
   ]
  },
  {
   "cell_type": "code",
   "execution_count": 22,
   "metadata": {},
   "outputs": [],
   "source": [
    "arquivo.close()"
   ]
  },
  {
   "cell_type": "markdown",
   "metadata": {},
   "source": [
    "__Fazendo todas as operações em uma única célula__"
   ]
  },
  {
   "cell_type": "code",
   "execution_count": 25,
   "metadata": {},
   "outputs": [
    {
     "ename": "TypeError",
     "evalue": "can only concatenate str (not \"int\") to str",
     "output_type": "error",
     "traceback": [
      "\u001b[0;31m---------------------------------------------------------------------------\u001b[0m",
      "\u001b[0;31mTypeError\u001b[0m                                 Traceback (most recent call last)",
      "\u001b[0;32m<ipython-input-25-79ee477c263c>\u001b[0m in \u001b[0;36m<module>\u001b[0;34m\u001b[0m\n\u001b[1;32m      1\u001b[0m \u001b[0marquivo\u001b[0m \u001b[0;34m=\u001b[0m \u001b[0mopen\u001b[0m\u001b[0;34m(\u001b[0m\u001b[0;34m\"ola.txt\"\u001b[0m\u001b[0;34m,\u001b[0m \u001b[0;34m\"w\"\u001b[0m\u001b[0;34m,\u001b[0m \u001b[0mencoding\u001b[0m\u001b[0;34m=\u001b[0m\u001b[0;34m\"utf-8\"\u001b[0m\u001b[0;34m)\u001b[0m\u001b[0;34m\u001b[0m\u001b[0;34m\u001b[0m\u001b[0m\n\u001b[1;32m      2\u001b[0m \u001b[0marquivo\u001b[0m\u001b[0;34m.\u001b[0m\u001b[0mwrite\u001b[0m\u001b[0;34m(\u001b[0m\u001b[0;34m'olá mundo2!'\u001b[0m\u001b[0;34m)\u001b[0m\u001b[0;34m\u001b[0m\u001b[0;34m\u001b[0m\u001b[0m\n\u001b[0;32m----> 3\u001b[0;31m \u001b[0;34m' 1'\u001b[0m \u001b[0;34m+\u001b[0m \u001b[0;36m0\u001b[0m\u001b[0;34m\u001b[0m\u001b[0;34m\u001b[0m\u001b[0m\n\u001b[0m\u001b[1;32m      4\u001b[0m \u001b[0marquivo\u001b[0m\u001b[0;34m.\u001b[0m\u001b[0mclose\u001b[0m\u001b[0;34m(\u001b[0m\u001b[0;34m)\u001b[0m\u001b[0;34m\u001b[0m\u001b[0;34m\u001b[0m\u001b[0m\n",
      "\u001b[0;31mTypeError\u001b[0m: can only concatenate str (not \"int\") to str"
     ]
    }
   ],
   "source": [
    "arquivo = open(\"ola.txt\", \"w\", encoding=\"utf-8\")\n",
    "arquivo.write('olá mundo2!')\n",
    "' 1' + 0\n",
    "arquivo.close()"
   ]
  },
  {
   "cell_type": "markdown",
   "metadata": {},
   "source": [
    "Para não se esquecer de fechar o arquivo, vamos usar o `with`. O `with` ~automágicamente~ automaticamente fecha o arquivo quando a execução do programa sai de dentro do seu bloco, até se o programa tiver dado um erro lá dentro!!!\n",
    " \n",
    "Em 99.9% das situações, vai ser melhor abrir arquivos junto do `with`. Nos 0.1% restantes, é melhor abrir como fizemos antes e fechar com o `.close()` "
   ]
  },
  {
   "cell_type": "code",
   "execution_count": 34,
   "metadata": {},
   "outputs": [
    {
     "ename": "TypeError",
     "evalue": "can only concatenate str (not \"int\") to str",
     "output_type": "error",
     "traceback": [
      "\u001b[0;31m---------------------------------------------------------------------------\u001b[0m",
      "\u001b[0;31mTypeError\u001b[0m                                 Traceback (most recent call last)",
      "\u001b[0;32m<ipython-input-34-b22feb1bcc65>\u001b[0m in \u001b[0;36m<module>\u001b[0;34m\u001b[0m\n\u001b[1;32m      1\u001b[0m \u001b[0;32mwith\u001b[0m \u001b[0mopen\u001b[0m\u001b[0;34m(\u001b[0m\u001b[0;34m\"ola.txt\"\u001b[0m\u001b[0;34m,\u001b[0m \u001b[0;34m\"w\"\u001b[0m\u001b[0;34m,\u001b[0m \u001b[0mencoding\u001b[0m\u001b[0;34m=\u001b[0m\u001b[0;34m\"utf-8\"\u001b[0m\u001b[0;34m)\u001b[0m \u001b[0;32mas\u001b[0m \u001b[0marquivo\u001b[0m\u001b[0;34m:\u001b[0m\u001b[0;34m\u001b[0m\u001b[0;34m\u001b[0m\u001b[0m\n\u001b[1;32m      2\u001b[0m     \u001b[0marquivo\u001b[0m\u001b[0;34m.\u001b[0m\u001b[0mwrite\u001b[0m\u001b[0;34m(\u001b[0m\u001b[0;34m'olá mundo3!'\u001b[0m\u001b[0;34m)\u001b[0m\u001b[0;34m\u001b[0m\u001b[0;34m\u001b[0m\u001b[0m\n\u001b[0;32m----> 3\u001b[0;31m     \u001b[0;34m' '\u001b[0m\u001b[0;34m+\u001b[0m\u001b[0;36m10\u001b[0m\u001b[0;34m\u001b[0m\u001b[0;34m\u001b[0m\u001b[0m\n\u001b[0m",
      "\u001b[0;31mTypeError\u001b[0m: can only concatenate str (not \"int\") to str"
     ]
    }
   ],
   "source": [
    "with open(\"ola.txt\", \"w\", encoding=\"utf-8\") as arquivo:\n",
    "    arquivo.write('olá mundo3!')\n",
    "    ' '+10"
   ]
  },
  {
   "cell_type": "markdown",
   "metadata": {},
   "source": [
    "Vamos escrever mais algumas coisas no nosso arquivo...\n",
    "\n",
    "Como o arquivo já existe, vamos tentar escrever mais alguma coisa usando o modo \"r\"..."
   ]
  },
  {
   "cell_type": "code",
   "execution_count": 28,
   "metadata": {},
   "outputs": [
    {
     "ename": "UnsupportedOperation",
     "evalue": "not writable",
     "output_type": "error",
     "traceback": [
      "\u001b[0;31m---------------------------------------------------------------------------\u001b[0m",
      "\u001b[0;31mUnsupportedOperation\u001b[0m                      Traceback (most recent call last)",
      "\u001b[0;32m<ipython-input-28-95b06d407186>\u001b[0m in \u001b[0;36m<module>\u001b[0;34m\u001b[0m\n\u001b[1;32m      1\u001b[0m \u001b[0;32mwith\u001b[0m \u001b[0mopen\u001b[0m\u001b[0;34m(\u001b[0m\u001b[0;34m\"ola.txt\"\u001b[0m\u001b[0;34m,\u001b[0m \u001b[0;34m\"r\"\u001b[0m\u001b[0;34m,\u001b[0m \u001b[0mencoding\u001b[0m\u001b[0;34m=\u001b[0m\u001b[0;34m\"utf-8\"\u001b[0m\u001b[0;34m)\u001b[0m \u001b[0;32mas\u001b[0m \u001b[0marquivo\u001b[0m\u001b[0;34m:\u001b[0m\u001b[0;34m\u001b[0m\u001b[0;34m\u001b[0m\u001b[0m\n\u001b[0;32m----> 2\u001b[0;31m     \u001b[0marquivo\u001b[0m\u001b[0;34m.\u001b[0m\u001b[0mwrite\u001b[0m\u001b[0;34m(\u001b[0m\u001b[0;34m'olá mundo3!'\u001b[0m\u001b[0;34m)\u001b[0m\u001b[0;34m\u001b[0m\u001b[0;34m\u001b[0m\u001b[0m\n\u001b[0m",
      "\u001b[0;31mUnsupportedOperation\u001b[0m: not writable"
     ]
    }
   ],
   "source": [
    "with open(\"ola.txt\", \"r\", encoding=\"utf-8\") as arquivo:\n",
    "    arquivo.write('olá mundo3!')"
   ]
  },
  {
   "cell_type": "markdown",
   "metadata": {},
   "source": [
    "Note que encontramos um erro, pois o modo \"r\" permite **apenas a leitura do arquivo**\n",
    "\n",
    "Se quisessemos escrever algo nele, poderiamos usar o \"r+\""
   ]
  },
  {
   "cell_type": "code",
   "execution_count": 29,
   "metadata": {},
   "outputs": [],
   "source": [
    "with open(\"ola.txt\", \"r+\", encoding=\"utf-8\") as arquivo:\n",
    "    arquivo.write('olá!!!')"
   ]
  },
  {
   "cell_type": "markdown",
   "metadata": {},
   "source": [
    "Note, no entanto, que se usarmos o modo \"r+\", o write substitui o conteúdo anterior da primeira linha do arquivo!\n",
    "\n",
    "Para corrigir isso, usamos o modo \"a\", que permite escrever AO FIM do arquivo"
   ]
  },
  {
   "cell_type": "code",
   "execution_count": 35,
   "metadata": {},
   "outputs": [],
   "source": [
    "with open(\"ola.txt\", \"a\", encoding=\"utf-8\") as arquivo:\n",
    "    arquivo.write('olá!!!')"
   ]
  },
  {
   "cell_type": "markdown",
   "metadata": {},
   "source": [
    "Se quisermos escrever em uma nova linha, usamos o \"\\n\":"
   ]
  },
  {
   "cell_type": "code",
   "execution_count": 37,
   "metadata": {},
   "outputs": [],
   "source": [
    "# salva lista de nomes no arquivo, sobrescrevendo\n",
    "nomes = [\"André\", \"João\", \"Maria\"]\n",
    "with open(\"nomes.txt\", \"w\", encoding=\"utf-8\") as arquivo:\n",
    "    for nome in nomes:\n",
    "        arquivo.write(nome + '\\n')"
   ]
  },
  {
   "cell_type": "markdown",
   "metadata": {},
   "source": [
    "Agora, imagina que queremos apenas **ler** o arquivo, sem intenção de modificá-lo.\n",
    "\n",
    "Nesse caso, utilizamos o modo \"r\" do open.\n",
    "\n",
    "Além disso, se quisermos de fato armazenar os dados do arquivo em uma variável do python, usamos a função `read()`"
   ]
  },
  {
   "cell_type": "code",
   "execution_count": 39,
   "metadata": {},
   "outputs": [
    {
     "data": {
      "text/plain": [
       "'olá mundo3!olá!!!'"
      ]
     },
     "execution_count": 39,
     "metadata": {},
     "output_type": "execute_result"
    }
   ],
   "source": [
    "# lê arquivo\n",
    "with open(\"ola.txt\", \"r\", encoding=\"utf-8\") as arquivo:\n",
    "    conteudo = arquivo.read()\n",
    "conteudo"
   ]
  },
  {
   "cell_type": "markdown",
   "metadata": {},
   "source": [
    "A função `read()` lê o que estiver no arquivo em forma de uma string!\n",
    "\n",
    "As quebras de linha serão, portanto, armazenadas como \"\\n\"."
   ]
  },
  {
   "cell_type": "code",
   "execution_count": 40,
   "metadata": {},
   "outputs": [
    {
     "data": {
      "text/plain": [
       "'André\\nJoão\\nMaria\\n'"
      ]
     },
     "execution_count": 40,
     "metadata": {},
     "output_type": "execute_result"
    }
   ],
   "source": [
    "# guarda cada linha como entrada numa lista\n",
    "with open(\"nomes.txt\", \"r\", encoding=\"utf-8\") as arquivo:\n",
    "    conteudo = arquivo.read()\n",
    "conteudo"
   ]
  },
  {
   "cell_type": "markdown",
   "metadata": {},
   "source": [
    "Vamos para um outro exemplo... Imagine que eu quero armazenar uma lista, para depois lê-la novamente. Como faço isso?\n",
    "_"
   ]
  },
  {
   "cell_type": "code",
   "execution_count": 41,
   "metadata": {},
   "outputs": [
    {
     "ename": "TypeError",
     "evalue": "write() argument must be str, not list",
     "output_type": "error",
     "traceback": [
      "\u001b[0;31m---------------------------------------------------------------------------\u001b[0m",
      "\u001b[0;31mTypeError\u001b[0m                                 Traceback (most recent call last)",
      "\u001b[0;32m<ipython-input-41-926647072f28>\u001b[0m in \u001b[0;36m<module>\u001b[0;34m\u001b[0m\n\u001b[1;32m      2\u001b[0m \u001b[0;34m\u001b[0m\u001b[0m\n\u001b[1;32m      3\u001b[0m \u001b[0;32mwith\u001b[0m \u001b[0mopen\u001b[0m\u001b[0;34m(\u001b[0m\u001b[0;34m\"lista.txt\"\u001b[0m\u001b[0;34m,\u001b[0m \u001b[0;34m\"w\"\u001b[0m\u001b[0;34m,\u001b[0m \u001b[0mencoding\u001b[0m\u001b[0;34m=\u001b[0m\u001b[0;34m\"utf-8\"\u001b[0m\u001b[0;34m)\u001b[0m \u001b[0;32mas\u001b[0m \u001b[0marquivo\u001b[0m\u001b[0;34m:\u001b[0m\u001b[0;34m\u001b[0m\u001b[0;34m\u001b[0m\u001b[0m\n\u001b[0;32m----> 4\u001b[0;31m     \u001b[0marquivo\u001b[0m\u001b[0;34m.\u001b[0m\u001b[0mwrite\u001b[0m\u001b[0;34m(\u001b[0m\u001b[0mnotas\u001b[0m\u001b[0;34m)\u001b[0m\u001b[0;34m\u001b[0m\u001b[0;34m\u001b[0m\u001b[0m\n\u001b[0m",
      "\u001b[0;31mTypeError\u001b[0m: write() argument must be str, not list"
     ]
    }
   ],
   "source": [
    "notas = [8, 7, 5, 6, 4, 6]\n",
    "\n",
    "with open(\"lista.txt\", \"w\", encoding=\"utf-8\") as arquivo:\n",
    "    arquivo.write(notas)"
   ]
  },
  {
   "cell_type": "markdown",
   "metadata": {},
   "source": [
    "Só é possível escrever strings com o \"write()\"! Então, vamos ter que modificar um pouco o programa..."
   ]
  },
  {
   "cell_type": "code",
   "execution_count": 43,
   "metadata": {},
   "outputs": [],
   "source": [
    "notas = [8, 7, 5, 6, 4, 6]\n",
    "\n",
    "with open(\"lista.txt\", \"w\", encoding=\"utf-8\") as arquivo:\n",
    "    for nota in notas:\n",
    "        arquivo.write(str(nota) + '\\n')"
   ]
  },
  {
   "cell_type": "markdown",
   "metadata": {},
   "source": [
    "Agora, pra ler o arquivo, e já calcular a média das notas armazenadas!"
   ]
  },
  {
   "cell_type": "code",
   "execution_count": 44,
   "metadata": {},
   "outputs": [
    {
     "data": {
      "text/plain": [
       "'8\\n7\\n5\\n6\\n4\\n6\\n'"
      ]
     },
     "execution_count": 44,
     "metadata": {},
     "output_type": "execute_result"
    }
   ],
   "source": [
    "with open(\"lista.txt\", \"r\", encoding=\"utf-8\") as arquivo:\n",
    "    conteudo = arquivo.read()\n",
    "conteudo"
   ]
  },
  {
   "cell_type": "code",
   "execution_count": 46,
   "metadata": {},
   "outputs": [
    {
     "data": {
      "text/plain": [
       "'8\\n7\\n5\\n6\\n4\\n6'"
      ]
     },
     "execution_count": 46,
     "metadata": {},
     "output_type": "execute_result"
    }
   ],
   "source": [
    "conteudo.strip()"
   ]
  },
  {
   "cell_type": "code",
   "execution_count": 48,
   "metadata": {},
   "outputs": [
    {
     "data": {
      "text/plain": [
       "['8', '7', '5', '6', '4', '6']"
      ]
     },
     "execution_count": 48,
     "metadata": {},
     "output_type": "execute_result"
    }
   ],
   "source": [
    "lista_notas = conteudo.strip().split('\\n')\n",
    "lista_notas"
   ]
  },
  {
   "cell_type": "code",
   "execution_count": 49,
   "metadata": {},
   "outputs": [
    {
     "data": {
      "text/plain": [
       "[8, 7, 5, 6, 4, 6]"
      ]
     },
     "execution_count": 49,
     "metadata": {},
     "output_type": "execute_result"
    }
   ],
   "source": [
    "lista_notas_int = []\n",
    "for i in lista_notas:\n",
    "    lista_notas_int.append(int(i))\n",
    "lista_notas_int"
   ]
  },
  {
   "cell_type": "code",
   "execution_count": 50,
   "metadata": {},
   "outputs": [
    {
     "data": {
      "text/plain": [
       "[8, 7, 5, 6, 4, 6]"
      ]
     },
     "execution_count": 50,
     "metadata": {},
     "output_type": "execute_result"
    }
   ],
   "source": [
    "lista_notas_int = [int(el) for el in lista_notas]\n",
    "lista_notas_int"
   ]
  },
  {
   "cell_type": "code",
   "execution_count": 51,
   "metadata": {},
   "outputs": [
    {
     "data": {
      "text/plain": [
       "6.0"
      ]
     },
     "execution_count": 51,
     "metadata": {},
     "output_type": "execute_result"
    }
   ],
   "source": [
    "media = sum(lista_notas_int)/len(lista_notas_int)\n",
    "media"
   ]
  },
  {
   "cell_type": "code",
   "execution_count": 52,
   "metadata": {},
   "outputs": [],
   "source": [
    "from statistics import mean"
   ]
  },
  {
   "cell_type": "code",
   "execution_count": 53,
   "metadata": {},
   "outputs": [
    {
     "data": {
      "text/plain": [
       "6"
      ]
     },
     "execution_count": 53,
     "metadata": {},
     "output_type": "execute_result"
    }
   ],
   "source": [
    "mean(lista_notas_int)"
   ]
  },
  {
   "cell_type": "markdown",
   "metadata": {},
   "source": [
    "Podemos também ler uma linha de cada vez com a função `readline()`:"
   ]
  },
  {
   "cell_type": "code",
   "execution_count": 55,
   "metadata": {},
   "outputs": [
    {
     "name": "stdout",
     "output_type": "stream",
     "text": [
      "André\n",
      "\n",
      "João\n",
      "\n"
     ]
    }
   ],
   "source": [
    "with open(\"nomes.txt\", \"r\", encoding=\"utf-8\") as arquivo:\n",
    "    print(arquivo.readline())\n",
    "    print(arquivo.readline())\n",
    "    \n"
   ]
  },
  {
   "cell_type": "markdown",
   "metadata": {},
   "source": [
    "Ou, mais fácil, podemos iterar em cima do arquivo para ler um linha de cada vez:"
   ]
  },
  {
   "cell_type": "code",
   "execution_count": 57,
   "metadata": {},
   "outputs": [
    {
     "name": "stdout",
     "output_type": "stream",
     "text": [
      "André\n",
      "\n",
      "João\n",
      "\n",
      "Maria\n",
      "\n"
     ]
    },
    {
     "data": {
      "text/plain": [
       "['André\\n', 'João\\n', 'Maria\\n']"
      ]
     },
     "execution_count": 57,
     "metadata": {},
     "output_type": "execute_result"
    }
   ],
   "source": [
    "linhas = []\n",
    "with open(\"nomes.txt\", \"r\", encoding=\"utf-8\") as arquivo:\n",
    "    for linha in arquivo:\n",
    "        linhas.append(linha)\n",
    "        print(linha)\n",
    "linhas"
   ]
  },
  {
   "cell_type": "code",
   "execution_count": null,
   "metadata": {},
   "outputs": [],
   "source": [
    "with open(\"nomes.txt\", \"r\", encoding=\"utf-8\") as arquivo:\n",
    "    with open(\"nomes_processados.txt\", \"w\", encoding=\"utf-8\") as arquivo_processado:\n",
    "        for linha in arquivo:\n",
    "            ...\n",
    "            arquivo_processado.write(resultado)"
   ]
  },
  {
   "cell_type": "markdown",
   "metadata": {},
   "source": [
    "É importante notar também que existem **bibliotecas específicas** para a leitura/escrita de determinados tipos de arquivos.\n",
    "Na prática, é muito mais conveniente usarmos estas bibliotecas, a depender do tipo de arquivo que desejamos ler/escrever!\n",
    "\n",
    "ex:\n",
    "\n",
    "- csv/xls: pandas\n",
    "- json: json\n",
    "\n",
    "Veremos mais sobre essas bibliotecas ao longo desse e dos próximos módulos\n"
   ]
  },
  {
   "cell_type": "markdown",
   "metadata": {},
   "source": [
    "____\n",
    "____\n",
    "___"
   ]
  },
  {
   "cell_type": "markdown",
   "metadata": {},
   "source": [
    "# Exercicios\n",
    "\n",
    "## Exercicio 1\n",
    "1. Crie um arquivo `frases.txt` contendo o conteúdo de uma lista de frases.\n",
    "2. Copie o conteúdo do arquivo `frases.txt` para `frases_copia.txt`.\n",
    "\n"
   ]
  },
  {
   "cell_type": "markdown",
   "metadata": {},
   "source": [
    "# Exercicios extras\n"
   ]
  },
  {
   "cell_type": "markdown",
   "metadata": {},
   "source": [
    "## Ex. 1\n",
    "Faça uma função que calcula os primeiros `n` números primos."
   ]
  },
  {
   "cell_type": "markdown",
   "metadata": {},
   "source": [
    "## Ex. 2\n",
    "Coloque a função desenvolvidas no item anterior em um outro arquivo e importe-a no jupyter notebook"
   ]
  },
  {
   "cell_type": "markdown",
   "metadata": {},
   "source": [
    "## Ex. 3\n",
    "Faça uma função que calcula o resultado de uma multiplicação de matrizes (representadas como lista de listas).\n",
    "\n",
    "Por exemplo:\n",
    "```\n",
    "matriz_0 = [\n",
    "    [0, 2],\n",
    "    [1, 2]\n",
    "]\n",
    "\n",
    "matriz_1 = [\n",
    "    [6, 7],\n",
    "    [0, 9]\n",
    "]\n",
    "\n",
    "multiplica_matriz(matriz_0, matriz_1)\n",
    "\n",
    "\n",
    "[\n",
    "    [ 0, 18],\n",
    "    [ 6, 25]\n",
    "]\n",
    "```"
   ]
  },
  {
   "cell_type": "code",
   "execution_count": null,
   "metadata": {},
   "outputs": [],
   "source": []
  }
 ],
 "metadata": {
  "kernelspec": {
   "display_name": "Python 3",
   "language": "python",
   "name": "python3"
  },
  "language_info": {
   "codemirror_mode": {
    "name": "ipython",
    "version": 3
   },
   "file_extension": ".py",
   "mimetype": "text/x-python",
   "name": "python",
   "nbconvert_exporter": "python",
   "pygments_lexer": "ipython3",
   "version": "3.8.3"
  }
 },
 "nbformat": 4,
 "nbformat_minor": 4
}
