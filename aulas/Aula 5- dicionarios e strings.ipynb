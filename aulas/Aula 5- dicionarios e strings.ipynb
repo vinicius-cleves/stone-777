{
 "cells": [
  {
   "cell_type": "code",
   "execution_count": null,
   "metadata": {},
   "outputs": [],
   "source": [
    "a = 10\n",
    "b = a\n",
    "a = 20\n",
    "print(a)\n",
    "print(b)"
   ]
  },
  {
   "cell_type": "code",
   "execution_count": null,
   "metadata": {},
   "outputs": [],
   "source": [
    "lista = [\n",
    "    [1,2], \n",
    "    [3,4]\n",
    "]\n",
    "item0 = lista[0]\n",
    "item0[0] = 1000\n",
    "lista"
   ]
  },
  {
   "cell_type": "code",
   "execution_count": null,
   "metadata": {},
   "outputs": [],
   "source": [
    "lista = [\n",
    "    [1,2], \n",
    "    [3,4]\n",
    "]\n",
    "shallow_copy = lista.copy()\n",
    "shallow_copy"
   ]
  },
  {
   "cell_type": "markdown",
   "metadata": {},
   "source": [
    "# Aula 5- dicionarios e strings\n"
   ]
  },
  {
   "cell_type": "markdown",
   "metadata": {},
   "source": [
    "____\n",
    "____\n",
    "____"
   ]
  },
  {
   "cell_type": "markdown",
   "metadata": {},
   "source": [
    "## 1) Dicionários\n",
    "\n",
    "O dicionário é uma estrutura de dados que faz um mapeamento de uma chave para um valor. Um exemplo de um dicionario é uma lista telefonica. A chave, nesse caso, é o nome do contato, o valor é número de telefone. Outro exemplo de dicionario pode ser as informações de um cliente. As chaves podem ser as caracteristicas dele - nome, altura, renda, ticket médio - e os valores os valores correspondentes a cada caracteristica.  \n",
    "\n",
    "O dicionário é definido a partir desses **dois elementos**: **chaves** e **valores**.\n",
    "\n",
    "- A **chave** é uma string ou int (ou qualquer valor hashable) que é utilizada como se fosse um índice, identificando os respectivos valores.\n",
    "\n",
    "- O **valor** pode ser qualquer objeto: um int, um float, uma str, um bool, uma lista, uma tupla, outro dicionário...\n",
    "\n",
    "Dicionários são indicados **entre chaves{}**, segundo a estrutura:\n",
    "\n",
    "```python\n",
    "dicionario = {\"chave\": valor}\n",
    "```"
   ]
  },
  {
   "cell_type": "code",
   "execution_count": null,
   "metadata": {},
   "outputs": [],
   "source": [
    "cliente = {\n",
    "    'nome': 'Bob',\n",
    "    'idade': 30,\n",
    "    'ticket': 60\n",
    "}\n",
    "cliente"
   ]
  },
  {
   "cell_type": "markdown",
   "metadata": {},
   "source": [
    "Para acessarmos um valor no dicionario, fazemos:"
   ]
  },
  {
   "cell_type": "code",
   "execution_count": null,
   "metadata": {},
   "outputs": [],
   "source": [
    "cliente['idade']"
   ]
  },
  {
   "cell_type": "code",
   "execution_count": null,
   "metadata": {},
   "outputs": [],
   "source": [
    "cliente_como_lista = ['Bob', 30, 60]\n",
    "cliente_como_lista[1]"
   ]
  },
  {
   "cell_type": "markdown",
   "metadata": {},
   "source": [
    "Para adicionarmos ou alterarmos um par chave-valor em um dicionario, fazemos"
   ]
  },
  {
   "cell_type": "code",
   "execution_count": null,
   "metadata": {},
   "outputs": [],
   "source": [
    "cliente['nome'] = 'Carlos'\n",
    "cliente"
   ]
  },
  {
   "cell_type": "code",
   "execution_count": null,
   "metadata": {},
   "outputs": [],
   "source": [
    "cliente['renda'] = 10000\n",
    "cliente"
   ]
  },
  {
   "cell_type": "markdown",
   "metadata": {},
   "source": [
    "Para remover um par chave-valor, fazemos"
   ]
  },
  {
   "cell_type": "code",
   "execution_count": null,
   "metadata": {},
   "outputs": [],
   "source": [
    "del cliente['renda']\n",
    "cliente"
   ]
  },
  {
   "cell_type": "markdown",
   "metadata": {},
   "source": [
    "Dicionarios são iteraveis. Quando iteramos sobre ele **iteramos sobre as chaves**"
   ]
  },
  {
   "cell_type": "code",
   "execution_count": null,
   "metadata": {},
   "outputs": [],
   "source": [
    "for key in cliente:\n",
    "    print(key)\n",
    "    "
   ]
  },
  {
   "cell_type": "markdown",
   "metadata": {},
   "source": [
    "Por isso, quando testamos o `in` testamos se **a chave** existe no dicionario."
   ]
  },
  {
   "cell_type": "code",
   "execution_count": null,
   "metadata": {},
   "outputs": [],
   "source": [
    "'nome' in cliente"
   ]
  },
  {
   "cell_type": "code",
   "execution_count": null,
   "metadata": {},
   "outputs": [],
   "source": [
    "'Carlos' in cliente"
   ]
  },
  {
   "cell_type": "code",
   "execution_count": null,
   "metadata": {},
   "outputs": [],
   "source": [
    "for value in cliente.values():\n",
    "    print(value)"
   ]
  },
  {
   "cell_type": "markdown",
   "metadata": {},
   "source": [
    "Se quisermos iterar sobre os pares chave-valor, podemos usar o .items()"
   ]
  },
  {
   "cell_type": "code",
   "execution_count": null,
   "metadata": {},
   "outputs": [],
   "source": [
    "for key in cliente:\n",
    "    print(key, cliente[key])"
   ]
  },
  {
   "cell_type": "code",
   "execution_count": null,
   "metadata": {},
   "outputs": [],
   "source": [
    "for key, value in cliente.items():\n",
    "    print(key, value)"
   ]
  },
  {
   "cell_type": "markdown",
   "metadata": {},
   "source": [
    "### Exemplo\n",
    "Um dicionario com informações de uma turma\n"
   ]
  },
  {
   "cell_type": "code",
   "execution_count": null,
   "metadata": {},
   "outputs": [],
   "source": [
    "turma = {\n",
    "    'professor': 'Alex',\n",
    "    'alunos': ['Bob', 'Carlos', 'Dafne', 'Eduardo']\n",
    "}"
   ]
  },
  {
   "cell_type": "markdown",
   "metadata": {},
   "source": [
    "Perguntas: \n",
    "- como eu pego a informação do primeiro aluno?\n",
    "- como eu substituo o nome do primeiro aluno por 'Bernardo'?"
   ]
  },
  {
   "cell_type": "code",
   "execution_count": null,
   "metadata": {},
   "outputs": [],
   "source": [
    "turma['professor']"
   ]
  },
  {
   "cell_type": "code",
   "execution_count": null,
   "metadata": {},
   "outputs": [],
   "source": [
    "turma['alunos'][0]"
   ]
  },
  {
   "cell_type": "code",
   "execution_count": null,
   "metadata": {},
   "outputs": [],
   "source": [
    "turma['alunos'][0] = 'Bernardo'\n",
    "turma"
   ]
  },
  {
   "cell_type": "markdown",
   "metadata": {},
   "source": [
    "### Exercicio individual\n",
    "1. Crie um dicionario com as informações de um aluno: \n",
    "    - Nome \n",
    "    - Idade\n",
    "\n",
    "2. Adicione no dicionario do aluno acima as notas da P1 e P2 em uma lista\n",
    "\n",
    "3. Adicione a nota da P3 na lista de notas\n",
    "\n",
    "4. Adicione um campo professores, que é um dicionario com chave sendo o nome da disciplina e o valor o nome dos professores\n",
    "    - PRO221: Alberto\n",
    "    - MAP123: Fernando\n",
    "\n"
   ]
  },
  {
   "cell_type": "code",
   "execution_count": null,
   "metadata": {},
   "outputs": [],
   "source": [
    "aluno = {\n",
    "    'nome': 'Fernando',\n",
    "    'idade': 25,\n",
    "}\n",
    "print(aluno)\n"
   ]
  },
  {
   "cell_type": "code",
   "execution_count": null,
   "metadata": {},
   "outputs": [],
   "source": [
    "p1 = 5\n",
    "p2 = 6\n",
    "\n",
    "aluno['notas'] = [p1, p2]\n",
    "print(aluno)\n"
   ]
  },
  {
   "cell_type": "code",
   "execution_count": null,
   "metadata": {},
   "outputs": [],
   "source": [
    "p3 = 9\n",
    "aluno['notas'].append(p3)\n",
    "print(aluno)\n"
   ]
  },
  {
   "cell_type": "code",
   "execution_count": null,
   "metadata": {},
   "outputs": [],
   "source": [
    "professores = {\n",
    "    'PRO221': 'Alberto',\n",
    "    'MAP123': 'Fernando'\n",
    "}\n",
    "aluno['professores'] = professores \n",
    "aluno"
   ]
  },
  {
   "cell_type": "code",
   "execution_count": null,
   "metadata": {},
   "outputs": [],
   "source": [
    "aluno = {\n",
    "    'Nome': ..., \n",
    "    'Idade': ...,\n",
    "    'Nota': [...],\n",
    "    'professores': {\n",
    "        'PRO221': ...\n",
    "    }\n",
    "}"
   ]
  },
  {
   "cell_type": "markdown",
   "metadata": {},
   "source": [
    "## Exercicio\n",
    "### Cadastro de Usuários\n",
    "Faça um programa que leia e guarde o cadastro de `n` clientes com nome e idade. `n` também é informado pelo usuário\n",
    "\n",
    "Como sugestão, siga as etapas abaixo:\n",
    "1. Leia e guarde as informações de 1 cliente\n",
    "2. Leia e guarde as informações de 3 clientes (usando loop)\n",
    "3. Leia e guarde as informações de n clientes\n",
    "\n",
    "Se sobrar tempo, faça um programa que busca um cliente pelo nome"
   ]
  },
  {
   "cell_type": "code",
   "execution_count": null,
   "metadata": {},
   "outputs": [],
   "source": [
    "n = int(input('Quantidade de clientes: '))\n",
    "\n",
    "clientes = []\n",
    "for i in range(n):\n",
    "    nome = input('Nome: ')\n",
    "    idade = int(input('Idade: '))\n",
    "    \n",
    "    cliente = {\n",
    "        'nome': nome,\n",
    "        'idade': idade\n",
    "    }\n",
    "    \n",
    "    clientes.append(cliente)\n",
    "clientes  "
   ]
  },
  {
   "cell_type": "code",
   "execution_count": null,
   "metadata": {},
   "outputs": [],
   "source": [
    "n = int(input('Quantidade de clientes: '))\n",
    "\n",
    "clientes = []\n",
    "\n",
    "for i in range(n):\n",
    "    cliente = {}\n",
    "    cliente['nome'] = input('Nome: ')\n",
    "    cliente['idade'] = int(input('Idade: '))\n",
    "    print(cliente)\n",
    "    print(clientes)\n",
    "    clientes.append(cliente)\n",
    "    \n",
    "clientes"
   ]
  },
  {
   "cell_type": "markdown",
   "metadata": {},
   "source": [
    "## Exercicio da aula passada (não façam, eu quem vou fazer com vocês)\n",
    "### Notas complicadas\n",
    "\n",
    "Os mapeamento de notas para conceitos e de conceitos para notas são definidos como:\n",
    "\n",
    "- [9, 10] -> A -> 10\n",
    "- [8, 9[  -> B -> 8.5\n",
    "- [7, 8[  -> C -> 7.5\n",
    "- [6, 7[  -> D -> 6.5\n",
    "- [0, 6[  -> F -> 0\n",
    "\n",
    "Faça um programa que:\n",
    "\n",
    "1. Leia 3 conceitos e imprima a média\n",
    "2. Leia 3 conceitos (com validação da entrada) e imprima a média\n",
    "3. Leia 3 conceitos (com validação da entrada) e imprima a média e quantas vezes cada conceito apareceu.\n",
    "4. Leia conceitos (com validação da entrada) até que o usuário digite 'sair' e imprima a média e quantas vezes cada conceito apareceu.\n",
    "\n",
    "Ao construir o seu programa divida a parte de leitura e a parte de processamento, para fins do exercicio\n",
    "\n"
   ]
  },
  {
   "cell_type": "code",
   "execution_count": null,
   "metadata": {},
   "outputs": [],
   "source": [
    "# Parte 1 - Leitura das entradas\n",
    "\n",
    "conceitos = []\n",
    "conceitos_validos = list('ABCDF')\n",
    "for i in range(3):\n",
    "    conceito = input('Conceito: ')\n",
    "    while conceito not in conceitos_validos:\n",
    "        conceito = input('Invalido!! Conceito: ')\n",
    "    \n",
    "    conceitos.append(conceito)\n",
    "    \n",
    "# fim da parte 1\n",
    "\n",
    "# conceitos = [...] # lista com os conceitos\n",
    "\n",
    "# Parte 2 - Processamento\n",
    "nums = []\n",
    "conceito_to_num = {\n",
    "    'A': 10,\n",
    "    'B': 8.5, \n",
    "    'C': 7.5,\n",
    "    'D': 6.5,\n",
    "    'F': 0\n",
    "}\n",
    "\n",
    "for conceito in conceitos:\n",
    "#     if conceito == 'A':\n",
    "#         num = 10\n",
    "#     elif conceito == 'B':\n",
    "#         num = 8.5\n",
    "#     elif conceito == 'C':\n",
    "#         num = 7.5\n",
    "#     elif conceito == 'D':\n",
    "#         num = 6.5\n",
    "#     else:\n",
    "#         num = 0\n",
    "    num = conceito_to_num[conceito]\n",
    "    nums.append(num)\n",
    "\n",
    "media = sum(nums)/len(nums)\n",
    "\n",
    "print(media)\n",
    "\n",
    "for conceito in conceitos_validos:\n",
    "    print(conceito, conceitos.count(conceito))\n",
    "\n",
    "# fim da parte 2"
   ]
  },
  {
   "cell_type": "markdown",
   "metadata": {},
   "source": [
    "____________________________\n",
    "____________________________\n",
    "____________________________"
   ]
  },
  {
   "cell_type": "markdown",
   "metadata": {},
   "source": [
    "## 2) Strings\n",
    "\n",
    "Desde a primeira aula, temos trabalhado com strings, que, como vimos, representam **dados textuais**\n"
   ]
  },
  {
   "cell_type": "markdown",
   "metadata": {},
   "source": [
    "Uma string nada mais é do que uma **sequencia de caracteres**!\n",
    "\n",
    "Assim, podemos acessar caracteres específicos ou então um intervalo de caracteres de uma string, como se fosse uma lista!\n",
    "\n",
    "**OBS.: Para strings também, o índice começa em 0, e podemos usar índices negativos!**"
   ]
  },
  {
   "cell_type": "code",
   "execution_count": null,
   "metadata": {},
   "outputs": [],
   "source": [
    "texto = 'era uma casa muito engraçada'"
   ]
  },
  {
   "cell_type": "code",
   "execution_count": null,
   "metadata": {},
   "outputs": [],
   "source": [
    "texto[0]"
   ]
  },
  {
   "cell_type": "code",
   "execution_count": null,
   "metadata": {},
   "outputs": [],
   "source": [
    "texto[-1]"
   ]
  },
  {
   "cell_type": "code",
   "execution_count": null,
   "metadata": {},
   "outputs": [],
   "source": [
    "texto[10: 15]"
   ]
  },
  {
   "cell_type": "markdown",
   "metadata": {},
   "source": [
    "Para saber o comprimento de uma string (quantos caracteres ela tem, incluindo espaços e pontuações), use a função len():"
   ]
  },
  {
   "cell_type": "code",
   "execution_count": null,
   "metadata": {},
   "outputs": [],
   "source": [
    "len(texto)"
   ]
  },
  {
   "cell_type": "markdown",
   "metadata": {},
   "source": [
    "Podemos também percorrer cada caractere da string com o `for` -- strings são objetos **iteráveis**:"
   ]
  },
  {
   "cell_type": "code",
   "execution_count": null,
   "metadata": {},
   "outputs": [],
   "source": [
    "for char in texto:\n",
    "    print(char)"
   ]
  },
  {
   "cell_type": "markdown",
   "metadata": {},
   "source": [
    "Apesar de se parecer com uma lista, a string não tem exatamente as propriedades de uma lista. Por exemplo, **não podemos alterar** caracteres individualmente:"
   ]
  },
  {
   "cell_type": "code",
   "execution_count": null,
   "metadata": {},
   "outputs": [],
   "source": [
    "texto[0]"
   ]
  },
  {
   "cell_type": "code",
   "execution_count": null,
   "metadata": {},
   "outputs": [],
   "source": [
    "texto[0] = 'E'"
   ]
  },
  {
   "cell_type": "markdown",
   "metadata": {},
   "source": [
    "Podemos fazer **operações de soma e multiplicação com strings**. Elas funcionam como nas listas."
   ]
  },
  {
   "cell_type": "markdown",
   "metadata": {},
   "source": [
    "Soma de strings: ao somar duas strings, elas são concatenadas:"
   ]
  },
  {
   "cell_type": "code",
   "execution_count": null,
   "metadata": {},
   "outputs": [],
   "source": [
    "'bla' + 'bli'"
   ]
  },
  {
   "cell_type": "code",
   "execution_count": null,
   "metadata": {},
   "outputs": [],
   "source": [
    "var = 'bli'\n",
    "texto + var"
   ]
  },
  {
   "cell_type": "markdown",
   "metadata": {},
   "source": [
    "Multiplicação de string por inteiro: ao multiplicar uma string por um número inteiro, a string é repetida:"
   ]
  },
  {
   "cell_type": "code",
   "execution_count": null,
   "metadata": {},
   "outputs": [],
   "source": [
    "var * 7"
   ]
  },
  {
   "cell_type": "markdown",
   "metadata": {},
   "source": [
    "__________\n",
    "__________\n",
    "__________"
   ]
  },
  {
   "cell_type": "markdown",
   "metadata": {},
   "source": [
    "### Funções de strings\n",
    "\n",
    "Como listas, strings também têm algumas funções específicas. Algumas delas são:"
   ]
  },
  {
   "cell_type": "markdown",
   "metadata": {},
   "source": [
    ".lower(): trasnforma todos os caracteres em minúscula"
   ]
  },
  {
   "cell_type": "code",
   "execution_count": null,
   "metadata": {},
   "outputs": [],
   "source": [
    "nome = 'Vinicius'\n",
    "nome.lower()"
   ]
  },
  {
   "cell_type": "code",
   "execution_count": null,
   "metadata": {},
   "outputs": [],
   "source": [
    "'Vinicius'.lower()"
   ]
  },
  {
   "cell_type": "markdown",
   "metadata": {},
   "source": [
    ".split(substring): quebra a string em determinada substring, tendo como resultado uma **lista com os caracteres além da quebra**. Para quebrar nos espaços, use a função \".split()\", sem argumento"
   ]
  },
  {
   "cell_type": "code",
   "execution_count": null,
   "metadata": {},
   "outputs": [],
   "source": [
    "texto"
   ]
  },
  {
   "cell_type": "code",
   "execution_count": null,
   "metadata": {},
   "outputs": [],
   "source": [
    "texto.split()"
   ]
  },
  {
   "cell_type": "code",
   "execution_count": null,
   "metadata": {},
   "outputs": [],
   "source": [
    "'era uma casa muito            engraçada'.split()"
   ]
  },
  {
   "cell_type": "code",
   "execution_count": null,
   "metadata": {},
   "outputs": [],
   "source": [
    "'2020-02-05T20:05:01'.split('T')"
   ]
  },
  {
   "cell_type": "markdown",
   "metadata": {},
   "source": [
    ".strip(): Tira espaços que tão sobrando no fim e no início da string"
   ]
  },
  {
   "cell_type": "code",
   "execution_count": null,
   "metadata": {},
   "outputs": [],
   "source": [
    "' adsad   '.strip()"
   ]
  },
  {
   "cell_type": "markdown",
   "metadata": {},
   "source": [
    ".join(lista_de_strings): une as string na lista em uma string só, usando a string original como separador"
   ]
  },
  {
   "cell_type": "code",
   "execution_count": null,
   "metadata": {},
   "outputs": [],
   "source": [
    "lista = ['Vinicius', 'Carmo']\n",
    "'____'.join(lista)"
   ]
  },
  {
   "cell_type": "markdown",
   "metadata": {},
   "source": [
    ".replace(old, new): realiza substituições na string"
   ]
  },
  {
   "cell_type": "code",
   "execution_count": null,
   "metadata": {},
   "outputs": [],
   "source": [
    "texto = texto.replace('era', 'É')"
   ]
  },
  {
   "cell_type": "code",
   "execution_count": null,
   "metadata": {},
   "outputs": [],
   "source": [
    "texto"
   ]
  },
  {
   "cell_type": "markdown",
   "metadata": {},
   "source": [
    "_"
   ]
  },
  {
   "cell_type": "code",
   "execution_count": null,
   "metadata": {},
   "outputs": [],
   "source": [
    "'nan' in 'banana'"
   ]
  },
  {
   "cell_type": "markdown",
   "metadata": {},
   "source": [
    "Outros métodos interessantes...\n",
    "\n",
    "- .upper(): transforma todos os caracteres em maiúscula\n",
    "- .title(): deixa a primeira letra de cada palavra em maiúscula\n",
    "- .capitalize(): deixa a primeira letra da primeira palavra em maiúscula\n",
    "- .isdigit()\n",
    "- .isalpha()\n",
    "- .isalnum()\n",
    "- .isspace()"
   ]
  },
  {
   "cell_type": "markdown",
   "metadata": {},
   "source": [
    "### Remoçao de acentos\n",
    "Utilizamos o codigo abaixo para tirar acentos da string \"minha_string\":\n",
    "\n",
    "```python\n",
    "import unicodedata\n",
    "unicodedata.normalize(\"NFD\", minha_string).encode(\"ascii\", \"ignore\").decode(\"utf-8\")\n",
    "```"
   ]
  },
  {
   "cell_type": "code",
   "execution_count": null,
   "metadata": {},
   "outputs": [],
   "source": [
    "texto"
   ]
  },
  {
   "cell_type": "code",
   "execution_count": null,
   "metadata": {},
   "outputs": [],
   "source": [
    "import unicodedata\n",
    "unicodedata.normalize(\"NFD\", texto).encode(\"ascii\", \"ignore\").decode(\"utf-8\")"
   ]
  },
  {
   "cell_type": "code",
   "execution_count": null,
   "metadata": {},
   "outputs": [],
   "source": [
    "import unicodedata\n",
    "\n",
    "texto1 = unicodedata.normalize(\"NFD\", texto)\n",
    "texto1"
   ]
  },
  {
   "cell_type": "code",
   "execution_count": null,
   "metadata": {},
   "outputs": [],
   "source": [
    "texto2 = unicodedata.normalize(\"NFC\", texto)\n",
    "texto2"
   ]
  },
  {
   "cell_type": "code",
   "execution_count": null,
   "metadata": {},
   "outputs": [],
   "source": [
    "texto1 == texto2"
   ]
  },
  {
   "cell_type": "code",
   "execution_count": null,
   "metadata": {},
   "outputs": [],
   "source": [
    "print(list(texto1))"
   ]
  },
  {
   "cell_type": "code",
   "execution_count": null,
   "metadata": {},
   "outputs": [],
   "source": [
    "print(list(texto2))"
   ]
  },
  {
   "cell_type": "markdown",
   "metadata": {},
   "source": [
    "### Normalização textual\n",
    "\n",
    "Processar a string para que ela esteja em **determinado padrão** (por exemplo: em letras minusculas e sem acentos) é um passo muito importante para que operações de comparação entre strings funcionem perfeitamente sem erros, principalmente quando essa string vem de fora do seu controle (input do usuário, leitura de arquivo, etc)"
   ]
  },
  {
   "cell_type": "code",
   "execution_count": null,
   "metadata": {},
   "outputs": [],
   "source": [
    "res = ''\n",
    "while res != 'nao':\n",
    "    res = input('Gostaria de continuar? ')\n",
    "    res = res.lower()\n",
    "    res = unicodedata.normalize(\"NFD\", res).encode(\"ascii\", \"ignore\").decode(\"utf-8\")\n",
    "    \n",
    "print('Até a próxima!')\n"
   ]
  },
  {
   "cell_type": "markdown",
   "metadata": {},
   "source": [
    "___\n",
    "___"
   ]
  },
  {
   "cell_type": "markdown",
   "metadata": {},
   "source": [
    "### Formatação de strings\n",
    "Até o momento, temos construidos nossos outputs passando pedaços do texto de saida no `print`. Outra possibilidade seria somar os pedaços da string para obter a string final. "
   ]
  },
  {
   "cell_type": "code",
   "execution_count": null,
   "metadata": {},
   "outputs": [],
   "source": [
    "print(1,'/', 2,'/', 1994, sep='')"
   ]
  },
  {
   "cell_type": "code",
   "execution_count": null,
   "metadata": {},
   "outputs": [],
   "source": [
    "saida = str(1) + '/' + str(2) + '/' + str(1994)\n",
    "print(saida)"
   ]
  },
  {
   "cell_type": "markdown",
   "metadata": {},
   "source": [
    "Isso não é muito pratico, vamos ver como podemos melhorar a construção das nossas strings usando formatação de strings. Isso pode ser útil tanto ao receber dados do usuário (input) quando ao exibir dados pro usuário (print)\n",
    "\n",
    "As strings formatadas se estruturam ao redor do conceito de placeholders, lugares na string que serão substituidos por valores guardados em variaveis. Os placeholders são representados na string por `{}`\n"
   ]
  },
  {
   "cell_type": "code",
   "execution_count": null,
   "metadata": {},
   "outputs": [],
   "source": [
    "str_com_placeholder = 'O valor da resposta é {}'"
   ]
  },
  {
   "cell_type": "code",
   "execution_count": null,
   "metadata": {},
   "outputs": [],
   "source": [
    "str_com_placeholder.format(100)"
   ]
  },
  {
   "cell_type": "markdown",
   "metadata": {},
   "source": [
    "Podemos especificar como o valor a ser substituido na string deve ser formatado. Por exemplo, digamos que queremos formatar uma data com o formato: dd/mm/aaaa. Podemos fazer:\n",
    "```python\n",
    "\n",
    "dia = 1\n",
    "mes = 2\n",
    "ano = 2020\n",
    "data = '{:02d}/{:02d}/{:04d}'.format(dia, mes, ano)\n",
    "print(data) # resultado: 01/02/2020\n",
    "```\n",
    "\n",
    "O símbolo ':' indica o inicio das nossas opções de formatação.\n",
    "\n",
    "O símbolo 'd' indica que estamos representando números **inteiros** em base decimal (dígitos de 0 a 9). \n",
    "\n",
    "Os símbolos '2' e '4' indicam, respectivamente, 2 dígitos ou 4 dígitos. \n",
    "\n",
    "o símbolo '0' indica que se faltar dígitos, os espaços devem ser preenchidos com zero"
   ]
  },
  {
   "cell_type": "code",
   "execution_count": 132,
   "metadata": {},
   "outputs": [
    {
     "name": "stdout",
     "output_type": "stream",
     "text": [
      "02/02/2020\n"
     ]
    }
   ],
   "source": [
    "dia = 1.7\n",
    "mes = 2\n",
    "ano = 2020\n",
    "data = '{:02.0f}/{:02d}/{:04d}'.format(dia, mes, ano)\n",
    "print(data)"
   ]
  },
  {
   "cell_type": "markdown",
   "metadata": {},
   "source": [
    "Imagina agora que você queira exibir algum valor monetário, por exemplo, o preço de alguma coisa.\n",
    "\n",
    "Utilizando float, pode ser que seu resultado tenha apenas uma casa decimal.\n",
    "\n",
    "Mas, se tratando de dinheito, sempre queremos mostrar duas casas decimais!\n",
    "\n",
    "Usaremos o format para representar com apenas 2 casas.\n",
    "\n",
    "```python\n",
    "preco = 1500.5\n",
    "\n",
    "print(preco) \n",
    "\n",
    "precoFinal = 'R$ {:.2f}'.format(preco)\n",
    "\n",
    "print(precoFinal)\n",
    "```\n",
    "\n",
    "Neste caso, o 'f' indica que o número é float. \n",
    "\n",
    "Já o '.2' indica que queremos 2 casas após o ponto decimal. \n",
    "\n",
    "Note que a função não apenas descarta as casas excedentes, e sim arredonda corretamente o número."
   ]
  },
  {
   "cell_type": "code",
   "execution_count": 4,
   "metadata": {},
   "outputs": [
    {
     "name": "stdout",
     "output_type": "stream",
     "text": [
      "R$    1500.50\n"
     ]
    }
   ],
   "source": [
    "preco = 1500.5\n",
    "\n",
    "precoFinal = 'R$ {:10.2f}'.format(preco)\n",
    "\n",
    "print(precoFinal)"
   ]
  },
  {
   "cell_type": "markdown",
   "metadata": {},
   "source": [
    "Podemos também identificar na string de formatação a posição do valor correspondente no format"
   ]
  },
  {
   "cell_type": "code",
   "execution_count": 5,
   "metadata": {},
   "outputs": [
    {
     "data": {
      "text/plain": [
       "'banana 30 True'"
      ]
     },
     "execution_count": 5,
     "metadata": {},
     "output_type": "execute_result"
    }
   ],
   "source": [
    "'{2} {1} {0}'.format(True, 30, 'banana')"
   ]
  },
  {
   "cell_type": "markdown",
   "metadata": {},
   "source": [
    "Ou podemos especificar os valores pelo nome. Nesse caso temos que passar os parametros com os nomes correspondentes na string de formatação."
   ]
  },
  {
   "cell_type": "code",
   "execution_count": 7,
   "metadata": {},
   "outputs": [
    {
     "data": {
      "text/plain": [
       "'Vinicius: 27 anos'"
      ]
     },
     "execution_count": 7,
     "metadata": {},
     "output_type": "execute_result"
    }
   ],
   "source": [
    "'{nome}: {idade} anos'.format(idade=27, nome='Vinicius')"
   ]
  },
  {
   "cell_type": "markdown",
   "metadata": {},
   "source": [
    "No caso de especificamos o valor na string, ainda podemos passar as opções de formatação"
   ]
  },
  {
   "cell_type": "code",
   "execution_count": 13,
   "metadata": {},
   "outputs": [
    {
     "name": "stdout",
     "output_type": "stream",
     "text": [
      "Vini:  27 anos\n",
      "vovo: 102 anos\n"
     ]
    }
   ],
   "source": [
    "format_str = '{nome}: {idade:3d} anos'\n",
    "persons=[\n",
    "    {'name': 'Vini', 'age': 27},\n",
    "    {'name': 'vovo', 'age': 102}\n",
    "]\n",
    "for person in persons:\n",
    "    print(format_str.format(idade=person['age'], nome=person['name']))"
   ]
  },
  {
   "cell_type": "markdown",
   "metadata": {},
   "source": [
    "### f-strings\n",
    "\n",
    ">Um string literal formatada ou f-string é uma string literal prefixada com 'f' ou 'F'. Essas strings podem conter campos de substituição, que são expressões delimitadas por chaves {}.  \n",
    "--<cite>(tradução livre do [python docs](https://docs.python.org/3/reference/lexical_analysis.html#formatted-string-literals))</cite>"
   ]
  },
  {
   "cell_type": "code",
   "execution_count": 16,
   "metadata": {},
   "outputs": [
    {
     "data": {
      "text/plain": [
       "'Vinicius:  27 anos'"
      ]
     },
     "execution_count": 16,
     "metadata": {},
     "output_type": "execute_result"
    }
   ],
   "source": [
    "nome = 'Vinicius'\n",
    "idade = 27\n",
    "f'{nome}: {idade:3d} anos'"
   ]
  },
  {
   "cell_type": "markdown",
   "metadata": {},
   "source": [
    "___________________\n",
    "Outro tipo de formatação de string comum segue a seguinte estrutura:"
   ]
  },
  {
   "cell_type": "code",
   "execution_count": 17,
   "metadata": {},
   "outputs": [
    {
     "data": {
      "text/plain": [
       "'int: 10; float: 1.500000; string: bananas'"
      ]
     },
     "execution_count": 17,
     "metadata": {},
     "output_type": "execute_result"
    }
   ],
   "source": [
    "'int: %d; float: %f; string: %s' % (10, 1.5, 'bananas') "
   ]
  },
  {
   "cell_type": "markdown",
   "metadata": {},
   "source": [
    "Mas ele é desaconselhado em relação as outras formas de formatação por ser uma fonte comum de erros.\n"
   ]
  },
  {
   "cell_type": "code",
   "execution_count": null,
   "metadata": {},
   "outputs": [],
   "source": [
    "'{nome}: {idade} anos'.format(idade=27, nome='Vinicius')"
   ]
  },
  {
   "cell_type": "markdown",
   "metadata": {},
   "source": [
    "### Exercicio\n"
   ]
  },
  {
   "cell_type": "code",
   "execution_count": 23,
   "metadata": {},
   "outputs": [],
   "source": [
    "nome = 'Vinicius'\n",
    "idade = 27\n",
    "altura = 1.97\n",
    "peso = 99.7\n",
    "brasileiro = True\n"
   ]
  },
  {
   "cell_type": "markdown",
   "metadata": {},
   "source": [
    "output:\n",
    "meu nome é Vinicius, tenho 27 anos, altura 1.97m, 99.7kg, e sou brasileiro"
   ]
  },
  {
   "cell_type": "code",
   "execution_count": 26,
   "metadata": {},
   "outputs": [
    {
     "name": "stdout",
     "output_type": "stream",
     "text": [
      "Meu nome é Vinicius, tenho 27 anos, tenho 1.97m de altura, peso 99.7kgs e sou brasileiro\n"
     ]
    }
   ],
   "source": [
    "frase = 'Meu nome é {nome}, tenho {idade} anos, tenho {altura:.2f}m de altura' \\\n",
    "        ', peso {peso:.1f}kgs e {cond_nac} brasileiro'\\\n",
    "        .format( \n",
    "            nome=nome, \n",
    "            idade=idade, \n",
    "            altura=altura, \n",
    "            peso=peso, \n",
    "            cond_nac= 'sou' if brasileiro else 'não sou' \n",
    "        ) \n",
    "print(frase) "
   ]
  },
  {
   "cell_type": "code",
   "execution_count": 31,
   "metadata": {},
   "outputs": [
    {
     "data": {
      "text/plain": [
       "'Meu nome é Vinicius, tenho 27 anos, tenho 1.97m de altura, peso 99.7kgs e sou brasileiro'"
      ]
     },
     "execution_count": 31,
     "metadata": {},
     "output_type": "execute_result"
    }
   ],
   "source": [
    "f'Meu nome é {nome}, tenho {idade} anos, tenho {altura:.2f}m de altura' \\\n",
    "        f\", peso {peso:.1f}kgs e {'sou' if brasileiro else 'não sou'} brasileiro\""
   ]
  },
  {
   "cell_type": "code",
   "execution_count": null,
   "metadata": {},
   "outputs": [],
   "source": []
  }
 ],
 "metadata": {
  "kernelspec": {
   "display_name": "Python 3",
   "language": "python",
   "name": "python3"
  },
  "language_info": {
   "codemirror_mode": {
    "name": "ipython",
    "version": 3
   },
   "file_extension": ".py",
   "mimetype": "text/x-python",
   "name": "python",
   "nbconvert_exporter": "python",
   "pygments_lexer": "ipython3",
   "version": "3.8.3"
  },
  "varInspector": {
   "cols": {
    "lenName": 16,
    "lenType": 16,
    "lenVar": 40
   },
   "kernels_config": {
    "python": {
     "delete_cmd_postfix": "",
     "delete_cmd_prefix": "del ",
     "library": "var_list.py",
     "varRefreshCmd": "print(var_dic_list())"
    },
    "r": {
     "delete_cmd_postfix": ") ",
     "delete_cmd_prefix": "rm(",
     "library": "var_list.r",
     "varRefreshCmd": "cat(var_dic_list()) "
    }
   },
   "types_to_exclude": [
    "module",
    "function",
    "builtin_function_or_method",
    "instance",
    "_Feature"
   ],
   "window_display": false
  }
 },
 "nbformat": 4,
 "nbformat_minor": 4
}
