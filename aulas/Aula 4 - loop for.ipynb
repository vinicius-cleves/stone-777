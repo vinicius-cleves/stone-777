{
 "cells": [
  {
   "cell_type": "markdown",
   "metadata": {},
   "source": [
    "# Aula 4 - loop for\n"
   ]
  },
  {
   "cell_type": "markdown",
   "metadata": {},
   "source": [
    "# Laços de repetição (for)\n",
    "\n",
    "Na última aula, vimos como usar o laço de repetição \"while\" para repetir operações em Python\n",
    "\n",
    "Agora, veremos um outro laço, o **for**\n",
    "\n",
    "Mas, antes de vermos como este laço pode ser utilizado para **repetir operações**, é interessante entender o `for` como sendo, na realidade, um operador utilizado para **percorrer elementos de uma lista** (na verdade, de qualquer objeto **iterável**. Conheceremos outros objetos assim mais pra frente...)\n",
    "\n",
    "A estrutura do for é:\n",
    "\n",
    "```python\n",
    "for item in lista:\n",
    "    operacao_feita_pra_cada_item\n",
    "```"
   ]
  },
  {
   "cell_type": "code",
   "execution_count": 1,
   "metadata": {},
   "outputs": [
    {
     "name": "stdout",
     "output_type": "stream",
     "text": [
      "a\n",
      "b\n",
      "c\n",
      "d\n"
     ]
    }
   ],
   "source": [
    "lista = ['a', 'b', 'c', 'd']\n",
    "\n",
    "for item in lista:\n",
    "    print(item)"
   ]
  },
  {
   "cell_type": "code",
   "execution_count": 2,
   "metadata": {},
   "outputs": [
    {
     "data": {
      "text/plain": [
       "['a', 'b', 'c', 'd']"
      ]
     },
     "execution_count": 2,
     "metadata": {},
     "output_type": "execute_result"
    }
   ],
   "source": [
    "lista"
   ]
  },
  {
   "cell_type": "markdown",
   "metadata": {},
   "source": [
    "O código acima é equivalente a:"
   ]
  },
  {
   "cell_type": "code",
   "execution_count": 3,
   "metadata": {},
   "outputs": [
    {
     "name": "stdout",
     "output_type": "stream",
     "text": [
      "a\n",
      "b\n",
      "c\n",
      "d\n"
     ]
    }
   ],
   "source": [
    "lista = ['a', 'b', 'c', 'd']\n",
    "\n",
    "print(lista[0])\n",
    "print(lista[1])\n",
    "print(lista[2])\n",
    "print(lista[3])"
   ]
  },
  {
   "cell_type": "markdown",
   "metadata": {},
   "source": [
    "### Exemplos de uso\n",
    "\n",
    "#### Separando números positivos e negativos de uma lista de números"
   ]
  },
  {
   "cell_type": "code",
   "execution_count": 4,
   "metadata": {},
   "outputs": [
    {
     "name": "stdout",
     "output_type": "stream",
     "text": [
      "[-6, -10]\n",
      "[4, 5, 6, 5, 56, 7, 78, 80, 9]\n"
     ]
    }
   ],
   "source": [
    "lista = [4, 5, 6, 5, -6, 56, 7, -10, 78, 80, 9]\n",
    "\n",
    "lista_neg = []\n",
    "lista_pos = []\n",
    "\n",
    "for item in lista:\n",
    "    if item >= 0:\n",
    "        lista_pos.append(item)\n",
    "    else:\n",
    "        lista_neg.append(item)\n",
    "print(lista_neg)\n",
    "print(lista_pos)"
   ]
  },
  {
   "cell_type": "markdown",
   "metadata": {},
   "source": [
    "#### Multiplicando cada item de uma lista por 2"
   ]
  },
  {
   "cell_type": "code",
   "execution_count": 6,
   "metadata": {},
   "outputs": [
    {
     "data": {
      "text/plain": [
       "[2, 4, 6, 10, 306, -112]"
      ]
     },
     "execution_count": 6,
     "metadata": {},
     "output_type": "execute_result"
    }
   ],
   "source": [
    "lista = [1, 2, 3, 5, 153, -56]\n",
    "lista_dobro = []\n",
    "\n",
    "for item in lista:\n",
    "    lista_dobro.append(item * 2)\n",
    "lista_dobro"
   ]
  },
  {
   "cell_type": "markdown",
   "metadata": {},
   "source": [
    "### Exercicio\n",
    "Faça um programa que pega uma lista e cria outra lista com os valores da primeira elevados ao quadrado"
   ]
  },
  {
   "cell_type": "code",
   "execution_count": 8,
   "metadata": {},
   "outputs": [
    {
     "name": "stdout",
     "output_type": "stream",
     "text": [
      "[1]\n",
      "[1, 4]\n",
      "[1, 4, 9]\n",
      "[1, 4, 9, 16]\n",
      "[1, 4, 9, 16, 25]\n"
     ]
    }
   ],
   "source": [
    "lista = [1,2,3,4,5] \n",
    "lista_quadrada = [] \n",
    "for item in lista: \n",
    "    lista_quadrada.append(item**2) \n",
    "    print(lista_quadrada) "
   ]
  },
  {
   "cell_type": "markdown",
   "metadata": {},
   "source": [
    "## Compreensão de listas\n",
    "\n",
    "Uma estrutura extremamente útil em python é a __compreensão de listas__ (list comprehension), com a qual é possível construir listas novas a partir de outras listas de forma bem condensada!\n",
    "\n",
    "A sintaxe é: \n",
    "\n",
    "```python\n",
    "[operacao_sobre_os_items for item in lista_base]\n",
    "```\n",
    "\n",
    "Por exemplo, é possível criar a mesma \"lista_dobro\" definida acima, de forma muito mais condensada:\n",
    "\n"
   ]
  },
  {
   "cell_type": "code",
   "execution_count": 9,
   "metadata": {},
   "outputs": [
    {
     "data": {
      "text/plain": [
       "[2, 4, 6, 10, 306, -112]"
      ]
     },
     "execution_count": 9,
     "metadata": {},
     "output_type": "execute_result"
    }
   ],
   "source": [
    "lista = [1, 2, 3, 5, 153, -56]\n",
    "lista_dobro = []\n",
    "\n",
    "for item in lista:\n",
    "    lista_dobro.append(item * 2)\n",
    "lista_dobro"
   ]
  },
  {
   "cell_type": "code",
   "execution_count": 10,
   "metadata": {},
   "outputs": [
    {
     "data": {
      "text/plain": [
       "[2, 4, 6, 10, 306, -112]"
      ]
     },
     "execution_count": 10,
     "metadata": {},
     "output_type": "execute_result"
    }
   ],
   "source": [
    "lista_dobro_comp = [item * 2 for item in lista]\n",
    "lista_dobro_comp"
   ]
  },
  {
   "cell_type": "markdown",
   "metadata": {},
   "source": [
    "Também é possível filtrar os items da lista usando compreensão de listas!\n",
    "\n",
    "A sintaxe é:\n",
    "\n",
    "```python\n",
    "[operacao_sobre_os_items for item in lista_base if condicao]\n",
    "```"
   ]
  },
  {
   "cell_type": "code",
   "execution_count": 14,
   "metadata": {},
   "outputs": [
    {
     "data": {
      "text/plain": [
       "[2]"
      ]
     },
     "execution_count": 14,
     "metadata": {},
     "output_type": "execute_result"
    }
   ],
   "source": [
    "lista = [1, 2, 3, 5, 153, -56]\n",
    "lista_pares = [item for item in lista if item % 2 == 0 and item >= 0]\n",
    "lista_pares"
   ]
  },
  {
   "cell_type": "code",
   "execution_count": 12,
   "metadata": {},
   "outputs": [
    {
     "name": "stdout",
     "output_type": "stream",
     "text": [
      "[-6, -10]\n",
      "[4, 5, 6, 5, 56, 7, 78, 80, 9]\n"
     ]
    }
   ],
   "source": [
    "lista = [4, 5, 6, 5, -6, 56, 7, -10, 78, 80, 9]\n",
    "\n",
    "lista_neg = []\n",
    "lista_pos = []\n",
    "\n",
    "for item in lista:\n",
    "    if item >= 0:\n",
    "        lista_pos.append(item)\n",
    "    else:\n",
    "        lista_neg.append(item)\n",
    "print(lista_neg)\n",
    "print(lista_pos)"
   ]
  },
  {
   "cell_type": "code",
   "execution_count": 13,
   "metadata": {},
   "outputs": [
    {
     "name": "stdout",
     "output_type": "stream",
     "text": [
      "[-6, -10]\n",
      "[4, 5, 6, 5, 56, 7, 78, 80, 9]\n"
     ]
    }
   ],
   "source": [
    "lista = [4, 5, 6, 5, -6, 56, 7, -10, 78, 80, 9]\n",
    "\n",
    "lista_neg = [item for item in lista if item < 0]\n",
    "lista_pos = [item for item in lista if item >= 0]\n",
    "\n",
    "print(lista_neg)\n",
    "print(lista_pos)"
   ]
  },
  {
   "cell_type": "markdown",
   "metadata": {},
   "source": [
    "É também possivel definir um `if-else` dentro da compreensão de listas:\n",
    "\n",
    "```python\n",
    "[valor_caso_if if condicao else valor_caso_else for item in lista_base]\n",
    "```\n",
    "\n",
    "_\n"
   ]
  },
  {
   "cell_type": "code",
   "execution_count": 22,
   "metadata": {},
   "outputs": [
    {
     "name": "stdout",
     "output_type": "stream",
     "text": [
      "['par', 'impar', 'par', 'impar', 'par', 'par', 'impar', 'par', 'par', 'par', 'impar']\n"
     ]
    }
   ],
   "source": [
    "lista = [4, 5, 6, 5, -6, 56, 7, -10, 78, 80, 9]\n",
    "par_ou_impar = ['par' if item % 2 == 0 else 'impar' for item in lista]\n",
    "print(par_ou_impar)"
   ]
  },
  {
   "cell_type": "code",
   "execution_count": 16,
   "metadata": {},
   "outputs": [
    {
     "data": {
      "text/plain": [
       "'par'"
      ]
     },
     "execution_count": 16,
     "metadata": {},
     "output_type": "execute_result"
    }
   ],
   "source": [
    "item = 2\n",
    "res = 'par' if item % 2 == 0 else 'impar'\n",
    "res"
   ]
  },
  {
   "cell_type": "code",
   "execution_count": 20,
   "metadata": {},
   "outputs": [
    {
     "data": {
      "text/plain": [
       "[1.0, 1.4142135623730951, 1.7320508075688772]"
      ]
     },
     "execution_count": 20,
     "metadata": {},
     "output_type": "execute_result"
    }
   ],
   "source": [
    "import math\n",
    "lista = [1,2,3]\n",
    "[math.sqrt(item) for item in lista]"
   ]
  },
  {
   "cell_type": "markdown",
   "metadata": {},
   "source": [
    "### Exercicio\n",
    "Faça um programa que pega uma lista e cria outra lista com os valores da primeira elevados ao quadrado. \n",
    "Dessa vez, use Compreensão de Listas"
   ]
  },
  {
   "cell_type": "code",
   "execution_count": 23,
   "metadata": {},
   "outputs": [
    {
     "name": "stdout",
     "output_type": "stream",
     "text": [
      "[1, 4, 9, 16, 25]\n"
     ]
    }
   ],
   "source": [
    "lista = [1, 2, 3, 4, 5] \n",
    "quadrado = [item**2 for item in lista] \n",
    "print(quadrado) \n"
   ]
  },
  {
   "cell_type": "markdown",
   "metadata": {},
   "source": [
    "## range()\n",
    "Um substituto para variavel contadora\n"
   ]
  },
  {
   "cell_type": "code",
   "execution_count": 25,
   "metadata": {},
   "outputs": [
    {
     "name": "stdout",
     "output_type": "stream",
     "text": [
      "Olá mundo! 0\n",
      "Olá mundo! 1\n",
      "Olá mundo! 2\n",
      "Olá mundo! 3\n",
      "Olá mundo! 4\n"
     ]
    }
   ],
   "source": [
    "for i in range(5):\n",
    "    print('Olá mundo!', i)"
   ]
  },
  {
   "cell_type": "markdown",
   "metadata": {},
   "source": [
    "Note que este laço se diferencia do while no fato de **não precisar de uma condição explícita**\n",
    "\n",
    "Este laço determina que as operações sejam repetidas **para valores em uma lista** (que no caso é o `range`).\n",
    "\n",
    "Este laço é, portanto, bem mais controlado -- dificilmente ocorrerá loops infinitos!"
   ]
  },
  {
   "cell_type": "markdown",
   "metadata": {},
   "source": [
    "### Explicando o range()\n",
    "Cria um **intervalo** (fechado no começo, aberto no final) que é uma especie de \"lista preguiçosa\" de **números em sequência**. Sua sintaxe é:\n",
    "\n",
    "- range(primeiro_numero, último_numero, passo)\n",
    "\n",
    "Se for dado apenas um argumento, o padrão é começar por zero, e ir de 1 em 1:\n",
    "\n",
    "- range(10) é equivalente a range(0, 10, 1), cria uma sequência de 0 a 9, de 1 em 1\n",
    "- range(-12, 12, 2): cria uma sequência de -12 a 11, de 2 em 2\n",
    "\n",
    "Ao fazermos list(range()), obtermos uma lista correspondente ao iterável.\n",
    "\n",
    "**OBS: só podemos usar ints no range!**"
   ]
  },
  {
   "cell_type": "code",
   "execution_count": 26,
   "metadata": {},
   "outputs": [
    {
     "data": {
      "text/plain": [
       "[0, 1, 2, 3, 4]"
      ]
     },
     "execution_count": 26,
     "metadata": {},
     "output_type": "execute_result"
    }
   ],
   "source": [
    "list(range(5))"
   ]
  },
  {
   "cell_type": "markdown",
   "metadata": {},
   "source": [
    "É muito comum usar o for com o range para **percorrer os índices de uma lista**, e assim também **acessar os elementos da lista através do índice**.\n",
    "\n",
    "Isso é feito passando pro range o comprinento da lista como argumento!"
   ]
  },
  {
   "cell_type": "code",
   "execution_count": 27,
   "metadata": {},
   "outputs": [
    {
     "name": "stdout",
     "output_type": "stream",
     "text": [
      "0 1\n",
      "1 24\n",
      "2 8\n",
      "3 6\n",
      "4 7\n"
     ]
    }
   ],
   "source": [
    "lista = [1, 24, 8, 6, 7]\n",
    "\n",
    "for i in range(len(lista)):\n",
    "    print(i, lista[i])"
   ]
  },
  {
   "cell_type": "markdown",
   "metadata": {},
   "source": [
    "Note a diferença do que foi feito acima e o que é feito abaixo:"
   ]
  },
  {
   "cell_type": "code",
   "execution_count": 28,
   "metadata": {},
   "outputs": [
    {
     "name": "stdout",
     "output_type": "stream",
     "text": [
      "1\n",
      "24\n",
      "8\n",
      "6\n",
      "7\n"
     ]
    }
   ],
   "source": [
    "for item in lista:\n",
    "    print(item)"
   ]
  },
  {
   "cell_type": "markdown",
   "metadata": {},
   "source": [
    "Uma situação muito comum é quando você precisa, além do valor do item, da posição dele dentro da lista. Para isso, tem a função `enumerate`"
   ]
  },
  {
   "cell_type": "code",
   "execution_count": 30,
   "metadata": {},
   "outputs": [
    {
     "name": "stdout",
     "output_type": "stream",
     "text": [
      "1 0\n",
      "24 1\n",
      "8 2\n",
      "6 3\n",
      "7 4\n"
     ]
    }
   ],
   "source": [
    "for idx, item in enumerate(lista):\n",
    "    print(idx, item)"
   ]
  },
  {
   "cell_type": "markdown",
   "metadata": {},
   "source": [
    "## `break` e `continue`\n",
    "Funcionam tanto no `for` quanto no `while`\n",
    "- `break`: interrompe a execução do laço \n",
    "- `continue`: interrompe a passagem **atual** pelo laço, fazendo a execução retornar a linha do `for` ou `while`"
   ]
  },
  {
   "cell_type": "code",
   "execution_count": 34,
   "metadata": {},
   "outputs": [
    {
     "name": "stdout",
     "output_type": "stream",
     "text": [
      "0\n",
      "bla\n",
      "1\n",
      "bla\n",
      "2\n",
      "bla\n",
      "3\n",
      "bla\n",
      "4\n",
      "bla\n",
      "5\n"
     ]
    }
   ],
   "source": [
    "for i in range(10):\n",
    "    print(i)\n",
    "    if i == 5:\n",
    "        break\n",
    "    print('bla')\n"
   ]
  },
  {
   "cell_type": "code",
   "execution_count": 35,
   "metadata": {},
   "outputs": [
    {
     "name": "stdout",
     "output_type": "stream",
     "text": [
      "0\n",
      "bla\n",
      "1\n",
      "bla\n",
      "2\n",
      "bla\n",
      "3\n",
      "bla\n",
      "4\n",
      "bla\n",
      "5\n",
      "6\n",
      "bla\n",
      "7\n",
      "bla\n",
      "8\n",
      "bla\n",
      "9\n",
      "bla\n"
     ]
    }
   ],
   "source": [
    "for i in range(10):\n",
    "    print(i)\n",
    "    if i == 5:\n",
    "        continue\n",
    "    print('bla')"
   ]
  },
  {
   "cell_type": "code",
   "execution_count": 42,
   "metadata": {},
   "outputs": [
    {
     "name": "stdout",
     "output_type": "stream",
     "text": [
      "O\n",
      " X\n",
      " X\n",
      " X\n"
     ]
    }
   ],
   "source": [
    "tobreak = False\n",
    "for i in range(3):\n",
    "    print('O')\n",
    "    for j in range(5):\n",
    "        print(' X')\n",
    "        if j >= 2:\n",
    "            tobreak = True\n",
    "            break \n",
    "    if tobreak == True:\n",
    "        break"
   ]
  },
  {
   "cell_type": "markdown",
   "metadata": {},
   "source": [
    "___\n",
    "___\n",
    "\n"
   ]
  },
  {
   "cell_type": "markdown",
   "metadata": {},
   "source": [
    "# Exercicios\n",
    "## Notas complicadas\n",
    "\n",
    "Os mapeamento de notas para conceitos e de conceitos para notas são definidos como:\n",
    "\n",
    "- [9, 10] -> A -> 10\n",
    "- [8, 9[  -> B -> 8.5\n",
    "- [7, 8[  -> C -> 7.5\n",
    "- [6, 7[  -> D -> 6.5\n",
    "- [0, 6[  -> F -> 0\n",
    "\n",
    "Faça um programa que:\n",
    "\n",
    "1. Leia 3 conceitos e imprima a média\n",
    "2. Leia 3 conceitos (com validação da entrada) e imprima a média\n",
    "3. Leia 3 conceitos (com validação da entrada) e imprima a média e quantas vezes cada conceito apareceu.\n",
    "4. Leia conceitos (com validação da entrada) até que o usuário digite 'sair' e imprima a média e quantas vezes cada conceito apareceu.\n",
    "\n",
    "Ao construir o seu programa divida a parte de leitura e a parte de processamento, para fins do exercicio\n",
    "\n"
   ]
  },
  {
   "cell_type": "code",
   "execution_count": null,
   "metadata": {},
   "outputs": [],
   "source": [
    "# Parte 1 - Leitura das entradas\n",
    "\n",
    "# fim da parte 1\n",
    "\n",
    "conceitos = [...] # lista com os conceitos\n",
    "\n",
    "# Parte 2 - Processamento\n",
    "\n",
    "# fim da parte 2"
   ]
  },
  {
   "cell_type": "code",
   "execution_count": null,
   "metadata": {},
   "outputs": [],
   "source": [
    "list."
   ]
  },
  {
   "attachments": {
    "recalculando_a_roda.svg": {
     "image/svg+xml": [
      "PD94bWwgdmVyc2lvbj0iMS4wIiBlbmNvZGluZz0iVVRGLTgiPz4KPCFET0NUWVBFIHN2ZyBQVUJMSUMgIi0vL1czQy8vRFREIFNWRyAxLjEvL0VOIiAiaHR0cDovL3d3dy53My5vcmcvR3JhcGhpY3MvU1ZHLzEuMS9EVEQvc3ZnMTEuZHRkIj4KPHN2ZyB4bWxucz0iaHR0cDovL3d3dy53My5vcmcvMjAwMC9zdmciIHhtbG5zOnhsaW5rPSJodHRwOi8vd3d3LnczLm9yZy8xOTk5L3hsaW5rIiB2ZXJzaW9uPSIxLjEiIHdpZHRoPSIyNDFweCIgaGVpZ2h0PSIyNDFweCIgdmlld0JveD0iLTAuNSAtMC41IDI0MSAyNDEiPjxkZWZzLz48Zz48ZWxsaXBzZSBjeD0iMTIwIiBjeT0iMTIwIiByeD0iMTIwIiByeT0iMTIwIiBmaWxsPSIjZmZmZmZmIiBzdHJva2U9IiMwMDAwMDAiIHBvaW50ZXItZXZlbnRzPSJhbGwiLz48cmVjdCB4PSIxMjAiIHk9IjAiIHdpZHRoPSIxMjAiIGhlaWdodD0iMTIwIiBmaWxsPSJub25lIiBzdHJva2U9IiMwMDAwMDAiIHBvaW50ZXItZXZlbnRzPSJhbGwiLz48L2c+PC9zdmc+"
     ]
    }
   },
   "cell_type": "markdown",
   "metadata": {},
   "source": [
    "## Recalculando a roda\n",
    "Monte Carlo é uma técnica de simulação onde você usa simulações aleatórias para fazer o experimentos. Nesse problema, vamos calcular a área do circulo unitário (r=1) usando Monte Carlo.\n",
    "\n",
    "Sabemos que conseguimos encaixar um setor de 1/4 de circulo dentro do quadrado de lado 1. O canto inferior esquerdo do quadrado, localizado na origem é também o centro do circulo.\n",
    "\n",
    "![recalculando_a_roda.svg](attachment:recalculando_a_roda.svg)\n",
    "\n",
    "Gere 1.000.000 de pares x, y aleatórios e verifique a proporção desses pares que cairam dentro do setor do circulo. Depois estime a area do circulo e compare com o valor obtido pela formula \n",
    "\n",
    "$$ area = \\pi r^2 $$\n",
    "\n"
   ]
  },
  {
   "cell_type": "code",
   "execution_count": null,
   "metadata": {},
   "outputs": [],
   "source": []
  },
  {
   "cell_type": "markdown",
   "metadata": {},
   "source": [
    "# Listas aninhadas\n",
    "Listas aninhadas nada mais é do que quando temos listas dentro de outras listas. Ao indexarmos a nossa lista raiz, conseguimos acessar a lista naquela posição, e podemos fazer as operações normalmente com essa lista como se tivessemos ela em uma variavel. \n"
   ]
  },
  {
   "cell_type": "code",
   "execution_count": 1,
   "metadata": {},
   "outputs": [],
   "source": [
    "lista = [[1,2], [3,4], 5]"
   ]
  },
  {
   "cell_type": "markdown",
   "metadata": {},
   "source": [
    "## Matrizes\n",
    "Matrizes é um caso particular de listas aninhadas. Usamos ela quando queremos uma estrutura de dados em forma de tabela. Assim, a nossa lista principal vai guardar listas onde cada sublista é uma linha e cada elemento da sublista se refere a posição em uma coluna (ou vice-versa).\n",
    "\n",
    "Por exemplo, se quisermos representar uma tabela com as informações de dois clientes, no esquema a seguir:\n",
    "\n",
    "<table>\n",
    "<thead>\n",
    "  <tr>\n",
    "    <th>Nome</th>\n",
    "    <th>Idade</th>\n",
    "    <th>P1</th>\n",
    "    <th>P2</th>\n",
    "  </tr>\n",
    "</thead>\n",
    "<tbody>\n",
    "  <tr>\n",
    "    <td>Pedro</td>\n",
    "    <td>21</td>\n",
    "    <td>7</td>\n",
    "    <td>9</td>\n",
    "  </tr>\n",
    "  <tr>\n",
    "    <td>Felipe</td>\n",
    "    <td>23</td>\n",
    "    <td>5</td>\n",
    "    <td>8</td>\n",
    "  </tr>\n",
    "</tbody>\n",
    "</table>"
   ]
  },
  {
   "cell_type": "markdown",
   "metadata": {},
   "source": [
    "podemos representar isso como:"
   ]
  },
  {
   "cell_type": "code",
   "execution_count": null,
   "metadata": {},
   "outputs": [],
   "source": []
  },
  {
   "cell_type": "markdown",
   "metadata": {},
   "source": [
    "ou:"
   ]
  },
  {
   "cell_type": "code",
   "execution_count": null,
   "metadata": {},
   "outputs": [],
   "source": []
  },
  {
   "cell_type": "markdown",
   "metadata": {},
   "source": [
    "Para percorrermos matrizes, podemos usar `for` aninhados:"
   ]
  },
  {
   "cell_type": "code",
   "execution_count": null,
   "metadata": {},
   "outputs": [],
   "source": []
  },
  {
   "cell_type": "markdown",
   "metadata": {},
   "source": [
    "ou os indices:"
   ]
  },
  {
   "cell_type": "code",
   "execution_count": null,
   "metadata": {},
   "outputs": [],
   "source": []
  },
  {
   "cell_type": "markdown",
   "metadata": {},
   "source": [
    "Vamos aproveitar para mostrar como fazer compreensão de listas aninhadas. Digamos, por exemplo, que você tenha uma lista onde cada elemento é uma lista com o valor dos tickets de um cliente. Para calcular o ticket médio dos seus clientes, uma forma é colocar todos esses valores em uma lista só. Como fazer isso com compreensão de listas?"
   ]
  },
  {
   "cell_type": "code",
   "execution_count": null,
   "metadata": {},
   "outputs": [],
   "source": []
  },
  {
   "cell_type": "markdown",
   "metadata": {},
   "source": [
    "# A verdade sobre as variaveis!!!\n",
    "http://pythontutor.com/live.html#mode=edit"
   ]
  },
  {
   "cell_type": "code",
   "execution_count": 3,
   "metadata": {},
   "outputs": [],
   "source": [
    "lista = [[1,2], [3,4]]\n",
    "item0 = lista[0]\n",
    "item0[0] = 1000\n",
    "# lista"
   ]
  },
  {
   "cell_type": "markdown",
   "metadata": {},
   "source": [
    "# Exercicios\n",
    "\n",
    "## Melhor aluno\n",
    "Dado a tabela acima, faça um programa que obtenha o nome do alunos de maior média. O seu programa deve ser escalavel no sentido de que a tabela poderia ter um numero bem grande de alunos\n"
   ]
  },
  {
   "cell_type": "markdown",
   "metadata": {},
   "source": [
    "## Muitos primos\n",
    "**exercicio de loops encadeados**\n",
    "\n",
    "Faça uma função que calcula os primeiros `n` números primos."
   ]
  },
  {
   "cell_type": "markdown",
   "metadata": {},
   "source": [
    "## Desafio: Multiplicação de matrizes\n",
    "Faça uma programa que calcula o resultado de uma multiplicação de matrizes (representadas como lista de listas).\n",
    "\n",
    "Por exemplo:\n",
    "```python\n",
    "matriz_0 = [\n",
    "    [0, 2],\n",
    "    [1, 2]\n",
    "]\n",
    "\n",
    "matriz_1 = [\n",
    "    [6, 7],\n",
    "    [0, 9]\n",
    "]\n",
    "\n",
    "# seu codigo aqui\n",
    "\n",
    "print(resultado)\n",
    "# [\n",
    "#     [ 0, 18],\n",
    "#     [ 6, 25]\n",
    "# ]\n",
    "```"
   ]
  },
  {
   "cell_type": "code",
   "execution_count": null,
   "metadata": {},
   "outputs": [],
   "source": []
  },
  {
   "cell_type": "code",
   "execution_count": null,
   "metadata": {},
   "outputs": [],
   "source": []
  },
  {
   "cell_type": "code",
   "execution_count": null,
   "metadata": {},
   "outputs": [],
   "source": []
  },
  {
   "cell_type": "code",
   "execution_count": null,
   "metadata": {},
   "outputs": [],
   "source": []
  }
 ],
 "metadata": {
  "kernelspec": {
   "display_name": "Python 3",
   "language": "python",
   "name": "python3"
  },
  "language_info": {
   "codemirror_mode": {
    "name": "ipython",
    "version": 3
   },
   "file_extension": ".py",
   "mimetype": "text/x-python",
   "name": "python",
   "nbconvert_exporter": "python",
   "pygments_lexer": "ipython3",
   "version": "3.8.3"
  }
 },
 "nbformat": 4,
 "nbformat_minor": 4
}
