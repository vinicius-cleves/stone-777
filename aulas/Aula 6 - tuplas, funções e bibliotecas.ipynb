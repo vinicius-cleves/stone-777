{
 "cells": [
  {
   "cell_type": "markdown",
   "metadata": {},
   "source": [
    "# Aula 6 - tuplas, funções e bibliotecas\n",
    "\n"
   ]
  },
  {
   "cell_type": "markdown",
   "metadata": {},
   "source": [
    "___\n",
    "___\n",
    "___\n"
   ]
  },
  {
   "cell_type": "markdown",
   "metadata": {},
   "source": [
    "## 1) Tuplas\n",
    "\n",
    "Até o momento, temos utilizado **listas** pra armazenar uma coleção ordenada de dados.\n",
    "\n",
    "Aprenderemos agora sobre uma nova **estrutura de dados**: tuplas!\n",
    "\n",
    "Tuplas são estruturas bastante parecidas com listas:\n",
    "\n",
    "- Podem guardar **tipos diferentes de dados**.\n",
    "- São indexadas (podemos **acessar elementos por índices**).\n",
    "- São iteráveis (**podemos percorrer com o `for`**).\n",
    "\n",
    "A principal diferença é: tuplas são **imutáveis**!\n",
    "\n",
    "Para tuplas **não é possível**: alterar elementos individuais, adicionar elementos, remover elementos ou alterar a ordem dos elementos. Uma vez criada, não é possível alterar nada de uma tupla!\n",
    "\n",
    "Mas, então, pra que servem as tuplas?\n",
    "\n",
    "- É um jeito de **sinalizar que esses dados não deveriam ser alterados**. \n",
    "\n",
    "- É um meio de garantir que os elementos estarão **em uma ordem específica**.\n",
    "\n",
    "- O acesso a elementos de uma tupla **é bem mais rápido**.\n",
    "\n",
    "Tuplas são indicadas entre **parênteses ()**\n"
   ]
  },
  {
   "cell_type": "code",
   "execution_count": 2,
   "metadata": {},
   "outputs": [
    {
     "data": {
      "text/plain": [
       "tuple"
      ]
     },
     "execution_count": 2,
     "metadata": {},
     "output_type": "execute_result"
    }
   ],
   "source": [
    "a = (10, 'Vinicius')\n",
    "type(a)"
   ]
  },
  {
   "cell_type": "markdown",
   "metadata": {},
   "source": [
    "No entanto, é possível definir tuplas sem a utilização de parênteses, apenas listando os elementos, separados por vírgula\n"
   ]
  },
  {
   "cell_type": "code",
   "execution_count": 4,
   "metadata": {},
   "outputs": [
    {
     "data": {
      "text/plain": [
       "(10, 'Vinicius')"
      ]
     },
     "execution_count": 4,
     "metadata": {},
     "output_type": "execute_result"
    }
   ],
   "source": [
    "a = 10, 'Vinicius'\n",
    "a"
   ]
  },
  {
   "cell_type": "code",
   "execution_count": 5,
   "metadata": {},
   "outputs": [
    {
     "data": {
      "text/plain": [
       "tuple"
      ]
     },
     "execution_count": 5,
     "metadata": {},
     "output_type": "execute_result"
    }
   ],
   "source": [
    "type(a)"
   ]
  },
  {
   "cell_type": "code",
   "execution_count": 6,
   "metadata": {},
   "outputs": [],
   "source": [
    "a = 10,\n",
    "b = 20"
   ]
  },
  {
   "cell_type": "code",
   "execution_count": 8,
   "metadata": {},
   "outputs": [
    {
     "data": {
      "text/plain": [
       "tuple"
      ]
     },
     "execution_count": 8,
     "metadata": {},
     "output_type": "execute_result"
    }
   ],
   "source": [
    "type(a)"
   ]
  },
  {
   "cell_type": "markdown",
   "metadata": {},
   "source": [
    "para acessar um elemento pelo índice ainda usamos colchete"
   ]
  },
  {
   "cell_type": "code",
   "execution_count": 9,
   "metadata": {},
   "outputs": [
    {
     "data": {
      "text/plain": [
       "10"
      ]
     },
     "execution_count": 9,
     "metadata": {},
     "output_type": "execute_result"
    }
   ],
   "source": [
    "a = 10, 'Vinicius'\n",
    "a[0]"
   ]
  },
  {
   "cell_type": "markdown",
   "metadata": {},
   "source": [
    "a tupla é iteravel, logo podemos utilizar o `for in`"
   ]
  },
  {
   "cell_type": "code",
   "execution_count": 10,
   "metadata": {},
   "outputs": [
    {
     "name": "stdout",
     "output_type": "stream",
     "text": [
      "10\n",
      "Vinicius\n"
     ]
    }
   ],
   "source": [
    "for el in a:\n",
    "    print(el)"
   ]
  },
  {
   "cell_type": "markdown",
   "metadata": {},
   "source": [
    "Mas, como dissemos, a tupla é imutável! Assim, se tentarmos mudar algum dos seus elementos, teremos um erro:\n"
   ]
  },
  {
   "cell_type": "code",
   "execution_count": 11,
   "metadata": {},
   "outputs": [
    {
     "ename": "TypeError",
     "evalue": "'tuple' object does not support item assignment",
     "output_type": "error",
     "traceback": [
      "\u001b[0;31m---------------------------------------------------------------------------\u001b[0m",
      "\u001b[0;31mTypeError\u001b[0m                                 Traceback (most recent call last)",
      "\u001b[0;32m<ipython-input-11-f8581f7936ac>\u001b[0m in \u001b[0;36m<module>\u001b[0;34m\u001b[0m\n\u001b[0;32m----> 1\u001b[0;31m \u001b[0ma\u001b[0m\u001b[0;34m[\u001b[0m\u001b[0;36m0\u001b[0m\u001b[0;34m]\u001b[0m \u001b[0;34m=\u001b[0m \u001b[0;36m20\u001b[0m\u001b[0;34m\u001b[0m\u001b[0;34m\u001b[0m\u001b[0m\n\u001b[0m",
      "\u001b[0;31mTypeError\u001b[0m: 'tuple' object does not support item assignment"
     ]
    }
   ],
   "source": [
    "a[0] = 20"
   ]
  },
  {
   "cell_type": "markdown",
   "metadata": {},
   "source": [
    "Para \"alterar uma tupla\", podemos fazer um procedimento bem forçado: primeiro, transformamos a tupla em lista; aí, alteramos a lista; depois, transformamos a lista de volta em tupla:"
   ]
  },
  {
   "cell_type": "code",
   "execution_count": 12,
   "metadata": {},
   "outputs": [
    {
     "data": {
      "text/plain": [
       "(10, 'Vinicius')"
      ]
     },
     "execution_count": 12,
     "metadata": {},
     "output_type": "execute_result"
    }
   ],
   "source": [
    "a"
   ]
  },
  {
   "cell_type": "code",
   "execution_count": 13,
   "metadata": {},
   "outputs": [
    {
     "data": {
      "text/plain": [
       "[10, 'Vinicius']"
      ]
     },
     "execution_count": 13,
     "metadata": {},
     "output_type": "execute_result"
    }
   ],
   "source": [
    "lista_a = list(a)\n",
    "lista_a"
   ]
  },
  {
   "cell_type": "code",
   "execution_count": 14,
   "metadata": {},
   "outputs": [
    {
     "data": {
      "text/plain": [
       "[20, 'Vinicius']"
      ]
     },
     "execution_count": 14,
     "metadata": {},
     "output_type": "execute_result"
    }
   ],
   "source": [
    "lista_a[0] = 20\n",
    "lista_a"
   ]
  },
  {
   "cell_type": "code",
   "execution_count": 15,
   "metadata": {},
   "outputs": [
    {
     "data": {
      "text/plain": [
       "(20, 'Vinicius')"
      ]
     },
     "execution_count": 15,
     "metadata": {},
     "output_type": "execute_result"
    }
   ],
   "source": [
    "a_mod = tuple(lista_a)\n",
    "a_mod"
   ]
  },
  {
   "cell_type": "markdown",
   "metadata": {},
   "source": [
    "No entanto, note que a tupla original permaneceu inalterada:"
   ]
  },
  {
   "cell_type": "code",
   "execution_count": 16,
   "metadata": {},
   "outputs": [
    {
     "data": {
      "text/plain": [
       "(10, 'Vinicius')"
      ]
     },
     "execution_count": 16,
     "metadata": {},
     "output_type": "execute_result"
    }
   ],
   "source": [
    "a"
   ]
  },
  {
   "cell_type": "markdown",
   "metadata": {},
   "source": [
    "## 2) Funções\n",
    "\n",
    "Até o momento, já vimos diversas funções em Python.\n",
    "\n",
    "- Na primeira aula, tivemos contato com a função `print()`, que exibe um texto na tela;\n",
    "\n",
    "- Depois, aprendemos sobre a função `input()`, que serve pra capturar algo que o usuário digita;\n",
    "\n",
    "- Em seguida, vimos algumas funções aplicada à listas, como a `sorted()`, para ordenar uma lista;\n"
   ]
  },
  {
   "cell_type": "markdown",
   "metadata": {},
   "source": [
    "\n",
    "A intuição sobre funções, então, já nos é familiar:\n",
    "\n",
    "Uma função é um objeto utilizado para **fazer determinadas ações**.\n",
    "\n",
    "Podemos ver uma função como uma \"caixinha\" que pega uma **entrada** (o argumento), faz algum **processamento**, e então **retorna uma saída** (o output)\n",
    "\n",
    "<img src=\"https://s3.amazonaws.com/illustrativemathematics/images/000/000/782/medium/Task_1_8c7a6a9a2e1421586c40f125bd783de3.jpg?1335065782\" width=300>\n",
    "\n",
    "\n",
    "<img src=\"https://1.bp.blogspot.com/_MhOt9n2UJbM/TC6emeqHdqI/AAAAAAAAAiQ/1brsWuWvOC0/s1600/function-machine.png\" width=300>\n"
   ]
  },
  {
   "cell_type": "markdown",
   "metadata": {},
   "source": [
    "Aprenderemos agora como criar **nossas próprias funções** em Python!"
   ]
  },
  {
   "cell_type": "markdown",
   "metadata": {},
   "source": [
    "A estrutura de **definição de uma função** é dada por:\n",
    "\n",
    "```python\n",
    "def nome_da_funcao(argumentos):\n",
    "    \n",
    "    instrucoes\n",
    "    \n",
    "    return saida\n",
    "```"
   ]
  },
  {
   "cell_type": "markdown",
   "metadata": {},
   "source": [
    "Há 5 elementos fundamentais para a criação de novas funções em Python:\n",
    "\n",
    "- Primeiramente, usamos \"def\" para deixar claro que estamos **definindo** uma função;\n",
    "- Depois, damos um **nome** para nossa função;\n",
    "- Em parênteses, falamos quais serão os **argumentos** da função -- esses são os inputs, e em python, esses elementos são opcionais!\n",
    "- Depois, explicitamos qual é o **processamento** feito pela função;\n",
    "- Ao fim, dizemos o que a função irá **retornar** -- esses são os outputs, e em Python esse elemento é opcional!"
   ]
  },
  {
   "cell_type": "markdown",
   "metadata": {},
   "source": [
    "Sempre que quisermos **executar** uma função, basta **chamá-la**, dando os argumentos desejados!\n",
    "\n",
    "```python\n",
    "nome_da_funcao(argumentos)\n",
    "```"
   ]
  },
  {
   "cell_type": "markdown",
   "metadata": {},
   "source": [
    "__Uma função sem argumentos e sem return__\n",
    "\n",
    "Apenas imprime algo na tela, mas sempre A MESMA COISA\n"
   ]
  },
  {
   "cell_type": "code",
   "execution_count": 17,
   "metadata": {},
   "outputs": [],
   "source": [
    "def cumprimenta():\n",
    "    print('Olá!')"
   ]
  },
  {
   "cell_type": "markdown",
   "metadata": {},
   "source": [
    "__Chamando a função__"
   ]
  },
  {
   "cell_type": "code",
   "execution_count": 18,
   "metadata": {},
   "outputs": [
    {
     "name": "stdout",
     "output_type": "stream",
     "text": [
      "Olá!\n"
     ]
    }
   ],
   "source": [
    "cumprimenta()"
   ]
  },
  {
   "cell_type": "markdown",
   "metadata": {},
   "source": [
    "__Uma função com argumento, mas sem return__\n",
    "\n",
    "Imprime o que eu mandar na tela, como argumento!"
   ]
  },
  {
   "cell_type": "code",
   "execution_count": 20,
   "metadata": {},
   "outputs": [
    {
     "name": "stdout",
     "output_type": "stream",
     "text": [
      "Olá! Vinicius\n"
     ]
    }
   ],
   "source": [
    "def cumprimenta(nome):\n",
    "    print(f'Olá! {nome}')\n",
    "    \n",
    "cumprimenta('Vinicius')"
   ]
  },
  {
   "cell_type": "markdown",
   "metadata": {},
   "source": [
    "__Uma função com dois argumentos, mas ainda sem return__\n",
    "\n",
    "Imprime algo na tela, mas dependendo do segundo argumento que eu passar"
   ]
  },
  {
   "cell_type": "code",
   "execution_count": 24,
   "metadata": {},
   "outputs": [
    {
     "name": "stdout",
     "output_type": "stream",
     "text": [
      "Bom dia! Vinicius\n",
      "Boa tarde! Guilherme\n"
     ]
    }
   ],
   "source": [
    "def cumprimenta(nome, horario):\n",
    "    if horario < 12:\n",
    "        print(f'Bom dia! {nome}')\n",
    "    elif horario < 18:\n",
    "        print(f'Boa tarde! {nome}')\n",
    "    else:\n",
    "        print(f'Boa noite! {nome}')\n",
    "    \n",
    "cumprimenta('Vinicius', 10)\n",
    "cumprimenta('Guilherme', 15)\n"
   ]
  },
  {
   "cell_type": "markdown",
   "metadata": {},
   "source": [
    "Posso mudar a ordem dos argumentos, mas pra isso devo explicitar exatamente quais são os valores que estou passando para quais argumentos!"
   ]
  },
  {
   "cell_type": "code",
   "execution_count": 26,
   "metadata": {},
   "outputs": [
    {
     "name": "stdout",
     "output_type": "stream",
     "text": [
      "Boa tarde! Guilherme\n",
      "Boa tarde! Guilherme\n"
     ]
    }
   ],
   "source": [
    "cumprimenta(horario=15, nome='Guilherme')\n",
    "cumprimenta(nome='Guilherme', horario=15)"
   ]
  },
  {
   "cell_type": "markdown",
   "metadata": {},
   "source": [
    "__Mas e o return?__\n",
    "\n",
    "\n",
    "Todas as funções acima de fato fazem alguma operação, mas nõs não conseguimos **acessar** o resultado das operações! Veja um exemplo mais claro: uma função que calcula a soma de dois números:"
   ]
  },
  {
   "cell_type": "code",
   "execution_count": 31,
   "metadata": {},
   "outputs": [],
   "source": [
    "def soma(num1, num2):\n",
    "    total = num1 + num2\n",
    "    print(total)"
   ]
  },
  {
   "cell_type": "code",
   "execution_count": 32,
   "metadata": {},
   "outputs": [
    {
     "name": "stdout",
     "output_type": "stream",
     "text": [
      "30\n"
     ]
    }
   ],
   "source": [
    "a = soma(10, 20)"
   ]
  },
  {
   "cell_type": "code",
   "execution_count": 33,
   "metadata": {},
   "outputs": [],
   "source": [
    "a"
   ]
  },
  {
   "cell_type": "markdown",
   "metadata": {},
   "source": [
    "Note que a função calcula a soma dos números, mas apenas exibe este resultado com o print! \n",
    "\n",
    "**A variável \"total\" é uma variável que existe apenas no interior da função!!**"
   ]
  },
  {
   "cell_type": "code",
   "execution_count": 34,
   "metadata": {},
   "outputs": [
    {
     "ename": "NameError",
     "evalue": "name 'total' is not defined",
     "output_type": "error",
     "traceback": [
      "\u001b[0;31m---------------------------------------------------------------------------\u001b[0m",
      "\u001b[0;31mNameError\u001b[0m                                 Traceback (most recent call last)",
      "\u001b[0;32m<ipython-input-34-f5f7acea0338>\u001b[0m in \u001b[0;36m<module>\u001b[0;34m\u001b[0m\n\u001b[0;32m----> 1\u001b[0;31m \u001b[0mtotal\u001b[0m\u001b[0;34m\u001b[0m\u001b[0;34m\u001b[0m\u001b[0m\n\u001b[0m",
      "\u001b[0;31mNameError\u001b[0m: name 'total' is not defined"
     ]
    }
   ],
   "source": [
    "total"
   ]
  },
  {
   "cell_type": "markdown",
   "metadata": {},
   "source": [
    "Se quisermos armazenar o valor da soma, podemos **retornar** o valor desta variável!\n",
    "\n",
    "**OBS.:** apenas o **valor** da variável é retornado, não o nome dela!!\n",
    "\n",
    "Fora da função, o nome de variável \"total\" ainda continua não existindo!!"
   ]
  },
  {
   "cell_type": "code",
   "execution_count": 36,
   "metadata": {},
   "outputs": [],
   "source": [
    "def soma(num1, num2):\n",
    "    total = num1 + num2\n",
    "    return total"
   ]
  },
  {
   "cell_type": "markdown",
   "metadata": {},
   "source": [
    "Daí, basta armazenar o resultado retornado em uma variável, **como fazíamos com o input()!**"
   ]
  },
  {
   "cell_type": "code",
   "execution_count": 41,
   "metadata": {},
   "outputs": [
    {
     "data": {
      "text/plain": [
       "30"
      ]
     },
     "execution_count": 41,
     "metadata": {},
     "output_type": "execute_result"
    }
   ],
   "source": [
    "resultado = soma(10, 20)\n",
    "resultado"
   ]
  },
  {
   "cell_type": "code",
   "execution_count": 42,
   "metadata": {},
   "outputs": [
    {
     "ename": "NameError",
     "evalue": "name 'total' is not defined",
     "output_type": "error",
     "traceback": [
      "\u001b[0;31m---------------------------------------------------------------------------\u001b[0m",
      "\u001b[0;31mNameError\u001b[0m                                 Traceback (most recent call last)",
      "\u001b[0;32m<ipython-input-42-f5f7acea0338>\u001b[0m in \u001b[0;36m<module>\u001b[0;34m\u001b[0m\n\u001b[0;32m----> 1\u001b[0;31m \u001b[0mtotal\u001b[0m\u001b[0;34m\u001b[0m\u001b[0;34m\u001b[0m\u001b[0m\n\u001b[0m",
      "\u001b[0;31mNameError\u001b[0m: name 'total' is not defined"
     ]
    }
   ],
   "source": [
    "total"
   ]
  },
  {
   "cell_type": "code",
   "execution_count": 49,
   "metadata": {},
   "outputs": [
    {
     "name": "stdout",
     "output_type": "stream",
     "text": [
      "20\n",
      "10\n",
      "20\n",
      "30\n",
      "20\n"
     ]
    }
   ],
   "source": [
    "def func(num):\n",
    "#     num = 10\n",
    "    print(num)\n",
    "\n",
    "def func2(num):\n",
    "#     num = 30\n",
    "    print(num)\n",
    "    \n",
    "num = 20\n",
    "print(num)\n",
    "func(10)\n",
    "print(num)\n",
    "func2(30)\n",
    "print(num)"
   ]
  },
  {
   "cell_type": "markdown",
   "metadata": {},
   "source": [
    "Vamos elaborar um pouco mais?\n",
    "\n",
    "Que tal fazermos uma função calculadora?"
   ]
  },
  {
   "cell_type": "code",
   "execution_count": 44,
   "metadata": {},
   "outputs": [],
   "source": [
    "def calculadora(n1, n2, op):\n",
    "    if op == '+':\n",
    "        res = n1 + n2\n",
    "    elif op == '-':\n",
    "        res = n1 - n2\n",
    "    elif op == '*':\n",
    "        res = n1 * n2\n",
    "    elif op == '/':\n",
    "        res = n1 / n2\n",
    "    else:\n",
    "        res = 'Não entendi'\n",
    "        \n",
    "    return res"
   ]
  },
  {
   "cell_type": "code",
   "execution_count": 46,
   "metadata": {},
   "outputs": [
    {
     "data": {
      "text/plain": [
       "200"
      ]
     },
     "execution_count": 46,
     "metadata": {},
     "output_type": "execute_result"
    }
   ],
   "source": [
    "calculadora(10, 20, '*')"
   ]
  },
  {
   "cell_type": "markdown",
   "metadata": {},
   "source": [
    "\n",
    "\n",
    "Podemos chamar uma função dentro de outra função? Sim!\n",
    "\n",
    "No exemplo da calculadora, podemos definir a função em termos de várias outras funções pra cada operação:"
   ]
  },
  {
   "cell_type": "code",
   "execution_count": 50,
   "metadata": {},
   "outputs": [
    {
     "data": {
      "text/plain": [
       "30"
      ]
     },
     "execution_count": 50,
     "metadata": {},
     "output_type": "execute_result"
    }
   ],
   "source": [
    "def soma(n1, n2):\n",
    "    return n1 + n2\n",
    "\n",
    "def subtracao(n1, n2):\n",
    "    return n1 - n2 \n",
    "\n",
    "def multiplicacao(n1, n2):\n",
    "    return n1 * n2\n",
    "\n",
    "def divisao(n1, n2):\n",
    "    return n1 / n2\n",
    "\n",
    "def calculadora(n1, n2, op):\n",
    "    if op == '+':\n",
    "        res = soma(n1, n2)\n",
    "    elif op == '-':\n",
    "        res = subtracao(n1, n2)\n",
    "    elif op == '*':\n",
    "        res = multiplicacao(n1, n2)\n",
    "    elif op == '/':\n",
    "        res = divisao(n1, n2)\n",
    "    else:\n",
    "        res = 'Não entendi'\n",
    "        \n",
    "    return res\n",
    "\n",
    "n1 = 10\n",
    "n2 = 20\n",
    "calculadora(n1, n2, '+')"
   ]
  },
  {
   "cell_type": "markdown",
   "metadata": {},
   "source": [
    "Da mesma forma, possível utilizar a função calculadora para definir uma função que calcula a média entre dois números:"
   ]
  },
  {
   "cell_type": "code",
   "execution_count": null,
   "metadata": {},
   "outputs": [],
   "source": [
    "def media(n1, n2):\n",
    "    total = calculadora(n1, n2, '+')\n",
    "    return calculadora(total, 2, '/')"
   ]
  },
  {
   "cell_type": "markdown",
   "metadata": {},
   "source": [
    "### Exercicio\n",
    "\n",
    "Crie uma função que leia a idade do usuário com validação de entrada. A idade deve ser um inteiro entre 0 e 150 (inclusive)\n",
    "\n"
   ]
  },
  {
   "cell_type": "code",
   "execution_count": 52,
   "metadata": {},
   "outputs": [],
   "source": [
    "def le_idade():\n",
    "    idade = -1\n",
    "    while idade < 0 or idade > 150:\n",
    "        idade = int(input('Digite uma idade válida: '))\n",
    "\n",
    "    return idade #'Correto, a idade está entre 0 e 150!'"
   ]
  },
  {
   "cell_type": "code",
   "execution_count": 54,
   "metadata": {},
   "outputs": [
    {
     "name": "stdout",
     "output_type": "stream",
     "text": [
      "Digite uma idade válida: 20\n"
     ]
    }
   ],
   "source": [
    "idade = le_idade()"
   ]
  },
  {
   "cell_type": "code",
   "execution_count": 55,
   "metadata": {},
   "outputs": [],
   "source": [
    "def le_idade():\n",
    "    idade = -1\n",
    "    i = 0\n",
    "    while idade < 0 or idade > 150:\n",
    "        idade = int(input('Digite uma idade válida: '))\n",
    "        i += 1\n",
    "    return idade, i"
   ]
  },
  {
   "cell_type": "code",
   "execution_count": 60,
   "metadata": {},
   "outputs": [
    {
     "name": "stdout",
     "output_type": "stream",
     "text": [
      "Digite uma idade válida: 200\n",
      "Digite uma idade válida: 12\n"
     ]
    }
   ],
   "source": [
    "idade, tentativas = le_idade()"
   ]
  },
  {
   "cell_type": "code",
   "execution_count": 63,
   "metadata": {},
   "outputs": [
    {
     "data": {
      "text/plain": [
       "(12, 2)"
      ]
     },
     "execution_count": 63,
     "metadata": {},
     "output_type": "execute_result"
    }
   ],
   "source": [
    "idade, tentativas"
   ]
  },
  {
   "cell_type": "code",
   "execution_count": 65,
   "metadata": {},
   "outputs": [
    {
     "name": "stdout",
     "output_type": "stream",
     "text": [
      "Digite uma idade válida: 200\n",
      "Digite uma idade válida: 12\n"
     ]
    },
    {
     "data": {
      "text/plain": [
       "(12, 2)"
      ]
     },
     "execution_count": 65,
     "metadata": {},
     "output_type": "execute_result"
    }
   ],
   "source": [
    "le_idade()"
   ]
  },
  {
   "cell_type": "code",
   "execution_count": 66,
   "metadata": {},
   "outputs": [],
   "source": [
    "idade, tentativas = 12, 2"
   ]
  },
  {
   "cell_type": "code",
   "execution_count": 67,
   "metadata": {},
   "outputs": [
    {
     "data": {
      "text/plain": [
       "12"
      ]
     },
     "execution_count": 67,
     "metadata": {},
     "output_type": "execute_result"
    }
   ],
   "source": [
    "idade"
   ]
  },
  {
   "cell_type": "code",
   "execution_count": 68,
   "metadata": {},
   "outputs": [
    {
     "data": {
      "text/plain": [
       "2"
      ]
     },
     "execution_count": 68,
     "metadata": {},
     "output_type": "execute_result"
    }
   ],
   "source": [
    "tentativas"
   ]
  },
  {
   "cell_type": "code",
   "execution_count": null,
   "metadata": {},
   "outputs": [],
   "source": []
  },
  {
   "cell_type": "code",
   "execution_count": null,
   "metadata": {},
   "outputs": [],
   "source": []
  },
  {
   "cell_type": "markdown",
   "metadata": {},
   "source": [
    "### Funções recursivas\n",
    "\n",
    "Podemos ir além de chamar um função de dentro da outra: **podemos chamar a função dentro dela mesma!**\n",
    "\n",
    "Por exemplo, pra calcular potências!"
   ]
  },
  {
   "cell_type": "markdown",
   "metadata": {},
   "source": [
    "$$2^3 = 2 * 2^2$$ "
   ]
  },
  {
   "cell_type": "code",
   "execution_count": 71,
   "metadata": {},
   "outputs": [
    {
     "name": "stdout",
     "output_type": "stream",
     "text": [
      "2 3\n",
      "2 2\n",
      "2 1\n",
      "2 0\n"
     ]
    },
    {
     "data": {
      "text/plain": [
       "8"
      ]
     },
     "execution_count": 71,
     "metadata": {},
     "output_type": "execute_result"
    }
   ],
   "source": [
    "def potencia(n, e):\n",
    "    print(n, e)\n",
    "    if e == 0:\n",
    "        return 1\n",
    "    \n",
    "    return n*potencia(n, e - 1)\n",
    "potencia(2, 3)    "
   ]
  },
  {
   "cell_type": "markdown",
   "metadata": {},
   "source": [
    "Podemos entender a recursividade ao analisar o que que a função retorna a cada vez que ela é chamada:\n",
    "\n",
    "- potencia(2, 3)\n",
    "- 2 * potencia(2, 2)\n",
    "- 2 * (2 * potencia(2, 1))\n",
    "- 2 * (2 * (2 * potencia(2, 0)))\n",
    "- 2 * (2 * (2 * 1))\n",
    "\n",
    "Assim, o resultado final é:\n",
    "\n",
    "2 * 2 * 2 * 1 = 8"
   ]
  },
  {
   "cell_type": "markdown",
   "metadata": {},
   "source": [
    "Existem problemas que são naturalmente recursivos, como, por exemplo, fatorial:"
   ]
  },
  {
   "cell_type": "markdown",
   "metadata": {},
   "source": [
    "5! = 5\\*4! = 5\\*4\\*3! = 5\\*4\\*3\\*2! = 5\\*4\\*3\\*2\\*1!"
   ]
  },
  {
   "cell_type": "code",
   "execution_count": 75,
   "metadata": {},
   "outputs": [
    {
     "data": {
      "text/plain": [
       "1"
      ]
     },
     "execution_count": 75,
     "metadata": {},
     "output_type": "execute_result"
    }
   ],
   "source": [
    "def fatorial(n):\n",
    "    if n == 0:\n",
    "        return 1\n",
    "    \n",
    "    return fatorial(n-1) * n\n",
    "\n",
    "fatorial(0)"
   ]
  },
  {
   "cell_type": "code",
   "execution_count": 73,
   "metadata": {},
   "outputs": [
    {
     "data": {
      "text/plain": [
       "120"
      ]
     },
     "execution_count": 73,
     "metadata": {},
     "output_type": "execute_result"
    }
   ],
   "source": [
    "5*4*3*2\n"
   ]
  },
  {
   "cell_type": "markdown",
   "metadata": {},
   "source": [
    "\n",
    "Visualizando o return de cada execução da função:\n",
    "\n",
    "- fatorial(4)\n",
    "- 4 * fatorial(3)\n",
    "- 4 * (3 * fatorial(2))\n",
    "- 4 * (3 * (2 * fatorial(1)))\n",
    "- 4 * (3 * (2 * 1))\n",
    "\n",
    "Assim, o resultado final é:\n",
    "\n",
    "4 * 3 * 2 * 1"
   ]
  },
  {
   "cell_type": "markdown",
   "metadata": {},
   "source": [
    "Apesar de funções recursivas serem elegantes, elas costumam demandar mais memoria e ter a leitura mais dificil. Por isso, sempre que houver soluções equivalentes recursivas e não-recursivas, devemos preferir a não-recursiva. "
   ]
  },
  {
   "cell_type": "markdown",
   "metadata": {},
   "source": [
    "### Funções com parâmetros opcionais\n",
    "\n",
    "Também é possível fazer funções com **argumentos opcionais**. Nesse caso, os argumentos recebem um valor padrão caso não sejam especificados na hora da chamada\n",
    "\n",
    "\n",
    "O exemplo abaixo cadastra usuários em uma base de dados.\n",
    "\n",
    "Até agora, sabemos apenas definir funções com argumentos **obrigatórios**: se algum deles não for passado, a função nos avisará isso!"
   ]
  },
  {
   "cell_type": "code",
   "execution_count": 76,
   "metadata": {},
   "outputs": [],
   "source": [
    "def cadastra_usuario(nome, cpf):\n",
    "    print(f'cadastro realizado com sucesso de {nome}, cpf:{cpf}')\n"
   ]
  },
  {
   "cell_type": "code",
   "execution_count": 78,
   "metadata": {},
   "outputs": [
    {
     "ename": "TypeError",
     "evalue": "cadastra_usuario() missing 1 required positional argument: 'cpf'",
     "output_type": "error",
     "traceback": [
      "\u001b[0;31m---------------------------------------------------------------------------\u001b[0m",
      "\u001b[0;31mTypeError\u001b[0m                                 Traceback (most recent call last)",
      "\u001b[0;32m<ipython-input-78-4e3fad87530b>\u001b[0m in \u001b[0;36m<module>\u001b[0;34m\u001b[0m\n\u001b[0;32m----> 1\u001b[0;31m \u001b[0mcadastra_usuario\u001b[0m\u001b[0;34m(\u001b[0m\u001b[0;34m'Vinicius'\u001b[0m\u001b[0;34m,\u001b[0m \u001b[0;34m)\u001b[0m\u001b[0;34m\u001b[0m\u001b[0;34m\u001b[0m\u001b[0m\n\u001b[0m",
      "\u001b[0;31mTypeError\u001b[0m: cadastra_usuario() missing 1 required positional argument: 'cpf'"
     ]
    }
   ],
   "source": [
    "cadastra_usuario('Vinicius', )"
   ]
  },
  {
   "cell_type": "markdown",
   "metadata": {},
   "source": [
    " Podemos modificar a função para que um usuário possa fornecer unicamente seu nome e CPF; ou ambos, opcionalmente."
   ]
  },
  {
   "cell_type": "code",
   "execution_count": 85,
   "metadata": {},
   "outputs": [
    {
     "name": "stdout",
     "output_type": "stream",
     "text": [
      "cadastro realizado com sucesso de invalido, cpf:09273091238091230\n"
     ]
    }
   ],
   "source": [
    "def cadastra_usuario(nome='invalido', cpf='_'):\n",
    "    print(f'cadastro realizado com sucesso de {nome}, cpf:{cpf}')\n",
    "\n",
    "cadastra_usuario(cpf='09273091238091230')"
   ]
  },
  {
   "cell_type": "code",
   "execution_count": null,
   "metadata": {},
   "outputs": [],
   "source": [
    "def func(arg1, arg2):\n",
    "    ...\n",
    "    ...\n",
    "    a = ...\n",
    "    print(a)\n",
    "    return ..."
   ]
  },
  {
   "cell_type": "markdown",
   "metadata": {},
   "source": [
    "____\n",
    "____\n",
    "____"
   ]
  },
  {
   "cell_type": "markdown",
   "metadata": {},
   "source": [
    "## 3) Bibliotecas\n",
    "\n",
    "Durante o curso, já tivemos contato com algumas **bibliotecas** (também chamadas de **pacotes** ou **módulos**), como a `datetime` e a `unicodedata`\n",
    "\n",
    "Uma biblioteca pode ser entendida como **uma coleção de funções prontas**, ou seja, \"incrementos adicionais\" do python puro, que podem ser utilizadas pra fazer tarefas específicas"
   ]
  },
  {
   "cell_type": "markdown",
   "metadata": {},
   "source": [
    "Ja vimos que podemos utilizar uma biblioteca importando-a para o nosso ambiente:\n"
   ]
  },
  {
   "cell_type": "code",
   "execution_count": 90,
   "metadata": {},
   "outputs": [
    {
     "data": {
      "text/plain": [
       "datetime.date(2021, 8, 4)"
      ]
     },
     "execution_count": 90,
     "metadata": {},
     "output_type": "execute_result"
    }
   ],
   "source": [
    "import datetime\n",
    "datetime.date.today()"
   ]
  },
  {
   "cell_type": "markdown",
   "metadata": {},
   "source": [
    "Nos também podemos importar um componente da biblioteca em vez de ela completa:\n",
    "    "
   ]
  },
  {
   "cell_type": "code",
   "execution_count": 87,
   "metadata": {},
   "outputs": [],
   "source": [
    "from datetime import date"
   ]
  },
  {
   "cell_type": "code",
   "execution_count": 88,
   "metadata": {},
   "outputs": [
    {
     "data": {
      "text/plain": [
       "datetime.date(2021, 8, 4)"
      ]
     },
     "execution_count": 88,
     "metadata": {},
     "output_type": "execute_result"
    }
   ],
   "source": [
    "date.today()"
   ]
  },
  {
   "cell_type": "markdown",
   "metadata": {},
   "source": [
    "Podemos também dar um \"apelido\" para a biblioteca ou componente da biblioteca que estamos importando, que em python é chamado de \"alias\". \n",
    "\n",
    "Para isso, usamos a estrutura: \n",
    "\n",
    "\n"
   ]
  },
  {
   "cell_type": "code",
   "execution_count": 91,
   "metadata": {},
   "outputs": [],
   "source": [
    "import datetime as dt\n",
    "from datetime import date as d\n"
   ]
  },
  {
   "cell_type": "code",
   "execution_count": 92,
   "metadata": {},
   "outputs": [
    {
     "data": {
      "text/plain": [
       "datetime.date(2021, 8, 4)"
      ]
     },
     "execution_count": 92,
     "metadata": {},
     "output_type": "execute_result"
    }
   ],
   "source": [
    "dt.date.today()"
   ]
  },
  {
   "cell_type": "code",
   "execution_count": 93,
   "metadata": {},
   "outputs": [
    {
     "data": {
      "text/plain": [
       "datetime.date(2021, 8, 4)"
      ]
     },
     "execution_count": 93,
     "metadata": {},
     "output_type": "execute_result"
    }
   ],
   "source": [
    "d.today()"
   ]
  },
  {
   "cell_type": "markdown",
   "metadata": {},
   "source": [
    "Assim, quando formos nos referir à biblioteca para utilizar uma de suas funções, usamos o seu apelido, ao invés de seu nome completo\n"
   ]
  },
  {
   "cell_type": "code",
   "execution_count": null,
   "metadata": {},
   "outputs": [],
   "source": [
    "import numpy as np\n",
    "from datetime import datetime as dt"
   ]
  },
  {
   "cell_type": "markdown",
   "metadata": {},
   "source": [
    "Para instalarmos uma biblioteca nova, abrimos o **terminal**, e usamos:\n",
    "\n",
    "```pip install nome_da_biblioteca```\n",
    "\n",
    "ou\n",
    "\n",
    "```conda install nome_da_biblioteca```\n",
    "\n",
    "\n",
    "Se quisermos uma versão específica,\n",
    "\n",
    "```pip install nume_da_biblioteca==numero_da_versao```\n",
    "\n",
    "Outra forma de instalar bibliotecas diretamente no Jupyter, é digitar em alguma célula de código exatamente os códigos acima, mas com um \"!\" no início. Por exemplo,\n",
    "\n",
    "```!pip install nome_da_biblioteca```"
   ]
  },
  {
   "cell_type": "code",
   "execution_count": 94,
   "metadata": {},
   "outputs": [
    {
     "name": "stdout",
     "output_type": "stream",
     "text": [
      "'Aula 1 - Variaveis, input, output.ipynb'\r\n",
      "'Aula 2 - operadores lógicos e condicionais.ipynb'\r\n",
      "'Aula 3 - Comentarios, While e listas.ipynb'\r\n",
      "'Aula 4 - loop for.ipynb'\r\n",
      "'Aula 5- dicionarios e strings.ipynb'\r\n",
      "'Aula 6 - tuplas, funções e bibliotecas.ipynb'\r\n"
     ]
    }
   ],
   "source": [
    "!ls"
   ]
  },
  {
   "cell_type": "markdown",
   "metadata": {},
   "source": [
    "O repositorio de onde o pip instala as bibliotecas é o pypi: https://pypi.org/\n",
    "\n",
    "Então, quando você for procurar por bibliotecas para instalar, vai ser comum encontrar links para esse site. \n",
    "\n",
    "No entanto, as bibliotecas do pypi não são curadas, então pode ser que você encontre bibliotecas com código malicioso. Como se proteger então? Busque instalar bibliotecas que tem código aberto e muitas estrelas no github. No readme do projeto, geralmente vai ter uma seção indicando o passo a passo para instalar, que vai ser geralmente um pip install alguma coisa. "
   ]
  },
  {
   "cell_type": "markdown",
   "metadata": {},
   "source": [
    "### Exercicio\n",
    "Vamos instalar uma biblioteca para pegar dados de investimento\n",
    "\n",
    "python data investing.com"
   ]
  },
  {
   "cell_type": "code",
   "execution_count": 95,
   "metadata": {},
   "outputs": [
    {
     "name": "stdout",
     "output_type": "stream",
     "text": [
      "Requirement already satisfied: investpy in /home/vinicius/anaconda3/lib/python3.8/site-packages (1.0.4)\n",
      "Requirement already satisfied: pandas>=0.25.1 in /home/vinicius/anaconda3/lib/python3.8/site-packages (from investpy) (1.2.1)\n",
      "Requirement already satisfied: numpy>=1.17.2 in /home/vinicius/anaconda3/lib/python3.8/site-packages (from investpy) (1.18.5)\n",
      "Requirement already satisfied: lxml>=4.4.1 in /home/vinicius/anaconda3/lib/python3.8/site-packages (from investpy) (4.5.2)\n",
      "Requirement already satisfied: Unidecode>=1.1.1 in /home/vinicius/anaconda3/lib/python3.8/site-packages (from investpy) (1.2.0)\n",
      "Requirement already satisfied: requests>=2.22.0 in /home/vinicius/anaconda3/lib/python3.8/site-packages (from investpy) (2.24.0)\n",
      "Requirement already satisfied: pytz>=2019.3 in /home/vinicius/anaconda3/lib/python3.8/site-packages (from investpy) (2020.1)\n",
      "Requirement already satisfied: setuptools>=41.2.0 in /home/vinicius/anaconda3/lib/python3.8/site-packages (from investpy) (49.2.0.post20200714)\n",
      "Requirement already satisfied: python-dateutil>=2.7.3 in /home/vinicius/anaconda3/lib/python3.8/site-packages (from pandas>=0.25.1->investpy) (2.8.1)\n",
      "Requirement already satisfied: chardet<4,>=3.0.2 in /home/vinicius/anaconda3/lib/python3.8/site-packages (from requests>=2.22.0->investpy) (3.0.4)\n",
      "Requirement already satisfied: idna<3,>=2.5 in /home/vinicius/anaconda3/lib/python3.8/site-packages (from requests>=2.22.0->investpy) (2.10)\n",
      "Requirement already satisfied: certifi>=2017.4.17 in /home/vinicius/anaconda3/lib/python3.8/site-packages (from requests>=2.22.0->investpy) (2020.6.20)\n",
      "Requirement already satisfied: urllib3!=1.25.0,!=1.25.1,<1.26,>=1.21.1 in /home/vinicius/anaconda3/lib/python3.8/site-packages (from requests>=2.22.0->investpy) (1.25.9)\n",
      "Requirement already satisfied: six>=1.5 in /home/vinicius/anaconda3/lib/python3.8/site-packages (from python-dateutil>=2.7.3->pandas>=0.25.1->investpy) (1.15.0)\n"
     ]
    }
   ],
   "source": [
    "!pip install investpi"
   ]
  },
  {
   "cell_type": "code",
   "execution_count": 96,
   "metadata": {},
   "outputs": [],
   "source": [
    "import sklearn"
   ]
  },
  {
   "cell_type": "code",
   "execution_count": 98,
   "metadata": {},
   "outputs": [
    {
     "name": "stdout",
     "output_type": "stream",
     "text": [
      "[66, 42, 13, 82, 94, 55, 14, 4, 25, 53, 32, 54, 3, 88, 18, 7, 9, 7, 83, 90, 39, 60, 46, 45, 66, 71, 73, 97, 62, 79, 94, 11, 75, 84, 97, 60, 93, 13, 63, 77, 76, 19, 63, 27, 61, 76, 86, 3, 10, 55]\n"
     ]
    }
   ],
   "source": [
    "import random\n",
    "\n",
    "lista = [random.randint(0, 100) for i in range(50)]\n",
    "print(lista)"
   ]
  },
  {
   "cell_type": "code",
   "execution_count": 109,
   "metadata": {},
   "outputs": [],
   "source": [
    "maior_valor = lista[0]\n",
    "for el in lista[1:]:    \n",
    "    if el > maior_valor:\n",
    "        maior_valor = el    "
   ]
  },
  {
   "cell_type": "code",
   "execution_count": 110,
   "metadata": {},
   "outputs": [
    {
     "data": {
      "text/plain": [
       "97"
      ]
     },
     "execution_count": 110,
     "metadata": {},
     "output_type": "execute_result"
    }
   ],
   "source": [
    "maior_valor"
   ]
  },
  {
   "cell_type": "code",
   "execution_count": 112,
   "metadata": {},
   "outputs": [],
   "source": [
    "maior_valor = lista[0]\n",
    "idx = 1\n",
    "while idx < len(lista):\n",
    "    if lista[idx] > maior_valor:\n",
    "        maior_valor = lista[idx]\n",
    "    idx += 1"
   ]
  },
  {
   "cell_type": "code",
   "execution_count": 113,
   "metadata": {},
   "outputs": [
    {
     "data": {
      "text/plain": [
       "97"
      ]
     },
     "execution_count": 113,
     "metadata": {},
     "output_type": "execute_result"
    }
   ],
   "source": [
    "maior_valor"
   ]
  },
  {
   "cell_type": "code",
   "execution_count": null,
   "metadata": {},
   "outputs": [],
   "source": []
  }
 ],
 "metadata": {
  "kernelspec": {
   "display_name": "Python 3",
   "language": "python",
   "name": "python3"
  },
  "language_info": {
   "codemirror_mode": {
    "name": "ipython",
    "version": 3
   },
   "file_extension": ".py",
   "mimetype": "text/x-python",
   "name": "python",
   "nbconvert_exporter": "python",
   "pygments_lexer": "ipython3",
   "version": "3.8.3"
  },
  "varInspector": {
   "cols": {
    "lenName": 16,
    "lenType": 16,
    "lenVar": 40
   },
   "kernels_config": {
    "python": {
     "delete_cmd_postfix": "",
     "delete_cmd_prefix": "del ",
     "library": "var_list.py",
     "varRefreshCmd": "print(var_dic_list())"
    },
    "r": {
     "delete_cmd_postfix": ") ",
     "delete_cmd_prefix": "rm(",
     "library": "var_list.r",
     "varRefreshCmd": "cat(var_dic_list()) "
    }
   },
   "types_to_exclude": [
    "module",
    "function",
    "builtin_function_or_method",
    "instance",
    "_Feature"
   ],
   "window_display": false
  }
 },
 "nbformat": 4,
 "nbformat_minor": 2
}
