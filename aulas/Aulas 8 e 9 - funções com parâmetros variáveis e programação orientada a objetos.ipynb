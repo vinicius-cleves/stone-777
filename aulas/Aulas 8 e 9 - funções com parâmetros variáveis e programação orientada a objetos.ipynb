{
 "cells": [
  {
   "cell_type": "markdown",
   "metadata": {},
   "source": [
    "# Aulas 8 e 9 - funções com parâmetros variáveis e programação orientada a objetos\n"
   ]
  },
  {
   "cell_type": "markdown",
   "metadata": {},
   "source": [
    "____\n",
    "____\n",
    "____"
   ]
  },
  {
   "cell_type": "code",
   "execution_count": 1,
   "metadata": {},
   "outputs": [
    {
     "name": "stdout",
     "output_type": "stream",
     "text": [
      "ba 10 True\n"
     ]
    }
   ],
   "source": [
    "print('ba', 10, True)"
   ]
  },
  {
   "cell_type": "code",
   "execution_count": 2,
   "metadata": {},
   "outputs": [
    {
     "ename": "SyntaxError",
     "evalue": "invalid syntax (<ipython-input-2-d08a604744e7>, line 1)",
     "output_type": "error",
     "traceback": [
      "\u001b[0;36m  File \u001b[0;32m\"<ipython-input-2-d08a604744e7>\"\u001b[0;36m, line \u001b[0;32m1\u001b[0m\n\u001b[0;31m    def print(param1=None, param2=None)\u001b[0m\n\u001b[0m                                       ^\u001b[0m\n\u001b[0;31mSyntaxError\u001b[0m\u001b[0;31m:\u001b[0m invalid syntax\n"
     ]
    }
   ],
   "source": [
    "def print(param1=None, param2=None)"
   ]
  },
  {
   "cell_type": "markdown",
   "metadata": {},
   "source": [
    "## 1) Funções com parâmetros variáveis\n",
    "\n",
    "Se não quisermos especificar **quais** e **quantos** são os parâmetros de uma função, passamos o argumento com **um asterisco**\n",
    "\n",
    "- Os parâmetros passados são **agrupados em uma tupla**, automaticamente, pelo python.\n",
    "\n",
    "Porém, o usuário não precisa passar uma tupla: basta passar vários argumentos separados por vírgula, e o Python automaticamente criará uma tupla com eles. \n",
    "\n",
    "Uma função que segue exatamente essa estrutura é o `print()`!\n",
    "\n",
    "Vamos criar uma função desta forma:"
   ]
  },
  {
   "cell_type": "code",
   "execution_count": null,
   "metadata": {},
   "outputs": [],
   "source": [
    "# [1,2,3], [2,3,4] -> [3,5,7]\n",
    "def soma_entre_listas(*listas): # *args\n",
    "    #  |  |  | \n",
    "    # [1, 2, 3]\n",
    "    # [2, 3, 4]\n",
    "    # ---------\n",
    "    # [3, 5, 7]\n",
    "    print(listas)\n",
    "    for lista in listas:\n",
    "        assert len(lista) == len(listas[0]), 'Comprimento das listas não é o mesmo'\n",
    "    \n",
    "    output = []\n",
    "    for i in range(len(listas[0])):\n",
    "        iesimos = [lista[i] for lista in listas]\n",
    "#         print(iesimos)\n",
    "        output.append(sum(iesimos))\n",
    "    return output   \n",
    "\n",
    "soma_entre_listas([1,2,3], [2,3,4], [3,4,5])"
   ]
  },
  {
   "cell_type": "code",
   "execution_count": 3,
   "metadata": {},
   "outputs": [
    {
     "ename": "AssertionError",
     "evalue": "Frase de erro",
     "output_type": "error",
     "traceback": [
      "\u001b[0;31m---------------------------------------------------------------------------\u001b[0m",
      "\u001b[0;31mAssertionError\u001b[0m                            Traceback (most recent call last)",
      "\u001b[0;32m<ipython-input-3-b6f31aaf0ae9>\u001b[0m in \u001b[0;36m<module>\u001b[0;34m\u001b[0m\n\u001b[1;32m      1\u001b[0m \u001b[0mvar\u001b[0m \u001b[0;34m=\u001b[0m \u001b[0;36m90\u001b[0m\u001b[0;34m\u001b[0m\u001b[0;34m\u001b[0m\u001b[0m\n\u001b[0;32m----> 2\u001b[0;31m \u001b[0;32massert\u001b[0m \u001b[0mvar\u001b[0m \u001b[0;34m<\u001b[0m \u001b[0;36m10\u001b[0m\u001b[0;34m,\u001b[0m \u001b[0;34m'Frase de erro'\u001b[0m\u001b[0;34m\u001b[0m\u001b[0;34m\u001b[0m\u001b[0m\n\u001b[0m",
      "\u001b[0;31mAssertionError\u001b[0m: Frase de erro"
     ]
    }
   ],
   "source": [
    "var = 90\n",
    "assert var < 10, 'Frase de erro'"
   ]
  },
  {
   "cell_type": "markdown",
   "metadata": {},
   "source": [
    "Se quisermos passar como argumento uma lista, teremos um erro:"
   ]
  },
  {
   "cell_type": "code",
   "execution_count": null,
   "metadata": {},
   "outputs": [],
   "source": [
    "lista_de_listas = [[1,2,3], [2,3,4], [3,4,5]]\n",
    "soma_entre_listas(lista_de_listas)"
   ]
  },
  {
   "cell_type": "markdown",
   "metadata": {},
   "source": [
    "Pra resolver isso, colocamos o **asterisco no argumento**, diretamente. \n",
    "\n",
    "Com isso, o Python entende que a lista passada como argumento é pra ser interpretada como uma sequência de elementos passados separadamente à função como argumentos"
   ]
  },
  {
   "cell_type": "code",
   "execution_count": null,
   "metadata": {},
   "outputs": [],
   "source": [
    "lista_de_listas = [[1,2,3], [2,3,4], [3,4,5]]\n",
    "soma_entre_listas(*lista_de_listas) "
   ]
  },
  {
   "cell_type": "markdown",
   "metadata": {},
   "source": [
    "Os argumentos variaveis passados para a função que vimos até agora são argumentos posicionais. Também é possivel passar argumentos nomeados variaveis, usando dois asteriscos. Nesse caso, os argumentos são recebidos pela função em um dicionario\n"
   ]
  },
  {
   "cell_type": "code",
   "execution_count": null,
   "metadata": {},
   "outputs": [],
   "source": [
    "def plot_do_seaborn(x, y, **kwargs):\n",
    "    ...\n",
    "    ...\n",
    "    plt.plot(x_mod, y_mod, **kwargs)"
   ]
  },
  {
   "cell_type": "code",
   "execution_count": null,
   "metadata": {},
   "outputs": [],
   "source": [
    "def func(**kwargs):\n",
    "    print(kwargs)\n",
    "    print(kwargs['a'])\n",
    "    \n",
    "func(a=10, b='bla')"
   ]
  },
  {
   "cell_type": "code",
   "execution_count": null,
   "metadata": {},
   "outputs": [],
   "source": [
    "my_params = {'a': 10, 'b': 'bla'}\n",
    "func(my_params)"
   ]
  },
  {
   "cell_type": "code",
   "execution_count": null,
   "metadata": {},
   "outputs": [],
   "source": [
    "def func2(arg1, *args, arg_nomeado, **kwargs):\n",
    "    print(arg1)\n",
    "    print(args)\n",
    "    print(arg_nomeado)\n",
    "    print(kwargs)"
   ]
  },
  {
   "cell_type": "code",
   "execution_count": null,
   "metadata": {},
   "outputs": [],
   "source": [
    "func2(1, 23, arg_nomeado=2, a=2)"
   ]
  },
  {
   "cell_type": "markdown",
   "metadata": {},
   "source": [
    "## 2) Programação Orientada a Objetos\n",
    "\n",
    "O Python, como outras linguagens, é classificada como uma **linguagem de programação orientada a objetos (POO)** (outros exemplos: Java, C++, etc). \n",
    "\n",
    "Esta classificação é uma dos chamados \"paradigmas de programação\". Isso porque uma linguagem de POO é fundamentalmente diferente de linguagens de outros paradigmas.\n",
    "\n",
    "O grande objetivo da POO é a **reutilização de código**.\n",
    "\n",
    "Os programas devem ser **modularizados**, de modo que diferentes pessoas possam implementar módulos diferentes e juntá-los ao final, e reaporveitar modulos diferentes.\n",
    "\n",
    "Dentro de POO, tudo isso é feito de acordo com as seguintes **entidades**:\n",
    "\n",
    "- Classes\n",
    "\n",
    "> As classes são os \"moldes\" dos objetos, as entidades abstratas. Elas contêm as informações e os comportamentos que os objetos terão. Todos os objetos pertencentes a uma mesma classe terão características em comum. **Ex: Pessoa**\n",
    "\n",
    "- Objetos\n",
    "\n",
    "> Os objetos são as instâncias concretas das classes, que são abstratas. Os objetos contêm as características comuns à classe, mas cada um tem suas particularidades. **Ex: você!**\n",
    "\n",
    "\n",
    "- Atributos\n",
    "\n",
    "> Cada objeto particular de uma mesma classe tem valores diferentes para as variáveis internas da classe. Essas \"variáveis do objeto\" chamamos de atributos. **Ex: a cor do seu cabelo**\n",
    "\n",
    "- Métodos\n",
    "\n",
    "> Métodos são funções dentro da classe, que não podem ser executadas arbitrariamente, mas deverão ser chamadas necessariamente pelos objetos. Os métodos podem utilizar os atributos e até mesmo alterá-los. **Ex: você pintar seu cabelo para mudar a cor** \n",
    "\n",
    "\n",
    "Em POO, há **4 princípios de boas práticas** para a criação das entidades:\n",
    "\n",
    "- **Encapsulamento**: cada classe deve conter todas as informações necessárias para seu funcionamento bem como todos os métodos necessários para alterar essas informações.\n",
    "\n",
    "- **Abstração**: as classes devem apresentar interfaces simples para o uso por outros desenvolvedores e para a interação com outras classes. Todos os detalhes complicados de seu funcionamento devem estar \"escondidos\" dentro de métodos simples de usar, com parâmetros e retornos bem definidos. \n",
    "\n",
    "- **Herança**: se várias classes terão atributos e métodos em comum, não devemos ter que redigitá-los várias vezes. Ao invés disso, criamos uma classe com esses atributos comuns e as outras classes irão herdá-los.\n",
    "        \n",
    "- **Polimorfismo**: objetos de diferentes classes herdeiras de uma mesma classe mãe podem ser tratados genericamente como objetos pertencentes à classe mãe.\n",
    "\n",
    "Vamos agora a exemplos específicos para ilustrar e concretizar todos os conceitos discutidos acima!"
   ]
  },
  {
   "cell_type": "markdown",
   "metadata": {},
   "source": [
    "_____\n",
    "_____\n",
    "_____"
   ]
  },
  {
   "cell_type": "markdown",
   "metadata": {},
   "source": [
    "## 2) Classes, Atributos, Objetos e Métodos\n",
    "\n",
    "\n",
    "### Criando uma classe\n",
    "\n",
    "A criação de classes é feita segundo a seguinte estrutura:\n",
    "\n",
    "```python\n",
    "class nome_da_classe:\n",
    "    \n",
    "    # método construtor\n",
    "    def __init__(self, atributos):\n",
    "        \n",
    "        # definição dos atributos\n",
    "        self.atributos = atributos\n",
    "        \n",
    "    # definição de outros métodos\n",
    "    def metodo(self, parametros):\n",
    "        operacoes\n",
    "```\n",
    "\n",
    "O **método construtor** é onde inicializamos alguns atributos que os objetos da classe terão!\n",
    "\n",
    "- Esse método é opcional.\n",
    "- Sempre que um objeto é criado, este método é chamado, automaticamente"
   ]
  },
  {
   "cell_type": "markdown",
   "metadata": {},
   "source": [
    "O **\"self\"** sempre será o primeiro parâmetro dos métodos de uma classe, e ele é necessário para **fazer referência ao objeto**\n",
    "\n",
    "Assim, em geral, sempre usaremos dentro dos métodos alguma operação que **faça uso dos atributos da classe**, que é referenciada através do `self`."
   ]
  },
  {
   "cell_type": "code",
   "execution_count": null,
   "metadata": {},
   "outputs": [],
   "source": [
    "class Pessoa:\n",
    "    def __init__(self, name, age, city):\n",
    "        self.name = name\n",
    "        self.age = age\n",
    "        self.city = city"
   ]
  },
  {
   "cell_type": "markdown",
   "metadata": {},
   "source": [
    "### Criação de objeto: instanciando uma classe\n",
    "\n",
    "Para criarmos um objeto (instância da classe), nós fazemos o processo de **instanciação**, que nada mais é do que **chamar a classe**, com os argumentos definidos no método construtor"
   ]
  },
  {
   "cell_type": "code",
   "execution_count": null,
   "metadata": {},
   "outputs": [],
   "source": [
    "eu = Pessoa('Vinicius', 27, 'Feira de Santana')"
   ]
  },
  {
   "cell_type": "markdown",
   "metadata": {},
   "source": [
    "Se chamarmos a variável com o objeto, aparece apenas o endereço respectivo ao objeto:"
   ]
  },
  {
   "cell_type": "code",
   "execution_count": null,
   "metadata": {},
   "outputs": [],
   "source": [
    "eu"
   ]
  },
  {
   "cell_type": "markdown",
   "metadata": {},
   "source": [
    "Mas podemos acessar cada um dos atributos deste objeto, que são aqueles definidos na classe. \n",
    "\n",
    "Para isso, seguimos a sintaxe\n",
    "\n",
    "```python\n",
    "nome_do_objeto.nome_do_atributo\n",
    "```"
   ]
  },
  {
   "cell_type": "code",
   "execution_count": null,
   "metadata": {},
   "outputs": [],
   "source": [
    "eu.name"
   ]
  },
  {
   "cell_type": "markdown",
   "metadata": {},
   "source": [
    "Os atributos são mutáveis! Para mudá-los, basta redefinir novos valores:"
   ]
  },
  {
   "cell_type": "code",
   "execution_count": null,
   "metadata": {},
   "outputs": [],
   "source": [
    "eu.city = 'Los Angeles'"
   ]
  },
  {
   "cell_type": "code",
   "execution_count": null,
   "metadata": {},
   "outputs": [],
   "source": [
    "eu.city"
   ]
  },
  {
   "cell_type": "markdown",
   "metadata": {},
   "source": [
    "Podemos, também, adicionar novos atributos que não sejam **obrigatoriamente definidos na instanciação da classe**. É uma boa prática os inicializamos como vazios:"
   ]
  },
  {
   "cell_type": "code",
   "execution_count": null,
   "metadata": {},
   "outputs": [],
   "source": [
    "class Pessoa:\n",
    "    def __init__(self, name, age, city='São Paulo'):\n",
    "        self.name = name\n",
    "        self.age = age\n",
    "        self.city = city\n",
    "        \n",
    "        self.altura = None\n",
    "        self.num_filhos = None\n",
    "        self.peso = None"
   ]
  },
  {
   "cell_type": "code",
   "execution_count": null,
   "metadata": {},
   "outputs": [],
   "source": []
  },
  {
   "cell_type": "markdown",
   "metadata": {},
   "source": [
    "### Exercicio\n",
    "Crie uma classe chamada Robo que representará a posição do robô em questão em \n",
    "um plano infinito. No construtor, poderá ser passado a posição inicial `(x, y)`\n",
    "desse robô e para qual direção ele está olhando (`n`orte, `s`ul, `l`este, \n",
    "`o`este). Caso a posição inicial não seja passada, devemos assumir que é \n",
    "`(0, 0)`. Caso a direção não seja passada, devemos assumir `n`."
   ]
  },
  {
   "cell_type": "code",
   "execution_count": null,
   "metadata": {},
   "outputs": [],
   "source": [
    "class Robot:\n",
    "    def __init__(self, x=0, y=0, d='N'):\n",
    "        self.x = x\n",
    "        self.y = y\n",
    "        self.d = d "
   ]
  },
  {
   "cell_type": "code",
   "execution_count": null,
   "metadata": {},
   "outputs": [],
   "source": [
    "class Robo:\n",
    "    def __init__(self, x, y, direcao):\n",
    "        self.x = x\n",
    "        self.y = y\n",
    "        self.direcao = direcao\n",
    "\n",
    "mr = Robo(2, 5, 'n')\n",
    "\n",
    "print(f'A posição atual do robô no plano infinito é ({mr.x}, {mr.y}) e na direção {mr.direcao}') "
   ]
  },
  {
   "cell_type": "code",
   "execution_count": null,
   "metadata": {},
   "outputs": [],
   "source": [
    "class Robo:\n",
    "    def __init__(self, x=0, y=0, direcao='n'):\n",
    "        self.x = x\n",
    "        self.y = y\n",
    "        self.direcao = direcao\n",
    "\n",
    "mr = Robo(2, 5, 'n')\n",
    "\n",
    "print(f'A posição atual do robô no plano infinito é ({mr.x}, {mr.y}) e na direção {mr.direcao}') "
   ]
  },
  {
   "cell_type": "markdown",
   "metadata": {},
   "source": [
    "### Métodos da classe: definindo e chamando\n",
    "\n",
    "Os métodos são **funções específicas de uma classe**, que só podem ser usadas após a criação de um objeto instância da classe.\n",
    "\n",
    "Assim, definimos os métodos dentro da classe, fazendo sempre referência à classe e seus atributos através do parâmetro self:"
   ]
  },
  {
   "cell_type": "code",
   "execution_count": null,
   "metadata": {},
   "outputs": [],
   "source": [
    "class Pessoa:\n",
    "    def __init__(self, name, age, city='São Paulo'):\n",
    "        self.name = name\n",
    "        self.age = age\n",
    "        self.city = city\n",
    "        \n",
    "        self.altura = None\n",
    "        self.num_filhos = None\n",
    "        self.peso = None\n",
    "    \n",
    "    def fala(self, texto):\n",
    "        print(f'{self.name} diz: {texto}')\n",
    "        "
   ]
  },
  {
   "cell_type": "markdown",
   "metadata": {},
   "source": [
    "Chamando o método, após instanciar a classe.\n",
    "\n",
    "Note, que o primeiro argumento do método, o \"self\", **é ignorado**! Ele é apenas usado para referenciar o próprio objeto, ou seja, para usar outros métodos ou atributos do objeto"
   ]
  },
  {
   "cell_type": "code",
   "execution_count": null,
   "metadata": {},
   "outputs": [],
   "source": [
    "eu = Pessoa('Vinicius', 27, 'Feira de Santana')\n",
    "eu.fala('Olá mundo!')"
   ]
  },
  {
   "cell_type": "markdown",
   "metadata": {},
   "source": [
    "Vamos criar um método que altera diretamente um atributo:"
   ]
  },
  {
   "cell_type": "code",
   "execution_count": null,
   "metadata": {},
   "outputs": [],
   "source": [
    "class Pessoa:\n",
    "    def __init__(self, name, age, city='São Paulo', salario=0):\n",
    "        self.name = name\n",
    "        self.age = age\n",
    "        self.city = city\n",
    "        self.salario = salario\n",
    "        \n",
    "        self.altura = None\n",
    "        self.num_filhos = None\n",
    "        self.peso = None\n",
    "    \n",
    "    def fala(self, texto):\n",
    "        print(f'{self.name} diz: {texto}')\n",
    "        \n",
    "    def aumento_salarial(self, percentual):\n",
    "        self.salario = self.salario * (1+percentual/100)\n",
    "        self.fala(f'Aumentei meu salario para {self.salario}')"
   ]
  },
  {
   "cell_type": "code",
   "execution_count": null,
   "metadata": {},
   "outputs": [],
   "source": [
    "eu = Pessoa('Vinicius', 27, 'Feira de Santana', 1000)"
   ]
  },
  {
   "cell_type": "code",
   "execution_count": 4,
   "metadata": {},
   "outputs": [
    {
     "ename": "NameError",
     "evalue": "name 'eu' is not defined",
     "output_type": "error",
     "traceback": [
      "\u001b[0;31m---------------------------------------------------------------------------\u001b[0m",
      "\u001b[0;31mNameError\u001b[0m                                 Traceback (most recent call last)",
      "\u001b[0;32m<ipython-input-4-f2ec7a5eaf5d>\u001b[0m in \u001b[0;36m<module>\u001b[0;34m\u001b[0m\n\u001b[0;32m----> 1\u001b[0;31m \u001b[0meu\u001b[0m\u001b[0;34m.\u001b[0m\u001b[0msalario\u001b[0m\u001b[0;34m\u001b[0m\u001b[0;34m\u001b[0m\u001b[0m\n\u001b[0m",
      "\u001b[0;31mNameError\u001b[0m: name 'eu' is not defined"
     ]
    }
   ],
   "source": [
    "eu.salario"
   ]
  },
  {
   "cell_type": "code",
   "execution_count": null,
   "metadata": {},
   "outputs": [],
   "source": [
    "eu.aumento_salarial(300)"
   ]
  },
  {
   "cell_type": "code",
   "execution_count": null,
   "metadata": {},
   "outputs": [],
   "source": [
    "eu.salario"
   ]
  },
  {
   "cell_type": "markdown",
   "metadata": {},
   "source": [
    "A este ponto, conseguimos reconhecer que já fizemos muito o uso de métodos e objetos.\n",
    "\n",
    "Por exemplo, para strings, usamos métodos como `.upper()`, `.lower()`, `.replace()`, etc.\n",
    "\n",
    "Isso mostra que `str`, `list` e `dict` são estruturas de classe! E, realmente, eles são! Em Python, tudo são classes e objetos!"
   ]
  },
  {
   "cell_type": "code",
   "execution_count": null,
   "metadata": {},
   "outputs": [],
   "source": [
    "eu = Pessoa('Vinicius', 27, 'Feira de Santana', 1000)\n",
    "gui = Pessoa('Guilherme', 22, 'São Paulo', 1000)"
   ]
  },
  {
   "cell_type": "code",
   "execution_count": null,
   "metadata": {},
   "outputs": [],
   "source": [
    "eu.aumento_salarial(300)"
   ]
  },
  {
   "cell_type": "code",
   "execution_count": null,
   "metadata": {},
   "outputs": [],
   "source": [
    "eu.salario, gui.salario"
   ]
  },
  {
   "cell_type": "markdown",
   "metadata": {},
   "source": [
    "### Exercicio\n",
    "\n",
    "Para o Robo criado acima, vamos definir os método `virar_direita()` e \n",
    "`virar_esquerda()`. Esses métodos irão fazer um robô trocar a sua posição, de \n",
    "acordo com a atual. Por exemplo:\n",
    "\n",
    "- Se um robô está olhando para o `n` e mandarmos ele `virar_esquerda()`, ele \n",
    "passará a olhar para o `o`;\n",
    "- Se um robô está olhando para o `l` e mandarmos ele `virar_direita()`, ele \n",
    "passará a olhar para o `s`.\n",
    "\n",
    "Agora, crie o método `avancar(i)`, que irá fazer o robô andar `i` posições no \n",
    "plano na direção que ele está olhando. Por exemplo:\n",
    "\n",
    "- Se um robô estiver na posição `(0, 0)` olhando para o `n` e mandarmos ele \n",
    "avançar `5` posições, ele deverá ir para a posição `(0, 5)`;\n",
    "- Se um robô estiver na posição `(0, 0)` olhando para o `s` e mandarmos ele\n",
    "avançar `3` posições, ele deverá ir para a posição `(0, -3)`;\n",
    "- Se um robô estiver na posição `(0, 0)` olhando para o `l` e mandarmos ele \n",
    "avançar `1` posições, ele deverá ir para a posição `(1, 0)`;\n",
    "- Se um robô estiver na posição `(0, 0)` olhando para o `o` e mandarmos ele \n",
    "avançar `7` posições, ele deverá ir para a posição `(-7, 0)`.\n",
    "\n",
    "Cria um método `distancia(r)` que recebe como parâmetro um segundo robô (`r`) \n",
    "e retorna a distância do primeiro (`self`) para segundo (`r`)."
   ]
  },
  {
   "cell_type": "code",
   "execution_count": null,
   "metadata": {},
   "outputs": [],
   "source": [
    "class Robot:\n",
    "    def __init__(self, x=0, y=0, direcao='n'):\n",
    "        self.x = x\n",
    "        self.y = y\n",
    "        self.direcao = direcao\n",
    "    \n",
    "    def virar_esquerda(self):\n",
    "        mapping = {\n",
    "            'n': 'o',\n",
    "            'o': 's', \n",
    "            's': 'l',\n",
    "            'l': 'n'\n",
    "        }\n",
    "        self.direcao = mapping[self.direcao]\n",
    "    \n",
    "    def virar_direita(self):\n",
    "        mapping = {\n",
    "            'n': 'l',\n",
    "            'l': 's',\n",
    "            's': 'o',\n",
    "            'o': 'n' \n",
    "        }\n",
    "        self.direcao = mapping[self.direcao]\n",
    "    \n",
    "    def avancar(self, i):\n",
    "        if self.direcao == 'n':\n",
    "            self.y += i\n",
    "        elif self.direcao == 'o':\n",
    "            self.x -= i\n",
    "        elif self.direcao == 's':\n",
    "            self.y -= i\n",
    "        else:\n",
    "            self.x += i\n",
    "    \n",
    "    def distancia(self, r):\n",
    "        return ((self.x - r.x) ** 2 + (self.y - r.y) ** 2) ** 0.5\n",
    "    \n",
    "mr = Robot(2, 5, 'n')\n",
    "print(f'A posição atual do robô no plano infinito é ({mr.x}, {mr.y}) e na direção {mr.direcao}') \n",
    "mr.virar_esquerda()\n",
    "print(f'A posição atual do robô no plano infinito é ({mr.x}, {mr.y}) e na direção {mr.direcao}') \n",
    "mr.avancar(5)\n",
    "print(f'A posição atual do robô no plano infinito é ({mr.x}, {mr.y}) e na direção {mr.direcao}') \n",
    "mr.virar_direita()\n",
    "print(f'A posição atual do robô no plano infinito é ({mr.x}, {mr.y}) e na direção {mr.direcao}') \n",
    "mr.avancar(5)\n",
    "print(f'A posição atual do robô no plano infinito é ({mr.x}, {mr.y}) e na direção {mr.direcao}') \n",
    "mr2 = Robot()\n",
    "\n",
    "mr.distancia(mr2)"
   ]
  },
  {
   "cell_type": "code",
   "execution_count": null,
   "metadata": {},
   "outputs": [],
   "source": [
    "(100+9)**0.5"
   ]
  },
  {
   "cell_type": "markdown",
   "metadata": {},
   "source": [
    "_____\n",
    "_____\n",
    "_____"
   ]
  },
  {
   "cell_type": "markdown",
   "metadata": {},
   "source": [
    "## 3) Atributos e métodos estáticos\n",
    "\n",
    "Se quisermos criar atributos e métodos que pertençam **à classe**, e não exatamente a um objeto instanciado desta, usamos suas versões **estáticas**\n",
    "\n",
    "- Para criar um atributo estático, basta **criar uma variável (atribuindo um valor inicial a ela) dentro da classe**, mas **fora de qualquer um de seus métodos**;\n",
    "- Para criar um método estático, use antes de sua criação **@staticmethod**"
   ]
  },
  {
   "cell_type": "code",
   "execution_count": 5,
   "metadata": {},
   "outputs": [],
   "source": [
    "class Pessoa:\n",
    "    populacao = 0\n",
    "    \n",
    "    def __init__(self, name, age, city='São Paulo', salario=0):\n",
    "        self.name = name\n",
    "        self.age = age\n",
    "        self.city = city\n",
    "        self.salario = salario\n",
    "        \n",
    "        self.altura = None\n",
    "        self.num_filhos = None\n",
    "        self.peso = None\n",
    "        \n",
    "        Pessoa.populacao += 1\n",
    "    \n",
    "    def fala(self, texto):\n",
    "        print(f'{self.name} diz: {texto}')\n",
    "        \n",
    "    def aumento_salarial(self, percentual):\n",
    "        self.salario = self.salario * (1+percentual/100)\n",
    "        self.fala(f'Aumentei meu salario para {self.salario}')\n",
    "    \n",
    "    @staticmethod\n",
    "    def mostra_populacao():\n",
    "        print('População total:', Pessoa.populacao)\n",
    "    \n",
    "    @staticmethod\n",
    "    def seta_populacao(pop):\n",
    "        Pessoa.populacao = pop"
   ]
  },
  {
   "cell_type": "code",
   "execution_count": 8,
   "metadata": {},
   "outputs": [
    {
     "name": "stdout",
     "output_type": "stream",
     "text": [
      "População total: 1\n"
     ]
    }
   ],
   "source": [
    "Pessoa.mostra_populacao()"
   ]
  },
  {
   "cell_type": "code",
   "execution_count": 7,
   "metadata": {},
   "outputs": [
    {
     "data": {
      "text/plain": [
       "<__main__.Pessoa at 0x7ff59874b4c0>"
      ]
     },
     "execution_count": 7,
     "metadata": {},
     "output_type": "execute_result"
    }
   ],
   "source": [
    "eu = Pessoa('Vini', 2)\n",
    "eu"
   ]
  },
  {
   "cell_type": "code",
   "execution_count": 9,
   "metadata": {},
   "outputs": [
    {
     "data": {
      "text/plain": [
       "1"
      ]
     },
     "execution_count": 9,
     "metadata": {},
     "output_type": "execute_result"
    }
   ],
   "source": [
    "Pessoa.populacao"
   ]
  },
  {
   "cell_type": "code",
   "execution_count": 12,
   "metadata": {},
   "outputs": [],
   "source": [
    "gui = Pessoa('Gui', 3)"
   ]
  },
  {
   "cell_type": "code",
   "execution_count": 13,
   "metadata": {},
   "outputs": [
    {
     "data": {
      "text/plain": [
       "3"
      ]
     },
     "execution_count": 13,
     "metadata": {},
     "output_type": "execute_result"
    }
   ],
   "source": [
    "Pessoa.populacao"
   ]
  },
  {
   "cell_type": "code",
   "execution_count": 14,
   "metadata": {},
   "outputs": [
    {
     "name": "stdout",
     "output_type": "stream",
     "text": [
      "População total: 3\n"
     ]
    }
   ],
   "source": [
    "gui.mostra_populacao()"
   ]
  },
  {
   "cell_type": "markdown",
   "metadata": {},
   "source": [
    "__Atributos estáticos podem ser acessados tanto pela classe quanto por algum objeto da classe__"
   ]
  },
  {
   "cell_type": "code",
   "execution_count": 27,
   "metadata": {},
   "outputs": [
    {
     "data": {
      "text/plain": [
       "50"
      ]
     },
     "execution_count": 27,
     "metadata": {},
     "output_type": "execute_result"
    }
   ],
   "source": [
    "eu.populacao"
   ]
  },
  {
   "cell_type": "code",
   "execution_count": 28,
   "metadata": {},
   "outputs": [
    {
     "data": {
      "text/plain": [
       "10"
      ]
     },
     "execution_count": 28,
     "metadata": {},
     "output_type": "execute_result"
    }
   ],
   "source": [
    "gui.populacao"
   ]
  },
  {
   "cell_type": "code",
   "execution_count": 29,
   "metadata": {},
   "outputs": [
    {
     "data": {
      "text/plain": [
       "10"
      ]
     },
     "execution_count": 29,
     "metadata": {},
     "output_type": "execute_result"
    }
   ],
   "source": [
    "Pessoa.populacao"
   ]
  },
  {
   "cell_type": "code",
   "execution_count": 22,
   "metadata": {},
   "outputs": [],
   "source": [
    "Pessoa.populacao = 10"
   ]
  },
  {
   "cell_type": "code",
   "execution_count": 26,
   "metadata": {},
   "outputs": [],
   "source": [
    "eu.populacao = 50"
   ]
  },
  {
   "cell_type": "markdown",
   "metadata": {},
   "source": [
    "### Exercicio\n",
    "Crie um metodo para a classe Robo que converte coordenadas cartesianas (x, y) para polares (r, $\\theta$). Lembrando que:\n",
    "\n",
    "$$r=\\sqrt{x^2+y^2}$$\n",
    "$$\\theta=atan2(y, x)$$"
   ]
  },
  {
   "cell_type": "code",
   "execution_count": 31,
   "metadata": {},
   "outputs": [],
   "source": [
    "import math"
   ]
  },
  {
   "cell_type": "code",
   "execution_count": 43,
   "metadata": {},
   "outputs": [
    {
     "data": {
      "text/plain": [
       "(14.142135623730951, 0.7853981633974483)"
      ]
     },
     "execution_count": 43,
     "metadata": {},
     "output_type": "execute_result"
    }
   ],
   "source": [
    "class Robot:\n",
    "    def __init__(self, x=0, y=0, direcao='n'):\n",
    "        self.x = x\n",
    "        self.y = y\n",
    "        self.direcao = direcao\n",
    "    \n",
    "    def virar_esquerda(self):\n",
    "        mapping = {\n",
    "            'n': 'o',\n",
    "            'o': 's', \n",
    "            's': 'l',\n",
    "            'l': 'n'\n",
    "        }\n",
    "        self.direcao = mapping[self.direcao]\n",
    "    \n",
    "    def virar_direita(self):\n",
    "        mapping = {\n",
    "            'n': 'l',\n",
    "            'l': 's',\n",
    "            's': 'o',\n",
    "            'o': 'n' \n",
    "        }\n",
    "        self.direcao = mapping[self.direcao]\n",
    "    \n",
    "    def avancar(self, i):\n",
    "        if self.direcao == 'n':\n",
    "            self.y += i\n",
    "        elif self.direcao == 'o':\n",
    "            self.x -= i\n",
    "        elif self.direcao == 's':\n",
    "            self.y -= i\n",
    "        else:\n",
    "            self.x += i\n",
    "    \n",
    "    @staticmethod \n",
    "    def convert_coordinate(x, y): \n",
    "        r = (x**2 + y**2)**(1/2) \n",
    "        theta = math.atan2(y, x) \n",
    "        return r, theta \n",
    "    \n",
    "    def distancia(self, r):\n",
    "        return ((self.x - r.x) ** 2 + (self.y - r.y) ** 2) ** 0.5\n",
    "    \n",
    "    \n",
    "Robot.convert_coordinate(10, 10)\n"
   ]
  },
  {
   "cell_type": "code",
   "execution_count": 38,
   "metadata": {},
   "outputs": [
    {
     "data": {
      "text/plain": [
       "45.0"
      ]
     },
     "execution_count": 38,
     "metadata": {},
     "output_type": "execute_result"
    }
   ],
   "source": [
    "0.7853981633974483*180/math.pi"
   ]
  },
  {
   "cell_type": "markdown",
   "metadata": {},
   "source": [
    "___\n",
    "___\n",
    "___"
   ]
  },
  {
   "cell_type": "markdown",
   "metadata": {},
   "source": [
    "## 4) Métodos mágicos\n",
    "\n",
    "Como o python entende que o sinal \"+\", quando aplicado à objetos da classe `str` deve **concatenar** as duas strings, ao invés de fazer alguma outra operação estranha de soma?\n",
    "\n",
    "Isso é feito a partir dos **métodos mágicos**\n",
    "\n",
    "Para ilustrar os usos desses métodos, vamos criar uma classe de horário:"
   ]
  },
  {
   "cell_type": "code",
   "execution_count": 44,
   "metadata": {},
   "outputs": [],
   "source": [
    "class Horario:\n",
    "    def __init__(self, h=0, m=0, s=0):\n",
    "        self.h = h\n",
    "        self.m = m\n",
    "        self.s = s"
   ]
  },
  {
   "cell_type": "code",
   "execution_count": 48,
   "metadata": {},
   "outputs": [
    {
     "name": "stdout",
     "output_type": "stream",
     "text": [
      "<__main__.Horario object at 0x7ff5825e5730>\n"
     ]
    }
   ],
   "source": [
    "hora = Horario(18, 20, 0)\n",
    "print(hora)"
   ]
  },
  {
   "cell_type": "code",
   "execution_count": 49,
   "metadata": {},
   "outputs": [
    {
     "name": "stdout",
     "output_type": "stream",
     "text": [
      "2021-08-16 21:18:00.745168\n"
     ]
    }
   ],
   "source": [
    "from datetime import datetime\n",
    "print(datetime.now())"
   ]
  },
  {
   "cell_type": "markdown",
   "metadata": {},
   "source": [
    "### Método de representação\n",
    "\n",
    "O método `__repr__` é um método mágico que permite dar um \"print\" diretamente no objeto, segundo o formato estabelecido!\n",
    "\n",
    "Sem definir este método na classe, o print mostra apenas o endereço do método:"
   ]
  },
  {
   "cell_type": "code",
   "execution_count": 50,
   "metadata": {},
   "outputs": [
    {
     "name": "stdout",
     "output_type": "stream",
     "text": [
      "<__main__.Horario object at 0x7ff5825e5730>\n"
     ]
    }
   ],
   "source": [
    "print(hora)"
   ]
  },
  {
   "cell_type": "markdown",
   "metadata": {},
   "source": [
    "Mas, se redefinirmos a classe com o método de representação:"
   ]
  },
  {
   "cell_type": "code",
   "execution_count": 57,
   "metadata": {},
   "outputs": [],
   "source": [
    "class Horario:\n",
    "    def __init__(self, h=0, m=0, s=0):\n",
    "        self.h = h\n",
    "        self.m = m\n",
    "        self.s = s\n",
    "        \n",
    "    def __repr__(self):\n",
    "        representacao = '{:02d}:{:02d}:{:02d}'.format(self.h, self.m, self.s)\n",
    "        return representacao\n",
    "    \n",
    "    def representacao(self):\n",
    "        representacao = '{:02d}:{:02d}:{:02d}'.format(self.h, self.m, self.s)\n",
    "        return representacao\n",
    "    \n",
    "    "
   ]
  },
  {
   "cell_type": "code",
   "execution_count": 59,
   "metadata": {},
   "outputs": [
    {
     "data": {
      "text/plain": [
       "'00:00:00'"
      ]
     },
     "execution_count": 59,
     "metadata": {},
     "output_type": "execute_result"
    }
   ],
   "source": [
    "repr(Horario())"
   ]
  },
  {
   "cell_type": "code",
   "execution_count": 60,
   "metadata": {},
   "outputs": [
    {
     "data": {
      "text/plain": [
       "'00:00:00'"
      ]
     },
     "execution_count": 60,
     "metadata": {},
     "output_type": "execute_result"
    }
   ],
   "source": [
    "Horario().__repr__()"
   ]
  },
  {
   "cell_type": "code",
   "execution_count": 58,
   "metadata": {},
   "outputs": [
    {
     "name": "stdout",
     "output_type": "stream",
     "text": [
      "00:00:00\n"
     ]
    }
   ],
   "source": [
    "print(Horario())"
   ]
  },
  {
   "cell_type": "code",
   "execution_count": 55,
   "metadata": {},
   "outputs": [
    {
     "name": "stdout",
     "output_type": "stream",
     "text": [
      "18:20:00\n"
     ]
    }
   ],
   "source": [
    "hora = Horario(18, 20, 0)\n",
    "print(hora.representacao())"
   ]
  },
  {
   "cell_type": "markdown",
   "metadata": {},
   "source": [
    "### Métodos aritméticos\n",
    "\n",
    "Como o \"+\" é entendido como concatenação entre objetos da classe `str`?\n",
    "\n",
    "Isso se faz através dos __métodos mágicos aritméticos__, que substituem os símbolos aritméticos pelas operações que forem definidas dentro da classe!\n",
    "\n",
    "Temos os seguintes métodos mágicos aritméticos:\n",
    "\n",
    "- \\__add\\__:  soma: +\n",
    "- \\__sub\\__:  subtração: -\n",
    "- \\__mul\\__:  multiplicação: *\n",
    "- \\__truediv\\__:  divisão: /\n",
    "- \\__floordiv\\__:  divisão inteira: //\n",
    "- \\__mod\\__:  resto de divisão: %\n",
    "- \\__pow\\__:  potência: **\n",
    "\n",
    "Vamos, a seguir, definir um método de soma de horas na nossa classe, que vai ser chamado pelo operador aritmético \"+\" (ou seja, será o método `__add__`)"
   ]
  },
  {
   "cell_type": "code",
   "execution_count": 61,
   "metadata": {},
   "outputs": [
    {
     "ename": "TypeError",
     "evalue": "unsupported operand type(s) for +: 'Horario' and 'Horario'",
     "output_type": "error",
     "traceback": [
      "\u001b[0;31m---------------------------------------------------------------------------\u001b[0m",
      "\u001b[0;31mTypeError\u001b[0m                                 Traceback (most recent call last)",
      "\u001b[0;32m<ipython-input-61-58f154719508>\u001b[0m in \u001b[0;36m<module>\u001b[0;34m\u001b[0m\n\u001b[1;32m      1\u001b[0m \u001b[0mh1\u001b[0m \u001b[0;34m=\u001b[0m \u001b[0mHorario\u001b[0m\u001b[0;34m(\u001b[0m\u001b[0mh\u001b[0m\u001b[0;34m=\u001b[0m\u001b[0;36m10\u001b[0m\u001b[0;34m)\u001b[0m\u001b[0;34m\u001b[0m\u001b[0;34m\u001b[0m\u001b[0m\n\u001b[1;32m      2\u001b[0m \u001b[0mh2\u001b[0m \u001b[0;34m=\u001b[0m \u001b[0mHorario\u001b[0m\u001b[0;34m(\u001b[0m\u001b[0mh\u001b[0m\u001b[0;34m=\u001b[0m\u001b[0;36m5\u001b[0m\u001b[0;34m,\u001b[0m \u001b[0mm\u001b[0m\u001b[0;34m=\u001b[0m\u001b[0;36m15\u001b[0m\u001b[0;34m)\u001b[0m\u001b[0;34m\u001b[0m\u001b[0;34m\u001b[0m\u001b[0m\n\u001b[0;32m----> 3\u001b[0;31m \u001b[0mh1\u001b[0m \u001b[0;34m+\u001b[0m \u001b[0mh2\u001b[0m\u001b[0;34m\u001b[0m\u001b[0;34m\u001b[0m\u001b[0m\n\u001b[0m",
      "\u001b[0;31mTypeError\u001b[0m: unsupported operand type(s) for +: 'Horario' and 'Horario'"
     ]
    }
   ],
   "source": [
    "h1 = Horario(h=10)\n",
    "h2 = Horario(h=5, m=15)\n",
    "h1 + h2"
   ]
  },
  {
   "cell_type": "code",
   "execution_count": 79,
   "metadata": {},
   "outputs": [],
   "source": [
    "class Horario:\n",
    "    def __init__(self, h=0, m=0, s=0):\n",
    "        self.h = h\n",
    "        self.m = m\n",
    "        self.s = s\n",
    "        \n",
    "    def __repr__(self):\n",
    "        representacao = '{:02d}:{:02d}:{:02d}'.format(self.h, self.m, self.s)\n",
    "        return representacao\n",
    "    \n",
    "    def representacao(self):\n",
    "        representacao = '{:02d}:{:02d}:{:02d}'.format(self.h, self.m, self.s)\n",
    "        return representacao\n",
    "    \n",
    "    def __add__(self, outro):\n",
    "        s = self.s + outro.s\n",
    "        m = self.m + outro.m + s // 60\n",
    "        h = self.h + outro.h + m // 60\n",
    "        \n",
    "        s %= 60\n",
    "        m %= 60\n",
    "        h %= 24\n",
    "        \n",
    "        return Horario(h, m, s)"
   ]
  },
  {
   "cell_type": "code",
   "execution_count": 81,
   "metadata": {},
   "outputs": [
    {
     "data": {
      "text/plain": [
       "02:10:00"
      ]
     },
     "execution_count": 81,
     "metadata": {},
     "output_type": "execute_result"
    }
   ],
   "source": [
    "h1 = Horario(h=10, m=55)\n",
    "h2 = Horario(h=15, m=15)\n",
    "h3 = h1 + h2 # h1.__add__(h2) \n",
    "h3"
   ]
  },
  {
   "cell_type": "markdown",
   "metadata": {},
   "source": [
    "### Métodos lógicos\n",
    "\n",
    "Da mesma forma que há metódos mágicos para operações aritméticas, há também para **operações lógicas!**\n",
    "\n",
    "Naturalmente, estes métodos retornaram True ou False.\n",
    "\n",
    "Os métodos lógicos são:\n",
    "\n",
    "- \\__gt\\__: maior que (greater than): >\n",
    "- \\__ge\\__: maior ou igual (greater or equal): >=\n",
    "- \\__lt\\__: menor que (less than): <\n",
    "- \\__le\\__: menor ou igual (less or equal): <=\n",
    "- \\__eq\\__: igual (equal): ==\n",
    "- \\__ne\\__: diferente (not equal): !=\n",
    "\n",
    "\n",
    "Como fazer um método para comparar dois horários?\n"
   ]
  },
  {
   "cell_type": "code",
   "execution_count": 82,
   "metadata": {},
   "outputs": [],
   "source": [
    "class Horario:\n",
    "    def __init__(self, h=0, m=0, s=0):\n",
    "        self.h = h\n",
    "        self.m = m\n",
    "        self.s = s\n",
    "        \n",
    "    def __repr__(self):\n",
    "        representacao = '{:02d}:{:02d}:{:02d}'.format(self.h, self.m, self.s)\n",
    "        return representacao\n",
    "    \n",
    "    def representacao(self):\n",
    "        representacao = '{:02d}:{:02d}:{:02d}'.format(self.h, self.m, self.s)\n",
    "        return representacao\n",
    "    \n",
    "    def __add__(self, outro):\n",
    "        s = self.s + outro.s\n",
    "        m = self.m + outro.m + s // 60\n",
    "        h = self.h + outro.h + m // 60\n",
    "        \n",
    "        s %= 60\n",
    "        m %= 60\n",
    "        h %= 24\n",
    "    \n",
    "    def __gt__(self, outro):\n",
    "        if self.h > outro.h:\n",
    "            return True\n",
    "        elif self.h < outro.h:\n",
    "            return False\n",
    "        \n",
    "        if self.m > outro.m:\n",
    "            return True\n",
    "        elif self.m < outro.m:\n",
    "            return False\n",
    "        \n",
    "        if self.s > outro.s:\n",
    "            return True\n",
    "        elif self.s < outro.s:\n",
    "            return False\n",
    "        \n",
    "        return false"
   ]
  },
  {
   "cell_type": "code",
   "execution_count": 83,
   "metadata": {},
   "outputs": [
    {
     "data": {
      "text/plain": [
       "False"
      ]
     },
     "execution_count": 83,
     "metadata": {},
     "output_type": "execute_result"
    }
   ],
   "source": [
    "h1 = Horario(h=10)\n",
    "h2 = Horario(h=5, m=15)\n",
    "h1 < h2 # h1.__gt__(h2) \n"
   ]
  },
  {
   "cell_type": "code",
   "execution_count": null,
   "metadata": {},
   "outputs": [],
   "source": [
    "class Horario:\n",
    "    def __init__(self, h=0, m=0, s=0):\n",
    "        self.h = h\n",
    "        self.m = m\n",
    "        self.s = s\n",
    "        \n",
    "    def __repr__(self):\n",
    "        representacao = '{:02d}:{:02d}:{:02d}'.format(self.h, self.m, self.s)\n",
    "        return representacao"
   ]
  },
  {
   "cell_type": "markdown",
   "metadata": {},
   "source": [
    "### Exercicio\n",
    "Adicione o método `__repr__()` que retorna uma `string` que informa a posição do robô e em\n",
    "qual direção ele está olhando."
   ]
  },
  {
   "cell_type": "code",
   "execution_count": 84,
   "metadata": {},
   "outputs": [
    {
     "name": "stdout",
     "output_type": "stream",
     "text": [
      "Posição: 10, 5. Direção: n\n"
     ]
    }
   ],
   "source": [
    "class Robot:\n",
    "    def __init__(self, x=0, y=0, direcao='n'):\n",
    "        self.x = x\n",
    "        self.y = y\n",
    "        self.direcao = direcao\n",
    "    \n",
    "    def virar_esquerda(self):\n",
    "        mapping = {\n",
    "            'n': 'o',\n",
    "            'o': 's', \n",
    "            's': 'l',\n",
    "            'l': 'n'\n",
    "        }\n",
    "        self.direcao = mapping[self.direcao]\n",
    "    \n",
    "    def virar_direita(self):\n",
    "        mapping = {\n",
    "            'n': 'l',\n",
    "            'l': 's',\n",
    "            's': 'o',\n",
    "            'o': 'n' \n",
    "        }\n",
    "        self.direcao = mapping[self.direcao]\n",
    "    \n",
    "    def avancar(self, i):\n",
    "        if self.direcao == 'n':\n",
    "            self.y += i\n",
    "        elif self.direcao == 'o':\n",
    "            self.x -= i\n",
    "        elif self.direcao == 's':\n",
    "            self.y -= i\n",
    "        else:\n",
    "            self.x += i\n",
    "    \n",
    "    @staticmethod \n",
    "    def convert_coordinate(x, y): \n",
    "        r = (x**2 + y**2)**(1/2) \n",
    "        theta = math.atan2(y, x) \n",
    "        return r, theta \n",
    "    \n",
    "    def distancia(self, r):\n",
    "        return ((self.x - r.x) ** 2 + (self.y - r.y) ** 2) ** 0.5\n",
    "    \n",
    "    def __repr__(self):\n",
    "        posicao = 'Posição: {0}, {1}. Direção: {2}'.format(self.x, self.y, self.direcao)\n",
    "        return posicao \n",
    "    \n",
    "print(Robot(10, 5, 'n'))"
   ]
  },
  {
   "cell_type": "markdown",
   "metadata": {},
   "source": [
    "### Curiosidade de programação: Qual o motivo do comportamento a seguir?"
   ]
  },
  {
   "cell_type": "code",
   "execution_count": 85,
   "metadata": {},
   "outputs": [
    {
     "data": {
      "text/plain": [
       "[10]"
      ]
     },
     "execution_count": 85,
     "metadata": {},
     "output_type": "execute_result"
    }
   ],
   "source": [
    "def func(a = []):\n",
    "    a.append(10)\n",
    "    return a\n",
    "\n",
    "func()"
   ]
  },
  {
   "cell_type": "code",
   "execution_count": 86,
   "metadata": {},
   "outputs": [
    {
     "data": {
      "text/plain": [
       "[10, 10]"
      ]
     },
     "execution_count": 86,
     "metadata": {},
     "output_type": "execute_result"
    }
   ],
   "source": [
    "func()"
   ]
  },
  {
   "cell_type": "markdown",
   "metadata": {},
   "source": [
    "___\n",
    "___\n",
    "___"
   ]
  },
  {
   "cell_type": "markdown",
   "metadata": {},
   "source": [
    "## 5) Herança e Polimorfismo"
   ]
  },
  {
   "cell_type": "markdown",
   "metadata": {},
   "source": [
    "Imagine que você tenha várias classes com os mesmos atributos, os mesmos métodos e mesmos parâmetros. \n",
    "\n",
    "Reescrevê-los várias vezes é um desperdício de tempo! Além disso, se pecisarmos atualizar um método, precisaremos fazer a modificação múltiplas vezes. \n",
    "\n",
    "Para solucionar esta questão, trateremos dos conceitos de **herança** e **polimorfismo**.\n"
   ]
  },
  {
   "cell_type": "markdown",
   "metadata": {},
   "source": [
    "### Herança\n",
    "\n",
    "É possível criar **classes filhas** que herdem atributos e métodos de uma **classe mãe** através de **herança**.\n",
    "\n",
    "Para herdar, colocamos o **nome da classe mãe entre parênteses** na frente do nome da classe filha em sua definição.\n",
    "\n",
    "Se necessário, podemos redefinir um método na classe filha."
   ]
  },
  {
   "cell_type": "code",
   "execution_count": null,
   "metadata": {},
   "outputs": [],
   "source": []
  },
  {
   "cell_type": "markdown",
   "metadata": {},
   "source": [
    "Imagine agora que queremos herdar um método **parcialmente**, com a possibilidade de alterá-lo.\n",
    "\n",
    "(Isso é importante, pois se apenas copiássemos o método original, qualquer alteração nele teria de ser feita em todos os locais onde ele é copiado...)\n",
    "\n",
    "Para isso, usamos o método `super()`"
   ]
  },
  {
   "cell_type": "code",
   "execution_count": null,
   "metadata": {},
   "outputs": [],
   "source": []
  },
  {
   "cell_type": "markdown",
   "metadata": {},
   "source": [
    "### Polimorfismo\n",
    "\n",
    "Do grego, **\"várias formas\"**. A ideia é que um objeto de uma certa classe pode se comportar como objeto de outras classes. \n",
    "\n",
    "Mais especificamente, **objetos de uma classe filha podem também ser tratados como se pertencessem à classe mãe**.\n",
    "\n",
    "O método `isinstance` recebe 2 parâmetros: um objeto e uma classe. \n",
    "\n",
    "Ele retorna True caso o objeto pertenca à classe, e False caso não pertença."
   ]
  },
  {
   "cell_type": "code",
   "execution_count": null,
   "metadata": {},
   "outputs": [],
   "source": []
  },
  {
   "cell_type": "markdown",
   "metadata": {},
   "source": [
    "Isso é útil porque uma função que seja feita para lidar com Animal será capaz de lidar com qualquer classe herdeira de Animal com a mesma facilidade."
   ]
  },
  {
   "cell_type": "markdown",
   "metadata": {},
   "source": [
    "### Exercicio\n",
    "Vamo criar um robo rápido e um robo lento. Ambos vão ser subclasses de Robo. Elas devem implementar o método `avancar(i)`, avancando o dobro e a metade do valor de entrada, respectivamente. \n",
    "\n",
    "Depois, vamos criar uma função que aceita uma lista de movimentos do robo, com letras `r` ou `l` indicando as rotações e inteiros indicando movimentos. A função terá a seguinte assinatura:\n",
    "\n",
    "```python\n",
    "def executa_percurso(robo, percurso):\n",
    "    ...\n",
    "```"
   ]
  },
  {
   "cell_type": "code",
   "execution_count": null,
   "metadata": {},
   "outputs": [],
   "source": []
  }
 ],
 "metadata": {
  "kernelspec": {
   "display_name": "Python 3",
   "language": "python",
   "name": "python3"
  },
  "language_info": {
   "codemirror_mode": {
    "name": "ipython",
    "version": 3
   },
   "file_extension": ".py",
   "mimetype": "text/x-python",
   "name": "python",
   "nbconvert_exporter": "python",
   "pygments_lexer": "ipython3",
   "version": "3.8.3"
  }
 },
 "nbformat": 4,
 "nbformat_minor": 4
}
